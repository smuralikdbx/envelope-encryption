{
 "cells": [
  {
   "cell_type": "markdown",
   "metadata": {
    "application/vnd.databricks.v1+cell": {
     "cellMetadata": {},
     "inputWidgets": {},
     "nuid": "0752bb96-c089-4437-ad87-0a5c63d9293f",
     "showTitle": false,
     "tableResultSettingsMap": {},
     "title": ""
    }
   },
   "source": [
    "Install Faker"
   ]
  },
  {
   "cell_type": "code",
   "execution_count": 0,
   "metadata": {
    "application/vnd.databricks.v1+cell": {
     "cellMetadata": {
      "byteLimit": 2048000,
      "rowLimit": 10000
     },
     "inputWidgets": {},
     "nuid": "1699f20b-7c08-4637-a836-658d0341af53",
     "showTitle": false,
     "tableResultSettingsMap": {},
     "title": ""
    }
   },
   "outputs": [
    {
     "output_type": "stream",
     "name": "stdout",
     "output_type": "stream",
     "text": [
      "Collecting faker\n  Downloading faker-37.4.0-py3-none-any.whl.metadata (15 kB)\nCollecting tzdata (from faker)\n  Downloading tzdata-2025.2-py2.py3-none-any.whl.metadata (1.4 kB)\nDownloading faker-37.4.0-py3-none-any.whl (1.9 MB)\n\u001B[?25l   \u001B[90m━━━━━━━━━━━━━━━━━━━━━━━━━━━━━━━━━━━━━━━━\u001B[0m \u001B[32m0.0/1.9 MB\u001B[0m \u001B[31m?\u001B[0m eta \u001B[36m-:--:--\u001B[0m\n\u001B[2K   \u001B[91m━━━━━━━━━━━━━━━━━━━━━━━━━━━━━━━━━━━━━━━\u001B[0m\u001B[91m╸\u001B[0m \u001B[32m1.9/1.9 MB\u001B[0m \u001B[31m61.0 MB/s\u001B[0m eta \u001B[36m0:00:01\u001B[0m\n\u001B[2K   \u001B[90m━━━━━━━━━━━━━━━━━━━━━━━━━━━━━━━━━━━━━━━━\u001B[0m \u001B[32m1.9/1.9 MB\u001B[0m \u001B[31m39.8 MB/s\u001B[0m eta \u001B[36m0:00:00\u001B[0m\n\u001B[?25hDownloading tzdata-2025.2-py2.py3-none-any.whl (347 kB)\n\u001B[?25l   \u001B[90m━━━━━━━━━━━━━━━━━━━━━━━━━━━━━━━━━━━━━━━━\u001B[0m \u001B[32m0.0/347.8 kB\u001B[0m \u001B[31m?\u001B[0m eta \u001B[36m-:--:--\u001B[0m\n\u001B[2K   \u001B[90m━━━━━━━━━━━━━━━━━━━━━━━━━━━━━━━━━━━━━━━━\u001B[0m \u001B[32m347.8/347.8 kB\u001B[0m \u001B[31m24.7 MB/s\u001B[0m eta \u001B[36m0:00:00\u001B[0m\n\u001B[?25hInstalling collected packages: tzdata, faker\nSuccessfully installed faker-37.4.0 tzdata-2025.2\n\u001B[43mNote: you may need to restart the kernel using %restart_python or dbutils.library.restartPython() to use updated packages.\u001B[0m\n"
     ]
    }
   ],
   "source": [
    "pip install faker"
   ]
  },
  {
   "cell_type": "code",
   "execution_count": 0,
   "metadata": {
    "application/vnd.databricks.v1+cell": {
     "cellMetadata": {
      "byteLimit": 2048000,
      "rowLimit": 10000
     },
     "inputWidgets": {},
     "nuid": "4ba2417f-c8de-4316-bdbe-0589dcd3dfa4",
     "showTitle": false,
     "tableResultSettingsMap": {},
     "title": ""
    }
   },
   "outputs": [],
   "source": [
    "%restart_python"
   ]
  },
  {
   "cell_type": "markdown",
   "metadata": {
    "application/vnd.databricks.v1+cell": {
     "cellMetadata": {},
     "inputWidgets": {},
     "nuid": "2f998b55-9afa-41a4-94d7-e44280e70f70",
     "showTitle": false,
     "tableResultSettingsMap": {},
     "title": ""
    }
   },
   "source": [
    "Generate synthetic dataset with a few PCI / PII attributes"
   ]
  },
  {
   "cell_type": "code",
   "execution_count": 0,
   "metadata": {
    "application/vnd.databricks.v1+cell": {
     "cellMetadata": {
      "byteLimit": 2048000,
      "rowLimit": 10000
     },
     "inputWidgets": {},
     "nuid": "6b6cf371-ea0b-459f-8bd7-db350c1e0017",
     "showTitle": false,
     "tableResultSettingsMap": {},
     "title": ""
    }
   },
   "outputs": [],
   "source": [
    "from pyspark.sql import SparkSession\n",
    "from pyspark.sql.types import StructType, StructField, StringType\n",
    "from faker import Faker\n",
    "import random\n",
    "import string\n",
    "\n",
    "# Initialize Spark Session\n",
    "spark = SparkSession.builder.appName(\"PII_PCI_Dataset\").getOrCreate()\n",
    "\n",
    "fake = Faker()\n",
    "\n",
    "# Function to generate valid credit card details\n",
    "def generate_credit_card():\n",
    "    card_number = fake.credit_card_number(card_type=None)  # Generates a random credit card number\n",
    "    expiry_date = fake.credit_card_expire()  # Random expiration date\n",
    "    cvv = fake.credit_card_security_code()  # Random CVV\n",
    "    return card_number, expiry_date, cvv\n",
    "\n",
    "\n",
    "# Function to generate a fake PAN number (format: ABCDE1234F)\n",
    "# def generate_pan_number():\n",
    "#     letters = ''.join(random.choices(string.ascii_uppercase, k=5))  # First 5 letters\n",
    "#     digits = ''.join(random.choices(string.digits, k=4))  # Next 4 digits\n",
    "#     last_letter = random.choice(string.ascii_uppercase)  # Last letter\n",
    "#     return f\"{letters}{digits}{last_letter}\"\n",
    "\n",
    "# Function to generate a fake PAN number (format: ABCDE1234F)\n",
    "def generate_pan_number():\n",
    "    digits = ''.join(random.choices(string.digits, k=16))  \n",
    "    return f\"{digits}\"\n",
    "\n",
    "# Generate sample data\n",
    "data = []\n",
    "for _ in range(1000):  # Adjust number of records as needed\n",
    "    card_number, expiry_date, cvv = generate_credit_card()\n",
    "    pan_number = generate_pan_number()\n",
    "    data.append((\n",
    "        fake.name(),\n",
    "        fake.email(),\n",
    "        fake.phone_number(),\n",
    "        fake.date_of_birth(minimum_age=18, maximum_age=80).strftime(\"%Y-%m-%d\"),\n",
    "        fake.ssn(),\n",
    "        pan_number,\n",
    "        fake.address(),\n",
    "        #card_number,\n",
    "        expiry_date,\n",
    "        #cvv,\n",
    "        fake.company() + \" Bank\"\n",
    "    ))\n",
    "\n",
    "# Define Schema for Spark DataFrame\n",
    "schema = StructType([\n",
    "    StructField(\"full_name\", StringType(), True),\n",
    "    StructField(\"email\", StringType(), True),\n",
    "    StructField(\"phone_number\", StringType(), True),\n",
    "    StructField(\"dob\", StringType(), True),\n",
    "    StructField(\"ssn\", StringType(), True),\n",
    "    StructField(\"pan\", StringType(), True),\n",
    "    StructField(\"address\", StringType(), True),\n",
    "    #StructField(\"ccn\", StringType(), True),\n",
    "    StructField(\"exp_date\", StringType(), True),\n",
    "    #StructField(\"cvv\", StringType(), True),\n",
    "    StructField(\"bank_name\", StringType(), True),\n",
    "])\n",
    "\n",
    "# Create Spark DataFrame\n",
    "df = spark.createDataFrame(data, schema=schema)\n",
    "\n",
    "# Show Sample Data\n",
    "#df.show(truncate=False)\n",
    "#display(df)"
   ]
  },
  {
   "cell_type": "markdown",
   "metadata": {
    "application/vnd.databricks.v1+cell": {
     "cellMetadata": {},
     "inputWidgets": {},
     "nuid": "c52e55ae-4f32-4f75-b73b-8af89e3ad77d",
     "showTitle": false,
     "tableResultSettingsMap": {},
     "title": ""
    }
   },
   "source": [
    "Create and load the snthetic data to a table in landing catalog"
   ]
  },
  {
   "cell_type": "code",
   "execution_count": 0,
   "metadata": {
    "application/vnd.databricks.v1+cell": {
     "cellMetadata": {
      "byteLimit": 2048000,
      "implicitDf": true,
      "rowLimit": 10000
     },
     "inputWidgets": {},
     "nuid": "2498d2b3-3e79-4ed6-8bb0-3eb272c54abf",
     "showTitle": false,
     "tableResultSettingsMap": {},
     "title": ""
    }
   },
   "outputs": [],
   "source": [
    "%sql\n",
    "create or replace table envlp_encryp_landing.pci_pii_dataset.customer_records_1 (\n",
    "  full_name string,\n",
    "  email string,\n",
    "  phone_number string,\n",
    "  dob string,\n",
    "  ssn string,\n",
    "  pan string,\n",
    "  address string,\n",
    "  exp_date string,\n",
    "  bank_name string\n",
    "  );"
   ]
  },
  {
   "cell_type": "code",
   "execution_count": 0,
   "metadata": {
    "application/vnd.databricks.v1+cell": {
     "cellMetadata": {
      "byteLimit": 2048000,
      "rowLimit": 10000
     },
     "inputWidgets": {},
     "nuid": "a2dfef8e-61bb-4b84-80fa-c4198ee9d6c5",
     "showTitle": false,
     "tableResultSettingsMap": {},
     "title": ""
    }
   },
   "outputs": [],
   "source": [
    "df.write.format(\"delta\")\\\n",
    "    .mode(\"append\")\\\n",
    "    .saveAsTable(\"envlp_encryp_landing.pci_pii_dataset.customer_records_1\")"
   ]
  }
 ],
 "metadata": {
  "application/vnd.databricks.v1+notebook": {
   "computePreferences": null,
   "dashboards": [],
   "environmentMetadata": {
    "base_environment": "",
    "environment_version": "2"
   },
   "inputWidgetPreferences": null,
   "language": "python",
   "notebookMetadata": {
    "mostRecentlyExecutedCommandWithImplicitDF": {
     "commandId": 1426291317561181,
     "dataframes": [
      "_sqldf"
     ]
    },
    "pythonIndentUnit": 2
   },
   "notebookName": "0_generate synthetic_pci_and_pii_data",
   "widgets": {}
  },
  "language_info": {
   "name": "python"
  }
 },
 "nbformat": 4,
 "nbformat_minor": 0
}