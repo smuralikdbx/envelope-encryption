{
 "cells": [
  {
   "cell_type": "markdown",
   "metadata": {
    "application/vnd.databricks.v1+cell": {
     "cellMetadata": {},
     "inputWidgets": {},
     "nuid": "c82ae652-aab6-4e30-9ba4-cf54d443cd3b",
     "showTitle": false,
     "tableResultSettingsMap": {},
     "title": ""
    }
   },
   "source": [
    "Define the widgets for all the variables that can be parameterized"
   ]
  },
  {
   "cell_type": "code",
   "execution_count": 0,
   "metadata": {
    "application/vnd.databricks.v1+cell": {
     "cellMetadata": {},
     "inputWidgets": {},
     "nuid": "a4773727-4c7c-45c8-8389-4084b3437032",
     "showTitle": false,
     "tableResultSettingsMap": {},
     "title": ""
    }
   },
   "outputs": [],
   "source": [
    "def register_widgets():\n",
    "  dbutils.widgets.text(\"envlp_encryp_core_catalog_name\", \"\", \"\")\n",
    "  dbutils.widgets.text(\"envlp_encryp_landing_catalog_name\", \"\", \"\")\n",
    "  dbutils.widgets.text(\"envlp_encryp_vault_catalog_name\", \"\", \"\")\n",
    "  dbutils.widgets.text(\"envlp_encryp_anonymized_catalog_name\", \"\", \"\")\n",
    "  dbutils.widgets.text(\"envlp_encryp_decrypt_dsk_function_name\", \"\", \"\")\n",
    "  dbutils.widgets.text(\"envlp_encryp_generate_kek_dsk_function_name\", \"\", \"\")\n",
    "  dbutils.widgets.text(\"envlp_encryp_secret_scope_name\", \"\", \"\")\n",
    "  dbutils.widgets.text(\"envlp_encryp_sp_tenant_id_key\", \"\", \"\")\n",
    "  dbutils.widgets.text(\"envlp_encryp_sp_client_id_key\", \"\", \"\")\n",
    "  dbutils.widgets.text(\"envlp_encryp_sp_client_secret_key\", \"\", \"\")\n",
    "  dbutils.widgets.text(\"envlp_encryp_key_vault_name\", \"\", \"\")\n",
    "  dbutils.widgets.text(\"envlp_encryp_classifier_volume_location\", \"\", \"\")\n",
    "  dbutils.widgets.text(\"dataframe_results_volume_location\", \"\", \"\")\n",
    "  dbutils.widgets.text(\"envlp_encryp_aes_decrypt_key\", \"\", \"\")"
   ]
  },
  {
   "cell_type": "markdown",
   "metadata": {
    "application/vnd.databricks.v1+cell": {
     "cellMetadata": {},
     "inputWidgets": {},
     "nuid": "d5b7e2e9-0158-4ae5-86e4-6d65a0a37b6e",
     "showTitle": false,
     "tableResultSettingsMap": {},
     "title": ""
    }
   },
   "source": [
    "To get the values for all the defined widgets and get it as a dictionary"
   ]
  },
  {
   "cell_type": "code",
   "execution_count": 0,
   "metadata": {
    "application/vnd.databricks.v1+cell": {
     "cellMetadata": {},
     "inputWidgets": {},
     "nuid": "04664e3b-ca3a-4527-a3ce-01ffa5a839f5",
     "showTitle": false,
     "tableResultSettingsMap": {},
     "title": ""
    }
   },
   "outputs": [],
   "source": [
    "def get_parameters():\n",
    "  all_args = dict(dbutils.notebook.entry_point.getCurrentBindings())\n",
    "\n",
    "  # Clean up keys (e.g., remove '--' prefix if present)\n",
    "  all_args = {key.replace('--', ''): value for key, value in all_args.items()}\n",
    "\n",
    "  # No need for literal_eval since all values are strings\n",
    "  return all_args"
   ]
  }
 ],
 "metadata": {
  "application/vnd.databricks.v1+notebook": {
   "computePreferences": null,
   "dashboards": [],
   "environmentMetadata": {
    "base_environment": "",
    "environment_version": "2"
   },
   "inputWidgetPreferences": null,
   "language": "python",
   "notebookMetadata": {
    "pythonIndentUnit": 2
   },
   "notebookName": "register_widgets",
   "widgets": {}
  },
  "language_info": {
   "name": "python"
  }
 },
 "nbformat": 4,
 "nbformat_minor": 0
}