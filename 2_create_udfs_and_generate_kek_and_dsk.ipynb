{
 "cells": [
  {
   "cell_type": "markdown",
   "metadata": {
    "application/vnd.databricks.v1+cell": {
     "cellMetadata": {},
     "inputWidgets": {},
     "nuid": "bb711c26-2f45-4add-9570-75c9991c5ec9",
     "showTitle": false,
     "tableResultSettingsMap": {},
     "title": ""
    }
   },
   "source": [
    "Define the Widgets for variables that need to be parameterized in this notebook"
   ]
  },
  {
   "cell_type": "code",
   "execution_count": 0,
   "metadata": {
    "application/vnd.databricks.v1+cell": {
     "cellMetadata": {
      "byteLimit": 2048000,
      "rowLimit": 10000
     },
     "inputWidgets": {},
     "nuid": "54735e93-dc51-4c63-8643-eac7d429adc0",
     "showTitle": false,
     "tableResultSettingsMap": {},
     "title": ""
    }
   },
   "outputs": [],
   "source": [
    "%sql\n",
    "CREATE WIDGET TEXT secure_core_catalog_name DEFAULT \"\";\n",
    "CREATE WIDGET TEXT secure_core_generate_kek_dsk_function_name DEFAULT \"\";\n",
    "CREATE WIDGET TEXT secure_core_get_decrypted_dsk_function_name DEFAULT \"\";\n",
    "CREATE WIDGET TEXT secure_core_key_vault_name DEFAULT \"\";\n",
    "CREATE WIDGET TEXT secure_core_pci_pii_attribute_table_name DEFAULT \"\";"
   ]
  },
  {
   "cell_type": "code",
   "execution_count": 0,
   "metadata": {
    "application/vnd.databricks.v1+cell": {
     "cellMetadata": {
      "byteLimit": 2048000,
      "rowLimit": 10000
     },
     "inputWidgets": {},
     "nuid": "86646986-cc8c-41a4-a3e8-6f8b6fea55cf",
     "showTitle": false,
     "tableResultSettingsMap": {},
     "title": ""
    }
   },
   "outputs": [],
   "source": [
    "%python\n",
    "import os\n",
    "DATABRICKS_DEFAULT_SERVICE_CREDENTIAL_NAME = os.getenv(\"DATABRICKS_DEFAULT_SERVICE_CREDENTIAL_NAME\")\n",
    "print(DATABRICKS_DEFAULT_SERVICE_CREDENTIAL_NAME)\n",
    "dbutils.widgets.text(\"DATABRICKS_DEFAULT_SERVICE_CREDENTIAL_NAME\", DATABRICKS_DEFAULT_SERVICE_CREDENTIAL_NAME)"
   ]
  },
  {
   "cell_type": "markdown",
   "metadata": {
    "application/vnd.databricks.v1+cell": {
     "cellMetadata": {},
     "inputWidgets": {},
     "nuid": "919f7aec-c191-4058-b1ad-547ee943d5be",
     "showTitle": false,
     "tableResultSettingsMap": {},
     "title": ""
    }
   },
   "source": [
    "Create a Python backed SQL UDF to generate the KEK (Key Encryption Key) and DSK (Data Salt Key) for each of the PCI and PII attributes and store the KEK as Keys and DSK as secrets in key vault. The DSK will be encrypted using the respective KEK prior to storing as secrets."
   ]
  },
  {
   "cell_type": "code",
   "execution_count": 0,
   "metadata": {
    "application/vnd.databricks.v1+cell": {
     "cellMetadata": {
      "byteLimit": 2048000,
      "rowLimit": 10000
     },
     "inputWidgets": {},
     "nuid": "b8bce8f3-c31d-4316-9e3b-6035b2c9e21a",
     "showTitle": false,
     "tableResultSettingsMap": {},
     "title": ""
    }
   },
   "outputs": [],
   "source": [
    "%sql\n",
    "CREATE OR REPLACE FUNCTION `${secure_core_catalog_name}`.default.${secure_core_generate_kek_dsk_function_name}(\n",
    "  key_vault_url    STRING,\n",
    "  kek_name         STRING,\n",
    "  dsk_secret_name  STRING\n",
    ")\n",
    "RETURNS STRING\n",
    "LANGUAGE PYTHON\n",
    "PARAMETER STYLE PANDAS\n",
    "HANDLER 'generate_kek_dsk_batch'\n",
    "CREDENTIALS (`${DATABRICKS_DEFAULT_SERVICE_CREDENTIAL_NAME}` DEFAULT)\n",
    "ENVIRONMENT (\n",
    "  dependencies = '[\n",
    "      \"/Volumes/edai-00001-dev-a01-masking/default/python_packages/azure_identity-1.16.0-py3-none-any.whl\",\n",
    "      \"/Volumes/edai-00001-dev-a01-masking/default/python_packages/azure_keyvault_keys-4.8.0-py3-none-any.whl\",\n",
    "      \"/Volumes/edai-00001-dev-a01-masking/default/python_packages/azure_keyvault_secrets-4.8.0-py3-none-any.whl\",\n",
    "      \"/Volumes/edai-00001-dev-a01-masking/default/python_packages/msal-1.32.3-py3-none-any.whl\",\n",
    "      \"/Volumes/edai-00001-dev-a01-masking/default/python_packages/msal_extensions-1.3.1-py3-none-any.whl\",\n",
    "      \"/Volumes/edai-00001-dev-a01-masking/default/python_packages/azure_common-1.1.28-py2.py3-none-any.whl\"\n",
    "  ]',\n",
    "  environment_version = 'None'\n",
    ")\n",
    "AS\n",
    "$$\n",
    "from datetime import datetime, timedelta\n",
    "import os, base64\n",
    "import pandas as pd\n",
    "from typing import Iterator, Tuple\n",
    "\n",
    "from azure.identity import DefaultAzureCredential\n",
    "from azure.keyvault.keys import KeyClient, KeyRotationPolicy, KeyRotationLifetimeAction, KeyRotationPolicyAction\n",
    "from azure.keyvault.keys.crypto import CryptographyClient, EncryptionAlgorithm\n",
    "from azure.keyvault.secrets import SecretClient\n",
    "from azure.core.exceptions import ResourceNotFoundError\n",
    "\n",
    "_credential = DefaultAzureCredential()\n",
    "# ------------------------------------------------------------------\n",
    "# Small client cache keyed by Key Vault URL\n",
    "# ------------------------------------------------------------------\n",
    "_client_cache = {}\n",
    "_CACHE_TTL_SEC = 300  # 5 minutes\n",
    "\n",
    "def _get_clients(vault_url: str):\n",
    "    from time import time\n",
    "    current_time = time()\n",
    "    \n",
    "    if vault_url not in _client_cache or current_time - _client_cache[vault_url][\"timestamp\"] > _CACHE_TTL_SEC:\n",
    "        try:\n",
    "            _client_cache[vault_url] = {\n",
    "                \"clients\": (\n",
    "                    KeyClient(vault_url=vault_url, credential=_credential),\n",
    "                    SecretClient(vault_url=vault_url, credential=_credential)\n",
    "                ),\n",
    "                \"timestamp\": current_time\n",
    "            }\n",
    "        except ClientAuthenticationError as e:\n",
    "            raise PermissionError(f\"Authentication failed for {vault_url}: {str(e)}\")\n",
    "    \n",
    "    return _client_cache[vault_url][\"clients\"]\n",
    "    \n",
    "def generate_kek_dsk_batch(\n",
    "    batches: Iterator[Tuple[pd.Series, pd.Series, pd.Series]]) -> Iterator[pd.Series]:\n",
    "\n",
    "    for key_vault_url_s, kek_name_s, dsk_secret_name_s in batches:\n",
    "        results = []\n",
    "\n",
    "        for vault_url, kek_name, dsk_name in zip(key_vault_url_s, kek_name_s, dsk_secret_name_s):\n",
    "\n",
    "            key_client, secret_client = _get_clients(vault_url)\n",
    "\n",
    "            # ---- 1. ensure KEK exists (& add rotation policy) ----------\n",
    "            try:\n",
    "                kek = key_client.get_key(kek_name)\n",
    "                kek_message = f\"KEK '{kek_name}' exists (version: {kek.properties.version}).\"\n",
    "            except ResourceNotFoundError:\n",
    "                expires = datetime.utcnow() + timedelta(days=365)\n",
    "                kek = key_client.create_rsa_key(\n",
    "                    name       = kek_name,\n",
    "                    size       = 2048\n",
    "                )\n",
    "\n",
    "                key_client.update_key_properties(\n",
    "                    name=kek_name,\n",
    "                    expires_on=expires\n",
    "                )\n",
    "                \n",
    "                try:\n",
    "                    rotation_policy = KeyRotationPolicy(\n",
    "                        expires_in=\"P2Y\",\n",
    "                        lifetime_actions=[\n",
    "                            KeyRotationLifetimeAction(\n",
    "                                time_after_create=\"P18M\",\n",
    "                                action=KeyRotationPolicyAction.rotate\n",
    "                            ),\n",
    "                            KeyRotationLifetimeAction(\n",
    "                                time_before_expiry=\"P30D\",\n",
    "                                action=KeyRotationPolicyAction.notify\n",
    "                            )\n",
    "                        ]\n",
    "                    )\n",
    "                    key_client.update_key_rotation_policy(kek_name, rotation_policy)\n",
    "                    kek_message = f\"KEK {kek_name} created with rotation policy enabled.\"\n",
    "                except Exception as e:\n",
    "                    kek_message = f\"Error in creating KEK {str(e)}\"\n",
    "\n",
    "            # ---- 2. skip if DSK already exists -------------------------\n",
    "            try:\n",
    "                secret_client.get_secret(dsk_name)\n",
    "                results.append(f\"{kek_message} DSK secret '{dsk_name}' already exists – skipped creation.\")\n",
    "                continue\n",
    "            except ResourceNotFoundError:\n",
    "                pass\n",
    "\n",
    "            # ---- 3. generate & encrypt new DSK ------------------------\n",
    "            dsk_raw = os.urandom(32)                                    # 256-bit\n",
    "            dsk_b64 = base64.urlsafe_b64encode(dsk_raw).decode().rstrip(\"=\")\n",
    "\n",
    "            crypto_client = CryptographyClient(kek.id, credential=_credential)\n",
    "            enc = crypto_client.encrypt(EncryptionAlgorithm.rsa_oaep_256,\n",
    "                                        dsk_b64.encode(\"utf-8\"))\n",
    "            encrypted_dsk_b64 = base64.b64encode(enc.ciphertext).decode()\n",
    "\n",
    "            # ---- 4. store DSK with KEK-version tag --------------------\n",
    "            secret_client.set_secret(\n",
    "                name = dsk_name,\n",
    "                value = encrypted_dsk_b64,\n",
    "                tags  = {\"kek_version\": kek.properties.version},\n",
    "                content_type = \"encrypted_dsk_base64\"\n",
    "            )\n",
    "\n",
    "            results.append(f\"{kek_message} DSK '{dsk_name}' encrypted & stored.\")\n",
    "\n",
    "        yield pd.Series(results)\n",
    "$$;"
   ]
  },
  {
   "cell_type": "markdown",
   "metadata": {
    "application/vnd.databricks.v1+cell": {
     "cellMetadata": {},
     "inputWidgets": {},
     "nuid": "1fcc8dbd-8809-472f-b187-9afe8593a48e",
     "showTitle": false,
     "tableResultSettingsMap": {},
     "title": ""
    }
   },
   "source": [
    "Call the function to generate the KEK and DSK for each PCI / PII attribute"
   ]
  },
  {
   "cell_type": "code",
   "execution_count": 0,
   "metadata": {
    "application/vnd.databricks.v1+cell": {
     "cellMetadata": {
      "byteLimit": 2048000,
      "rowLimit": 10000
     },
     "inputWidgets": {},
     "nuid": "0313ec6a-282b-4dce-bd8a-9e3ddecbfbea",
     "showTitle": false,
     "tableResultSettingsMap": {},
     "title": ""
    }
   },
   "outputs": [],
   "source": [
    "%sql\n",
    "SELECT pci_pii_attribute_name, kek_name, dsk_name, `${secure_core_catalog_name}`.default.${secure_core_generate_kek_dsk_function_name}(\n",
    "  '${secure_core_key_vault_name}',\n",
    "  kek_name,\n",
    "  dsk_name\n",
    ") as generated_kek_dsk FROM `${secure_core_catalog_name}`.default.${secure_core_pci_pii_attribute_table_name};"
   ]
  },
  {
   "cell_type": "markdown",
   "metadata": {
    "application/vnd.databricks.v1+cell": {
     "cellMetadata": {},
     "inputWidgets": {},
     "nuid": "78abc307-446e-483d-a8c6-d98145aef6df",
     "showTitle": false,
     "tableResultSettingsMap": {},
     "title": ""
    }
   },
   "source": [
    "Create a Python backed SQL UDF to get the decrypted DSK (Data Salt Key) to be used for hashing the PCI / PII attributes while loading to vault catalog."
   ]
  },
  {
   "cell_type": "code",
   "execution_count": 0,
   "metadata": {
    "application/vnd.databricks.v1+cell": {
     "cellMetadata": {
      "byteLimit": 2048000,
      "rowLimit": 10000
     },
     "inputWidgets": {},
     "nuid": "49c59a1a-040e-401a-80a5-a8e5309f3f41",
     "showTitle": false,
     "tableResultSettingsMap": {},
     "title": ""
    }
   },
   "outputs": [],
   "source": [
    "CREATE OR REPLACE FUNCTION `${secure_core_catalog_name}`.default.${secure_core_get_decrypted_dsk_function_name}(\n",
    "  key_vault_url    STRING,\n",
    "  kek_name         STRING,\n",
    "  dsk_secret_name  STRING\n",
    ")\n",
    "RETURNS STRING\n",
    "LANGUAGE PYTHON\n",
    "PARAMETER STYLE PANDAS\n",
    "HANDLER 'decrypt_dsk_batch'\n",
    "CREDENTIALS (`${DATABRICKS_DEFAULT_SERVICE_CREDENTIAL_NAME}` DEFAULT)\n",
    "ENVIRONMENT (\n",
    "  dependencies = '[\n",
    "      \"/Volumes/edai-00001-dev-a01-masking/default/python_packages/azure_identity-1.16.0-py3-none-any.whl\",\n",
    "      \"/Volumes/edai-00001-dev-a01-masking/default/python_packages/azure_keyvault_keys-4.8.0-py3-none-any.whl\",\n",
    "      \"/Volumes/edai-00001-dev-a01-masking/default/python_packages/azure_keyvault_secrets-4.8.0-py3-none-any.whl\",\n",
    "      \"/Volumes/edai-00001-dev-a01-masking/default/python_packages/msal-1.32.3-py3-none-any.whl\",\n",
    "      \"/Volumes/edai-00001-dev-a01-masking/default/python_packages/msal_extensions-1.3.1-py3-none-any.whl\",\n",
    "      \"/Volumes/edai-00001-dev-a01-masking/default/python_packages/azure_common-1.1.28-py2.py3-none-any.whl\"\n",
    "  ]',\n",
    "  environment_version = 'None'\n",
    ")\n",
    "AS\n",
    "$$\n",
    "from datetime import datetime\n",
    "import base64, pandas as pd, os\n",
    "from typing import Iterator, Tuple\n",
    "\n",
    "from azure.identity             import DefaultAzureCredential\n",
    "from azure.keyvault.keys        import KeyClient\n",
    "from azure.keyvault.keys.crypto import CryptographyClient, EncryptionAlgorithm\n",
    "from azure.keyvault.secrets     import SecretClient\n",
    "from azure.core.exceptions      import ResourceNotFoundError, ClientAuthenticationError\n",
    "\n",
    "# ------------------------------------------------------------------\n",
    "# Databricks-patched credential from the service-credential\n",
    "# ------------------------------------------------------------------\n",
    "_credential = DefaultAzureCredential()\n",
    "\n",
    "# ------------------------------------------------------------------\n",
    "# Small client cache keyed by Key Vault URL\n",
    "# ------------------------------------------------------------------\n",
    "_client_cache = {}\n",
    "_CACHE_TTL_SEC = 300  # 5 minutes\n",
    "\n",
    "def _get_clients(vault_url: str):\n",
    "    from time import time\n",
    "    current_time = time()\n",
    "    \n",
    "    if vault_url not in _client_cache or current_time - _client_cache[vault_url][\"timestamp\"] > _CACHE_TTL_SEC:\n",
    "        try:\n",
    "            _client_cache[vault_url] = {\n",
    "                \"clients\": (\n",
    "                    KeyClient(vault_url=vault_url, credential=_credential),\n",
    "                    SecretClient(vault_url=vault_url, credential=_credential)\n",
    "                ),\n",
    "                \"timestamp\": current_time\n",
    "            }\n",
    "        except ClientAuthenticationError as e:\n",
    "            raise PermissionError(f\"Authentication failed for {vault_url}: {str(e)}\")\n",
    "    \n",
    "    return _client_cache[vault_url][\"clients\"]\n",
    "\n",
    "# ------------------------------------------------------------------\n",
    "# Batch handler: decrypt DSK for each row\n",
    "# ------------------------------------------------------------------\n",
    "def decrypt_dsk_batch(\n",
    "    batches: Iterator[Tuple[pd.Series, pd.Series, pd.Series]]\n",
    ") -> Iterator[pd.Series]:\n",
    "\n",
    "    for key_vault_url_s, kek_name_s, dsk_secret_name_s in batches:\n",
    "        out = []\n",
    "\n",
    "        for vault_url, kek_name, dsk_name in zip(\n",
    "                key_vault_url_s, kek_name_s, dsk_secret_name_s):\n",
    "\n",
    "            key_client, secret_client = _get_clients(vault_url)\n",
    "\n",
    "            # ---- A. fetch encrypted DSK --------------------------------\n",
    "            secret = secret_client.get_secret(dsk_name)\n",
    "            encrypted_b64 = secret.value\n",
    "            # Key version is stored in tag by the generator UDF\n",
    "            kek_version_tag = secret.properties.tags.get(\"kek_version\") if secret.properties.tags else None\n",
    "\n",
    "            # ---- B. resolve KEK version --------------------------------\n",
    "            if kek_version_tag:\n",
    "                kek = key_client.get_key(kek_name, kek_version_tag)\n",
    "            else:\n",
    "                # fallback to latest if tag missing\n",
    "                kek = key_client.get_key(kek_name)\n",
    "\n",
    "            # ---- C. decrypt --------------------------------------------\n",
    "            cipher_bytes = base64.b64decode(encrypted_b64)\n",
    "            crypto_client = CryptographyClient(kek.id, credential=_credential)\n",
    "            plain_bytes   = crypto_client.decrypt(\n",
    "                                EncryptionAlgorithm.rsa_oaep_256,\n",
    "                                cipher_bytes\n",
    "                           ).plaintext\n",
    "\n",
    "            # plain_bytes is the original url-safe base64 string of the raw DSK\n",
    "            # restore any missing padding then decode to raw 32-byte key\n",
    "            plain_b64 = plain_bytes.decode()\n",
    "            if len(plain_b64) % 4:\n",
    "                plain_b64 += \"=\" * (4 - len(plain_b64) % 4)\n",
    "            dsk_raw = base64.urlsafe_b64decode(plain_b64)\n",
    "\n",
    "            out.append(dsk_raw.hex())\n",
    "            #out.append(dsk_raw)\n",
    "\n",
    "        yield pd.Series(out)\n",
    "$$;"
   ]
  }
 ],
 "metadata": {
  "application/vnd.databricks.v1+notebook": {
   "computePreferences": null,
   "dashboards": [],
   "environmentMetadata": {
    "base_environment": "",
    "environment_version": "2"
   },
   "inputWidgetPreferences": null,
   "language": "sql",
   "notebookMetadata": {
    "pythonIndentUnit": 2
   },
   "notebookName": "2_create_udfs_and_generate_kek_and_dsk",
   "widgets": {
    "DATABRICKS_DEFAULT_SERVICE_CREDENTIAL_NAME": {
     "currentValue": "edai-00001-dev-a01-cred",
     "nuid": "9a56cfcb-fbac-48e0-af50-e99991f284ab",
     "typedWidgetInfo": {
      "autoCreated": false,
      "defaultValue": "edai-00001-dev-a01-cred",
      "label": null,
      "name": "DATABRICKS_DEFAULT_SERVICE_CREDENTIAL_NAME",
      "options": {
       "widgetDisplayType": "Text",
       "validationRegex": null
      },
      "parameterDataType": "String"
     },
     "widgetInfo": {
      "widgetType": "text",
      "defaultValue": "edai-00001-dev-a01-cred",
      "label": null,
      "name": "DATABRICKS_DEFAULT_SERVICE_CREDENTIAL_NAME",
      "options": {
       "widgetType": "text",
       "autoCreated": null,
       "validationRegex": null
      }
     }
    },
    "landing_tables_version_tracking_table_name": {
     "currentValue": "",
     "nuid": "fec8a186-7381-4dd0-a613-154c7cd774a8",
     "typedWidgetInfo": {
      "autoCreated": false,
      "defaultValue": "",
      "label": "",
      "name": "landing_tables_version_tracking_table_name",
      "options": {
       "widgetDisplayType": "Text",
       "validationRegex": null
      },
      "parameterDataType": "String"
     },
     "widgetInfo": {
      "widgetType": "text",
      "defaultValue": "",
      "label": "",
      "name": "landing_tables_version_tracking_table_name",
      "options": {
       "widgetType": "text",
       "autoCreated": false,
       "validationRegex": null
      }
     }
    },
    "secure_core_catalog_name": {
     "currentValue": "edai-00001-dev-a01-masking",
     "nuid": "52388bb0-ccef-4b99-8fe8-08304d15c03c",
     "typedWidgetInfo": {
      "autoCreated": false,
      "defaultValue": "",
      "label": null,
      "name": "secure_core_catalog_name",
      "options": {
       "widgetDisplayType": "Text",
       "validationRegex": null
      },
      "parameterDataType": "String"
     },
     "widgetInfo": {
      "widgetType": "text",
      "defaultValue": "",
      "label": null,
      "name": "secure_core_catalog_name",
      "options": {
       "widgetType": "text",
       "autoCreated": null,
       "validationRegex": null
      }
     }
    },
    "secure_core_clasifier_volume_location": {
     "currentValue": "",
     "nuid": "00631bfb-7243-4158-b6bc-65aa666f496f",
     "typedWidgetInfo": {
      "autoCreated": false,
      "defaultValue": "",
      "label": "",
      "name": "secure_core_clasifier_volume_location",
      "options": {
       "widgetDisplayType": "Text",
       "validationRegex": null
      },
      "parameterDataType": "String"
     },
     "widgetInfo": {
      "widgetType": "text",
      "defaultValue": "",
      "label": "",
      "name": "secure_core_clasifier_volume_location",
      "options": {
       "widgetType": "text",
       "autoCreated": false,
       "validationRegex": null
      }
     }
    },
    "secure_core_decrypt_dsk_function_name": {
     "currentValue": "",
     "nuid": "9cc9169f-a3c8-4c41-a58c-3ff7d96e14d4",
     "typedWidgetInfo": {
      "autoCreated": false,
      "defaultValue": "",
      "label": "",
      "name": "secure_core_decrypt_dsk_function_name",
      "options": {
       "widgetDisplayType": "Text",
       "validationRegex": null
      },
      "parameterDataType": "String"
     },
     "widgetInfo": {
      "widgetType": "text",
      "defaultValue": "",
      "label": "",
      "name": "secure_core_decrypt_dsk_function_name",
      "options": {
       "widgetType": "text",
       "autoCreated": false,
       "validationRegex": null
      }
     }
    },
    "secure_core_generate_kek_dsk_function_name": {
     "currentValue": "generate_and_store_kek_dsk",
     "nuid": "580a5de2-1795-46e7-acf4-20b271691777",
     "typedWidgetInfo": {
      "autoCreated": false,
      "defaultValue": "",
      "label": null,
      "name": "secure_core_generate_kek_dsk_function_name",
      "options": {
       "widgetDisplayType": "Text",
       "validationRegex": null
      },
      "parameterDataType": "String"
     },
     "widgetInfo": {
      "widgetType": "text",
      "defaultValue": "",
      "label": null,
      "name": "secure_core_generate_kek_dsk_function_name",
      "options": {
       "widgetType": "text",
       "autoCreated": null,
       "validationRegex": null
      }
     }
    },
    "secure_core_get_decrypted_dsk_function_name": {
     "currentValue": "get_decrypted_dsk",
     "nuid": "ae6fbb8c-d1bb-4f56-8949-63e92e948f64",
     "typedWidgetInfo": {
      "autoCreated": false,
      "defaultValue": "",
      "label": null,
      "name": "secure_core_get_decrypted_dsk_function_name",
      "options": {
       "widgetDisplayType": "Text",
       "validationRegex": null
      },
      "parameterDataType": "String"
     },
     "widgetInfo": {
      "widgetType": "text",
      "defaultValue": "",
      "label": null,
      "name": "secure_core_get_decrypted_dsk_function_name",
      "options": {
       "widgetType": "text",
       "autoCreated": null,
       "validationRegex": null
      }
     }
    },
    "secure_core_key_vault_name": {
     "currentValue": "https://edai-00001-dev-a01-kv001.vault.azure.net/",
     "nuid": "f1ee4fec-f27f-40cc-8d99-5494a5ffd645",
     "typedWidgetInfo": {
      "autoCreated": false,
      "defaultValue": "",
      "label": null,
      "name": "secure_core_key_vault_name",
      "options": {
       "widgetDisplayType": "Text",
       "validationRegex": null
      },
      "parameterDataType": "String"
     },
     "widgetInfo": {
      "widgetType": "text",
      "defaultValue": "",
      "label": null,
      "name": "secure_core_key_vault_name",
      "options": {
       "widgetType": "text",
       "autoCreated": null,
       "validationRegex": null
      }
     }
    },
    "secure_core_landing_catalog_name": {
     "currentValue": "",
     "nuid": "a2061bf6-ed17-46e8-bbdc-f4f8dae1da6b",
     "typedWidgetInfo": {
      "autoCreated": false,
      "defaultValue": "",
      "label": "",
      "name": "secure_core_landing_catalog_name",
      "options": {
       "widgetDisplayType": "Text",
       "validationRegex": null
      },
      "parameterDataType": "String"
     },
     "widgetInfo": {
      "widgetType": "text",
      "defaultValue": "",
      "label": "",
      "name": "secure_core_landing_catalog_name",
      "options": {
       "widgetType": "text",
       "autoCreated": false,
       "validationRegex": null
      }
     }
    },
    "secure_core_non_pci_pii_catalog_name": {
     "currentValue": "",
     "nuid": "39343a89-27d0-4e37-add6-04ef710c9c85",
     "typedWidgetInfo": {
      "autoCreated": false,
      "defaultValue": "",
      "label": "",
      "name": "secure_core_non_pci_pii_catalog_name",
      "options": {
       "widgetDisplayType": "Text",
       "validationRegex": null
      },
      "parameterDataType": "String"
     },
     "widgetInfo": {
      "widgetType": "text",
      "defaultValue": "",
      "label": "",
      "name": "secure_core_non_pci_pii_catalog_name",
      "options": {
       "widgetType": "text",
       "autoCreated": false,
       "validationRegex": null
      }
     }
    },
    "secure_core_pci_pii_attribute_table_name": {
     "currentValue": "pci_pii_attributes",
     "nuid": "b9662f23-8013-4c46-941f-a55dd4244984",
     "typedWidgetInfo": {
      "autoCreated": false,
      "defaultValue": "",
      "label": null,
      "name": "secure_core_pci_pii_attribute_table_name",
      "options": {
       "widgetDisplayType": "Text",
       "validationRegex": null
      },
      "parameterDataType": "String"
     },
     "widgetInfo": {
      "widgetType": "text",
      "defaultValue": "",
      "label": null,
      "name": "secure_core_pci_pii_attribute_table_name",
      "options": {
       "widgetType": "text",
       "autoCreated": null,
       "validationRegex": null
      }
     }
    },
    "secure_core_pci_tag_name": {
     "currentValue": "",
     "nuid": "19458c06-ca01-48b2-9727-aaea42efd5a8",
     "typedWidgetInfo": {
      "autoCreated": false,
      "defaultValue": "",
      "label": "",
      "name": "secure_core_pci_tag_name",
      "options": {
       "widgetDisplayType": "Text",
       "validationRegex": null
      },
      "parameterDataType": "String"
     },
     "widgetInfo": {
      "widgetType": "text",
      "defaultValue": "",
      "label": "",
      "name": "secure_core_pci_tag_name",
      "options": {
       "widgetType": "text",
       "autoCreated": false,
       "validationRegex": null
      }
     }
    },
    "secure_core_pii_tag_name": {
     "currentValue": "",
     "nuid": "ee1d275d-2d1d-491b-a0e8-8cc7cb8efaed",
     "typedWidgetInfo": {
      "autoCreated": false,
      "defaultValue": "",
      "label": "",
      "name": "secure_core_pii_tag_name",
      "options": {
       "widgetDisplayType": "Text",
       "validationRegex": null
      },
      "parameterDataType": "String"
     },
     "widgetInfo": {
      "widgetType": "text",
      "defaultValue": "",
      "label": "",
      "name": "secure_core_pii_tag_name",
      "options": {
       "widgetType": "text",
       "autoCreated": false,
       "validationRegex": null
      }
     }
    },
    "secure_core_secret_scope_name": {
     "currentValue": "",
     "nuid": "47136bc8-1a84-4e3a-8211-fa3a5056c0a1",
     "typedWidgetInfo": {
      "autoCreated": false,
      "defaultValue": "",
      "label": null,
      "name": "secure_core_secret_scope_name",
      "options": {
       "widgetDisplayType": "Text",
       "validationRegex": null
      },
      "parameterDataType": "String"
     },
     "widgetInfo": {
      "widgetType": "text",
      "defaultValue": "",
      "label": null,
      "name": "secure_core_secret_scope_name",
      "options": {
       "widgetType": "text",
       "autoCreated": null,
       "validationRegex": null
      }
     }
    },
    "secure_core_sp_client_id_key": {
     "currentValue": "",
     "nuid": "f3e3977c-abbf-46cb-a452-dc4b6b456e36",
     "typedWidgetInfo": {
      "autoCreated": false,
      "defaultValue": "",
      "label": null,
      "name": "secure_core_sp_client_id_key",
      "options": {
       "widgetDisplayType": "Text",
       "validationRegex": null
      },
      "parameterDataType": "String"
     },
     "widgetInfo": {
      "widgetType": "text",
      "defaultValue": "",
      "label": null,
      "name": "secure_core_sp_client_id_key",
      "options": {
       "widgetType": "text",
       "autoCreated": null,
       "validationRegex": null
      }
     }
    },
    "secure_core_sp_client_secret_key": {
     "currentValue": "",
     "nuid": "27fc34c2-0703-4727-bddd-4c865e8d108d",
     "typedWidgetInfo": {
      "autoCreated": false,
      "defaultValue": "",
      "label": null,
      "name": "secure_core_sp_client_secret_key",
      "options": {
       "widgetDisplayType": "Text",
       "validationRegex": null
      },
      "parameterDataType": "String"
     },
     "widgetInfo": {
      "widgetType": "text",
      "defaultValue": "",
      "label": null,
      "name": "secure_core_sp_client_secret_key",
      "options": {
       "widgetType": "text",
       "autoCreated": null,
       "validationRegex": null
      }
     }
    },
    "secure_core_sp_tenant_id_key": {
     "currentValue": "",
     "nuid": "d72aa537-5515-4f01-9629-3e07c0c0045f",
     "typedWidgetInfo": {
      "autoCreated": false,
      "defaultValue": "",
      "label": null,
      "name": "secure_core_sp_tenant_id_key",
      "options": {
       "widgetDisplayType": "Text",
       "validationRegex": null
      },
      "parameterDataType": "String"
     },
     "widgetInfo": {
      "widgetType": "text",
      "defaultValue": "",
      "label": null,
      "name": "secure_core_sp_tenant_id_key",
      "options": {
       "widgetType": "text",
       "autoCreated": null,
       "validationRegex": null
      }
     }
    },
    "secure_core_vault_catalog_name": {
     "currentValue": "",
     "nuid": "2d982525-6819-4ea6-8cf1-c34a29de75be",
     "typedWidgetInfo": {
      "autoCreated": false,
      "defaultValue": "",
      "label": "",
      "name": "secure_core_vault_catalog_name",
      "options": {
       "widgetDisplayType": "Text",
       "validationRegex": null
      },
      "parameterDataType": "String"
     },
     "widgetInfo": {
      "widgetType": "text",
      "defaultValue": "",
      "label": "",
      "name": "secure_core_vault_catalog_name",
      "options": {
       "widgetType": "text",
       "autoCreated": false,
       "validationRegex": null
      }
     }
    },
    "vault_tables_version_tracking_table_name": {
     "currentValue": "",
     "nuid": "6bcd8953-d42f-47de-8c80-9e26094b4914",
     "typedWidgetInfo": {
      "autoCreated": false,
      "defaultValue": "",
      "label": "",
      "name": "vault_tables_version_tracking_table_name",
      "options": {
       "widgetDisplayType": "Text",
       "validationRegex": null
      },
      "parameterDataType": "String"
     },
     "widgetInfo": {
      "widgetType": "text",
      "defaultValue": "",
      "label": "",
      "name": "vault_tables_version_tracking_table_name",
      "options": {
       "widgetType": "text",
       "autoCreated": false,
       "validationRegex": null
      }
     }
    }
   }
  },
  "language_info": {
   "name": "sql"
  }
 },
 "nbformat": 4,
 "nbformat_minor": 0
}
