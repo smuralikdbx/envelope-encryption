{
 "cells": [
  {
   "cell_type": "code",
   "execution_count": 0,
   "metadata": {
    "application/vnd.databricks.v1+cell": {
     "cellMetadata": {
      "byteLimit": 2048000,
      "rowLimit": 10000
     },
     "inputWidgets": {},
     "nuid": "04202f9b-7ca6-4ba8-9425-904ee53d6b9e",
     "showTitle": false,
     "tableResultSettingsMap": {},
     "title": ""
    }
   },
   "outputs": [],
   "source": [
    "from pyspark.sql.functions import col\n",
    "from secure_core_data_loader import SecureCoreDataLoader"
   ]
  },
  {
   "cell_type": "markdown",
   "metadata": {
    "application/vnd.databricks.v1+cell": {
     "cellMetadata": {
      "byteLimit": 2048000,
      "rowLimit": 10000
     },
     "inputWidgets": {},
     "nuid": "bebde3ae-c177-45f5-8aff-76ed433b8938",
     "showTitle": false,
     "tableResultSettingsMap": {},
     "title": ""
    }
   },
   "source": [
    "Run the register-widgets notebook to create all the widgets required for the notebook"
   ]
  },
  {
   "cell_type": "code",
   "execution_count": 0,
   "metadata": {
    "application/vnd.databricks.v1+cell": {
     "cellMetadata": {
      "byteLimit": 2048000,
      "rowLimit": 10000
     },
     "inputWidgets": {},
     "nuid": "d53a1862-d0af-4ef4-850c-960cf6959a3f",
     "showTitle": false,
     "tableResultSettingsMap": {},
     "title": ""
    }
   },
   "outputs": [],
   "source": [
    "%run ./register_widgets"
   ]
  },
  {
   "cell_type": "markdown",
   "metadata": {
    "application/vnd.databricks.v1+cell": {
     "cellMetadata": {
      "byteLimit": 2048000,
      "rowLimit": 10000
     },
     "inputWidgets": {},
     "nuid": "f3ef2624-3b4a-4d7f-9334-165c1aa4c5c8",
     "showTitle": false,
     "tableResultSettingsMap": {},
     "title": ""
    }
   },
   "source": [
    "Calling register_widgets() will create all the widgets in the notebook. Subsequently get_parameters() is used for retrieving all the widget values as a dictionary"
   ]
  },
  {
   "cell_type": "code",
   "execution_count": 0,
   "metadata": {
    "application/vnd.databricks.v1+cell": {
     "cellMetadata": {
      "byteLimit": 2048000,
      "rowLimit": 10000
     },
     "inputWidgets": {},
     "nuid": "7e0f833d-f222-4741-b06c-c4f711018b83",
     "showTitle": false,
     "tableResultSettingsMap": {},
     "title": ""
    }
   },
   "outputs": [],
   "source": [
    "register_widgets()\n",
    "params = get_parameters()"
   ]
  },
  {
   "cell_type": "code",
   "execution_count": 0,
   "metadata": {
    "application/vnd.databricks.v1+cell": {
     "cellMetadata": {
      "byteLimit": 2048000,
      "rowLimit": 10000
     },
     "inputWidgets": {},
     "nuid": "23fc9a8f-4c9f-41f5-bc41-3780e60236a0",
     "showTitle": false,
     "tableResultSettingsMap": {},
     "title": ""
    }
   },
   "outputs": [],
   "source": [
    "vault_to_anonymized_load_tracking_table = params[\"vault_to_anonymized_load_tracking_table\"]\n",
    "source_catalog = params[\"secure_core_vault_catalog_name\"]\n",
    "target_catalog = params[\"secure_core_non_pci_pii_catalog_name\"]\n",
    "secure_core_catalog_name = params[\"secure_core_catalog_name\"]\n",
    "individual_attributes_schema_name = params[\"individual_attributes_schema_name\"]"
   ]
  },
  {
   "cell_type": "markdown",
   "metadata": {
    "application/vnd.databricks.v1+cell": {
     "cellMetadata": {},
     "inputWidgets": {},
     "nuid": "0f65addd-70df-4007-b1e8-dcc75fc206f6",
     "showTitle": false,
     "tableResultSettingsMap": {},
     "title": ""
    }
   },
   "source": [
    "Initialize an object of the class"
   ]
  },
  {
   "cell_type": "code",
   "execution_count": 0,
   "metadata": {
    "application/vnd.databricks.v1+cell": {
     "cellMetadata": {},
     "inputWidgets": {},
     "nuid": "e5c242ab-6966-496e-8851-218113c8a243",
     "showTitle": false,
     "tableResultSettingsMap": {},
     "title": ""
    }
   },
   "outputs": [],
   "source": [
    "secure_core_data_loader = SecureCoreDataLoader(spark, params)"
   ]
  },
  {
   "cell_type": "markdown",
   "metadata": {
    "application/vnd.databricks.v1+cell": {
     "cellMetadata": {
      "byteLimit": 2048000,
      "rowLimit": 10000
     },
     "inputWidgets": {},
     "nuid": "22ada6f7-f22f-4418-b1f8-6014e02d4088",
     "showTitle": false,
     "tableResultSettingsMap": {},
     "title": ""
    }
   },
   "source": [
    "- Get all the last loaded version from each of the landing tables maintained in the tracking table for the landing catalog\n",
    "- Using table history, identify if there are any new version with WRITE operations for the tables in the landing catalog\n",
    "- If there is a WRITE operation with a version greater than last loaded version, then there is new data loaded to the table in landing catalog to consider incremental data load\n",
    "- Register the result set as a temp table that will be used in the below CTE"
   ]
  },
  {
   "cell_type": "code",
   "execution_count": 0,
   "metadata": {
    "application/vnd.databricks.v1+cell": {
     "cellMetadata": {
      "byteLimit": 2048000,
      "rowLimit": 10000
     },
     "inputWidgets": {},
     "nuid": "c61dca13-b82e-4235-b2cb-15d1939581a6",
     "showTitle": false,
     "tableResultSettingsMap": {},
     "title": ""
    }
   },
   "outputs": [],
   "source": [
    "secure_core_data_loader.get_tables_with_new_versions(vault_to_anonymized_load_tracking_table)"
   ]
  },
  {
   "cell_type": "markdown",
   "metadata": {
    "application/vnd.databricks.v1+cell": {
     "cellMetadata": {
      "byteLimit": 2048000,
      "rowLimit": 10000
     },
     "inputWidgets": {},
     "nuid": "484cb759-6c9f-494c-9932-d11f00915f44",
     "showTitle": false,
     "tableResultSettingsMap": {},
     "title": ""
    }
   },
   "source": [
    "The below CTE will:\n",
    "- Identify all the managed tables existing in landing catalog\n",
    "- Identify all the managed tables existing in vault catalog\n",
    "- Identify new tables that exists in landing catalog but not in vault catalog and derive column vault_table_status as \"new\"\n",
    "- Identify tables in landing catalog that already exists in vault for which new data has been loaded. Derive column new_data_available as \"yes\"\n",
    "- Identify the list of columns in all the tables in landing catalog (this is to get the data type, ordinal position of the columns to generate create table statement and align the hash columns next the respective PCI / PII attribute in vault)\n",
    "- Identify the list of columns that are tagged as PCI / PII for tables in landing catalog. This is to propogate the tags to the tables in vault catalog"
   ]
  },
  {
   "cell_type": "code",
   "execution_count": 0,
   "metadata": {
    "application/vnd.databricks.v1+cell": {
     "cellMetadata": {
      "byteLimit": 2048000,
      "rowLimit": 10000
     },
     "inputWidgets": {},
     "nuid": "a436d0cd-6a43-4177-b1fb-58ea2b3faf23",
     "showTitle": false,
     "tableResultSettingsMap": {},
     "title": ""
    }
   },
   "outputs": [],
   "source": [
    "vault_tables_columns = f\"\"\"\n",
    "--Identify all the managed tables existing in vault catalog\n",
    "with tables_in_vault as (\n",
    "    select table_catalog as catalog_name, table_schema as schema_name, table_name from system.information_schema.tables where table_catalog = '{source_catalog}' and table_schema not in ('{individual_attributes_schema_name}') and table_type = 'MANAGED'\n",
    "),\n",
    "--Identify all the managed tables existing in non_pci_pii catalog\n",
    "tables_in_non_pci_pii as (\n",
    "    select table_catalog as catalog_name, table_schema as schema_name, table_name from system.information_schema.tables where table_catalog = '{target_catalog}' and table_type = 'MANAGED'\n",
    "),\n",
    "--Identify new tables that exists in vault catalog but not in non_pci_pii catalog and tables where new data is available in vault catalog\n",
    "new_tables_new_versions_in_vault as (\n",
    "    select \n",
    "    tv.catalog_name \n",
    "    ,tv.schema_name\n",
    "    ,tv.table_name \n",
    "    ,case when tnpp.table_name is null then 'new' else 'existing' end as target_table_status\n",
    "    ,case when twnv.table_name is not null then 'yes' else 'no' end as new_data_available\n",
    "    from tables_in_vault tv\n",
    "    left join tables_in_non_pci_pii tnpp\n",
    "    on tv.schema_name = tnpp.schema_name\n",
    "    and tv.table_name = tnpp.table_name\n",
    "    left join tables_with_new_versions twnv\n",
    "    on tv.catalog_name = twnv.catalog_name\n",
    "    and tv.schema_name = twnv.schema_name\n",
    "    and tv.table_name = twnv.table_name\n",
    "),\n",
    "--Identify the list of columns in all the tables in vault catalog\n",
    "vault_tables_and_columns as (\n",
    "    select cols.table_catalog as catalog_name, cols.table_schema as schema_name, cols.table_name, cols.column_name, cols.full_data_type, cols.is_nullable, cols.ordinal_position, vlttbls.target_table_status, vlttbls.new_data_available\n",
    "    from system.information_schema.columns cols\n",
    "    inner join new_tables_new_versions_in_vault vlttbls\n",
    "    on cols.table_catalog = vlttbls.catalog_name\n",
    "    and cols.table_schema = vlttbls.schema_name\n",
    "    and cols.table_name = vlttbls.table_name\n",
    ")\n",
    "select * from vault_tables_and_columns \n",
    "order by catalog_name, schema_name, table_name, ordinal_position \"\"\"\n",
    "\n",
    "df_vault_tables_columns = spark.sql(vault_tables_columns)\n",
    "df_vault_tables_columns = df_vault_tables_columns.filter(\n",
    "    (col(\"target_table_status\") == \"new\") | \n",
    "    ((col(\"target_table_status\") == \"existing\") & (col(\"new_data_available\") == \"yes\"))\n",
    ")\n",
    "#display(df_vault_tables_columns)"
   ]
  },
  {
   "cell_type": "markdown",
   "metadata": {
    "application/vnd.databricks.v1+cell": {
     "cellMetadata": {
      "byteLimit": 2048000,
      "rowLimit": 10000
     },
     "inputWidgets": {},
     "nuid": "1609c6ee-cd02-4dff-924a-6968bc340ca2",
     "showTitle": false,
     "tableResultSettingsMap": {},
     "title": ""
    }
   },
   "source": [
    "- df_tables_to_load contains list of new tables created and existing tables with new data in landing catalog that needs to be ingested into vault catalog"
   ]
  },
  {
   "cell_type": "code",
   "execution_count": 0,
   "metadata": {
    "application/vnd.databricks.v1+cell": {
     "cellMetadata": {
      "byteLimit": 2048000,
      "rowLimit": 10000
     },
     "inputWidgets": {},
     "nuid": "3e6575ca-7161-4b38-b3f0-e24c1605d019",
     "showTitle": false,
     "tableResultSettingsMap": {},
     "title": ""
    }
   },
   "outputs": [],
   "source": [
    "df_tables_to_load = secure_core_data_loader.get_distinct_tables_to_load(df_vault_tables_columns)\n",
    "#display(df_tables_to_load)\n"
   ]
  },
  {
   "cell_type": "markdown",
   "metadata": {
    "application/vnd.databricks.v1+cell": {
     "cellMetadata": {
      "byteLimit": 2048000,
      "rowLimit": 10000
     },
     "inputWidgets": {},
     "nuid": "e84ae015-4ce4-4d9c-b666-cb200af0ddd3",
     "showTitle": false,
     "tableResultSettingsMap": {},
     "title": ""
    }
   },
   "source": [
    "- Fetch the column tags from system.information_schema.column_tags"
   ]
  },
  {
   "cell_type": "code",
   "execution_count": 0,
   "metadata": {
    "application/vnd.databricks.v1+cell": {
     "cellMetadata": {
      "byteLimit": 2048000,
      "rowLimit": 10000
     },
     "inputWidgets": {},
     "nuid": "7b27498d-cd82-46bf-8b34-ce1332b0bf66",
     "showTitle": false,
     "tableResultSettingsMap": {},
     "title": ""
    }
   },
   "outputs": [],
   "source": [
    "df_col_tags = secure_core_data_loader.get_column_tags(source_catalog)\n",
    "#display(df_col_tags)"
   ]
  },
  {
   "cell_type": "markdown",
   "metadata": {
    "application/vnd.databricks.v1+cell": {
     "cellMetadata": {
      "byteLimit": 2048000,
      "rowLimit": 10000
     },
     "inputWidgets": {},
     "nuid": "e10cfbc9-8b8c-4b00-8835-9540fd82fb21",
     "showTitle": false,
     "tableResultSettingsMap": {},
     "title": ""
    }
   },
   "source": [
    "Cell below contains the below functions:\n",
    "- **get_cdf_enabled_status** - For any table created in the landing catalog, check if CDF is enabled. CDF will be used for incrementally loading new data to tables in vault catalog.\n",
    "- **enable_cdf** - Enable CDF for tables in landing catalog and add an entry to the landing_tables_version_tracking_table.\n",
    "- **get_source_table_columns_datatype** - This function is used for fetching all the column data types to generate the CREATE TABLE statment in the vault catalog.\n",
    "- **get_column_tags** - This function is for fetching the column tags in the tables in the landing catalog to propogate the same to the tables in vault catalog.\n",
    "- **get_pci_pii_columns** - Get the list of PCI/PII columns based on tags for tables in landing catalog. This is used for generating the hash columns for the respective PCI/PII columns.\n",
    "- **generate_hash_statements** - Generate the hash statement for the PCI/PII attributes. The hash is generated using SHA512 algorithm by concatenating the de-crypted DSK and the PCI/PII attribute.\n",
    "- **generate_create_table_statement** - Generate the CREATE TABLE statement for creating new tables in vault catalog and also enable CDF.\n",
    "- **generate_insert_statement** - Generate the INSERT statement to insert data from tables in landing catalog to tables in vault catalog. If CDF is enabled, the SELECT clause with CDF table syntax (table_changes('table_name', version_no) WHERE _change_type = 'insert'). If CDF is not enabled, it will be SELECT * FROM table_name.\n",
    "- **update_landing_tracking_table_statement** - Function to update the tracking table maintained for the tables in the landing catalog. Update the last read version from the table in the landing catalog. This is used to identify if there is a new version of data available.\n",
    "- **add_entry_to_vault_tracking_table** - Function to add an entry in the tracking table maintained for the tables in the vault catalog. This will called after running the CREATE TABLE statement. Hence, the last loaded version will be defaulted to 0.\n",
    "- **apply_masking_function_statement** - Function to apply the masking function to the PCI/PII attributes in the tables in vault catalog.\n",
    "- **propagate_tags_statement** - Generate ALTER statement to propogate the tags from tables in landing catalog to tables in vault catalog."
   ]
  },
  {
   "cell_type": "code",
   "execution_count": 0,
   "metadata": {
    "application/vnd.databricks.v1+cell": {
     "cellMetadata": {
      "byteLimit": 2048000,
      "rowLimit": 10000
     },
     "inputWidgets": {},
     "nuid": "3d92b9d2-175a-45d2-81d9-977949dd32f6",
     "showTitle": false,
     "tableResultSettingsMap": {},
     "title": ""
    }
   },
   "outputs": [],
   "source": [
    "def process_single_table(row, df_vault_tables_columns, df_col_tags, target_catalog, secure_core_data_loader, vault_to_anonymized_load_tracking_table):\n",
    "    # Extract relevant table metadata from the input row\n",
    "    source_catalog = row[\"catalog_name\"]\n",
    "    schema = row[\"schema_name\"]\n",
    "    table = row[\"table_name\"]\n",
    "    target_table_status = row[\"target_table_status\"]\n",
    "    new_data_available = row[\"new_data_available\"]\n",
    "\n",
    "    #print(table)\n",
    "\n",
    "    # Lists to collect ALTER statements for masking and tag propagation\n",
    "    propagate_tags_statements = []\n",
    "    hash_statements = {}\n",
    "\n",
    "    cdf_enabled = True\n",
    "\n",
    "    # Fetch full list of column names and data types from the source table\n",
    "    columns_datatype = secure_core_data_loader.collect_source_table_columns_datatype(source_catalog, schema, table, df_vault_tables_columns)\n",
    "\n",
    "\n",
    "    # If the vault table is marked as 'new', create it and add tracking entry\n",
    "    if target_table_status == \"new\":\n",
    "        target_table = f\"`{target_catalog}`.`{schema}`.`{table}`\"\n",
    "        \n",
    "        create_target_table_statement = secure_core_data_loader.generate_create_table_statement(\n",
    "            source_catalog, schema, table, columns_datatype, hash_statements, target_table\n",
    "        )\n",
    "        \n",
    "        spark.sql(create_target_table_statement)\n",
    "\n",
    "    # Proceed to insert data if:\n",
    "    # - It's a new vault table, or\n",
    "    # - It's an existing vault table *and* new data is available\n",
    "    if (target_table_status == \"new\" or (target_table_status == \"existing\" and new_data_available == \"yes\")):\n",
    "        # Query to get the last loaded version from the tracking table\n",
    "        last_loaded_version_query = f\"\"\"\n",
    "            SELECT last_loaded_version FROM `{secure_core_catalog_name}`.default.`{vault_to_anonymized_load_tracking_table}`\n",
    "            WHERE catalog_name = '{source_catalog}' AND schema_name = '{schema}' AND table_name = '{table}'\n",
    "        \"\"\"\n",
    "        last_loaded_version = spark.sql(last_loaded_version_query).collect()[0][0]\n",
    "\n",
    "        # Generate the INSERT statement with hash columns (if needed)\n",
    "        insert_statements = secure_core_data_loader.generate_insert_statement(\n",
    "            source_catalog, schema, table, target_catalog, columns_datatype, hash_statements, last_loaded_version, cdf_enabled\n",
    "        )\n",
    "\n",
    "        # Generate the UPDATE statement to update the tracking table with the new version\n",
    "        update_tracking_table_statements = secure_core_data_loader.update_tracking_table_statement(source_catalog, schema, table, vault_to_anonymized_load_tracking_table)\n",
    "\n",
    "        # Fetch column tags and prepare ALTER statements to propagate them\n",
    "        column_tags = secure_core_data_loader.collect_column_tags(source_catalog, schema, table, df_col_tags)\n",
    "        propagate_tags_statements.extend(secure_core_data_loader.propagate_tags_statement(schema, table, target_catalog, column_tags, hash_statements))\n",
    "\n",
    "        # Execute data insert into the vault table\n",
    "        #print(insert_statements)\n",
    "        spark.sql(insert_statements)\n",
    "\n",
    "        # Apply tags to both raw and hash columns\n",
    "        for apply_tags in propagate_tags_statements:\n",
    "            spark.sql(apply_tags)\n",
    "\n",
    "        # Update the version tracking table after successful insert\n",
    "        spark.sql(update_tracking_table_statements)"
   ]
  },
  {
   "cell_type": "code",
   "execution_count": 0,
   "metadata": {
    "application/vnd.databricks.v1+cell": {
     "cellMetadata": {
      "byteLimit": 2048000,
      "rowLimit": 10000
     },
     "inputWidgets": {},
     "nuid": "9850e1e9-48ad-48b0-817c-f2a81cb0ad95",
     "showTitle": false,
     "tableResultSettingsMap": {},
     "title": ""
    }
   },
   "outputs": [],
   "source": [
    "from concurrent.futures import ThreadPoolExecutor, as_completed\n",
    "\n",
    "def process_tables_parallel(df_tables_to_load, df_vault_tables_columns, df_col_tags, target_catalog, secure_core_data_loader, vault_to_anonymized_load_tracking_table, max_workers=10):\n",
    "    # Collect all rows from the DataFrame into a local list.\n",
    "    # Each row contains metadata for a single table to be processed.\n",
    "    rows = df_tables_to_load.collect()\n",
    "\n",
    "    # Create a ThreadPoolExecutor with the specified number of worker threads.\n",
    "    with ThreadPoolExecutor(max_workers=max_workers) as executor:\n",
    "        # Submit each table (row) to be processed in parallel using process_single_table function.\n",
    "        # This returns a list of Future objects representing the execution of each task.\n",
    "        futures = [executor.submit(process_single_table, row, df_vault_tables_columns, df_col_tags,\n",
    "                                    target_catalog, secure_core_data_loader, vault_to_anonymized_load_tracking_table) \n",
    "                   for row in rows]\n",
    "        \n",
    "        # As each future completes, handle its result (or exception if one occurred).\n",
    "        for future in as_completed(futures):\n",
    "            future.result()\n",
    "            # try:\n",
    "            #     # Calling result() will re-raise any exception that occurred in the thread.\n",
    "            #     future.result()\n",
    "            # except Exception as e:\n",
    "            #     # Log any exception that occurred while processing a table.\n",
    "            #     print(f\"Error processing a table: {e}\")"
   ]
  },
  {
   "cell_type": "code",
   "execution_count": 0,
   "metadata": {
    "application/vnd.databricks.v1+cell": {
     "cellMetadata": {
      "byteLimit": 2048000,
      "rowLimit": 10000
     },
     "inputWidgets": {},
     "nuid": "93c982d4-d97a-4999-965c-96ae578ba385",
     "showTitle": false,
     "tableResultSettingsMap": {},
     "title": ""
    }
   },
   "outputs": [],
   "source": [
    "#Call the function to process the tables in parallel.\n",
    "process_tables_parallel(df_tables_to_load, df_vault_tables_columns, df_col_tags, target_catalog, secure_core_data_loader, vault_to_anonymized_load_tracking_table,  max_workers=10)"
   ]
  }
 ],
 "metadata": {
  "application/vnd.databricks.v1+notebook": {
   "computePreferences": null,
   "dashboards": [],
   "environmentMetadata": {
    "base_environment": "",
    "environment_version": "2"
   },
   "inputWidgetPreferences": null,
   "language": "python",
   "notebookMetadata": {
    "mostRecentlyExecutedCommandWithImplicitDF": {
     "commandId": 2841115366975264,
     "dataframes": [
      "_sqldf"
     ]
    },
    "pythonIndentUnit": 2
   },
   "notebookName": "5_populate_anonymized_tables",
   "widgets": {
    "landing_to_vault_load_tracking_table": {
     "currentValue": "landing_to_vault_tables_last_loaded_version",
     "nuid": "70d9f6ea-5442-44f6-bfd3-6cbd4e8ace80",
     "typedWidgetInfo": {
      "autoCreated": false,
      "defaultValue": "",
      "label": "",
      "name": "landing_to_vault_load_tracking_table",
      "options": {
       "widgetDisplayType": "Text",
       "validationRegex": null
      },
      "parameterDataType": "String"
     },
     "widgetInfo": {
      "widgetType": "text",
      "defaultValue": "",
      "label": "",
      "name": "landing_to_vault_load_tracking_table",
      "options": {
       "widgetType": "text",
       "autoCreated": null,
       "validationRegex": null
      }
     }
    },
    "secure_core_catalog_name": {
     "currentValue": "fis_secure_core",
     "nuid": "e3c7d85c-50a7-4c3a-a5df-b8359ace4a3f",
     "typedWidgetInfo": {
      "autoCreated": false,
      "defaultValue": "",
      "label": "",
      "name": "secure_core_catalog_name",
      "options": {
       "widgetDisplayType": "Text",
       "validationRegex": null
      },
      "parameterDataType": "String"
     },
     "widgetInfo": {
      "widgetType": "text",
      "defaultValue": "",
      "label": "",
      "name": "secure_core_catalog_name",
      "options": {
       "widgetType": "text",
       "autoCreated": null,
       "validationRegex": null
      }
     }
    },
    "secure_core_clasifier_volume_location": {
     "currentValue": "",
     "nuid": "9b0fc2b8-dec9-45ee-bc73-84bd0c497630",
     "typedWidgetInfo": {
      "autoCreated": false,
      "defaultValue": "",
      "label": "",
      "name": "secure_core_clasifier_volume_location",
      "options": {
       "widgetDisplayType": "Text",
       "validationRegex": null
      },
      "parameterDataType": "String"
     },
     "widgetInfo": {
      "widgetType": "text",
      "defaultValue": "",
      "label": "",
      "name": "secure_core_clasifier_volume_location",
      "options": {
       "widgetType": "text",
       "autoCreated": null,
       "validationRegex": null
      }
     }
    },
    "secure_core_decrypt_dsk_function_name": {
     "currentValue": "get_decrypted_dsk",
     "nuid": "f76972b5-a270-4216-8111-608605a51012",
     "typedWidgetInfo": {
      "autoCreated": false,
      "defaultValue": "",
      "label": "",
      "name": "secure_core_decrypt_dsk_function_name",
      "options": {
       "widgetDisplayType": "Text",
       "validationRegex": null
      },
      "parameterDataType": "String"
     },
     "widgetInfo": {
      "widgetType": "text",
      "defaultValue": "",
      "label": "",
      "name": "secure_core_decrypt_dsk_function_name",
      "options": {
       "widgetType": "text",
       "autoCreated": null,
       "validationRegex": null
      }
     }
    },
    "secure_core_generate_kek_dsk_function_name": {
     "currentValue": "",
     "nuid": "1595eb2f-85b4-4072-80c2-70eadbed7917",
     "typedWidgetInfo": {
      "autoCreated": false,
      "defaultValue": "",
      "label": "",
      "name": "secure_core_generate_kek_dsk_function_name",
      "options": {
       "widgetDisplayType": "Text",
       "validationRegex": null
      },
      "parameterDataType": "String"
     },
     "widgetInfo": {
      "widgetType": "text",
      "defaultValue": "",
      "label": "",
      "name": "secure_core_generate_kek_dsk_function_name",
      "options": {
       "widgetType": "text",
       "autoCreated": null,
       "validationRegex": null
      }
     }
    },
    "secure_core_key_vault_name": {
     "currentValue": "field-eng-key-vault.vault.azure.net",
     "nuid": "f176602d-3eed-4134-8b9a-efb5ed7e2fbd",
     "typedWidgetInfo": {
      "autoCreated": false,
      "defaultValue": "",
      "label": "",
      "name": "secure_core_key_vault_name",
      "options": {
       "widgetDisplayType": "Text",
       "validationRegex": null
      },
      "parameterDataType": "String"
     },
     "widgetInfo": {
      "widgetType": "text",
      "defaultValue": "",
      "label": "",
      "name": "secure_core_key_vault_name",
      "options": {
       "widgetType": "text",
       "autoCreated": null,
       "validationRegex": null
      }
     }
    },
    "secure_core_landing_catalog_name": {
     "currentValue": "fis_secure_core_landing",
     "nuid": "0a52c12c-2199-4974-9cce-18bea1851f86",
     "typedWidgetInfo": {
      "autoCreated": false,
      "defaultValue": "",
      "label": "",
      "name": "secure_core_landing_catalog_name",
      "options": {
       "widgetDisplayType": "Text",
       "validationRegex": null
      },
      "parameterDataType": "String"
     },
     "widgetInfo": {
      "widgetType": "text",
      "defaultValue": "",
      "label": "",
      "name": "secure_core_landing_catalog_name",
      "options": {
       "widgetType": "text",
       "autoCreated": null,
       "validationRegex": null
      }
     }
    },
    "secure_core_non_pci_pii_catalog_name": {
     "currentValue": "fis_non_sensitive",
     "nuid": "bd98dc42-79ed-41af-b91c-daa5b545e36d",
     "typedWidgetInfo": {
      "autoCreated": false,
      "defaultValue": "",
      "label": "",
      "name": "secure_core_non_pci_pii_catalog_name",
      "options": {
       "widgetDisplayType": "Text",
       "validationRegex": null
      },
      "parameterDataType": "String"
     },
     "widgetInfo": {
      "widgetType": "text",
      "defaultValue": "",
      "label": "",
      "name": "secure_core_non_pci_pii_catalog_name",
      "options": {
       "widgetType": "text",
       "autoCreated": null,
       "validationRegex": null
      }
     }
    },
    "secure_core_pci_pii_attribute_table_name": {
     "currentValue": "",
     "nuid": "c146f0bc-626a-4a6f-b4d1-374cccb77f9b",
     "typedWidgetInfo": {
      "autoCreated": false,
      "defaultValue": "",
      "label": "",
      "name": "secure_core_pci_pii_attribute_table_name",
      "options": {
       "widgetDisplayType": "Text",
       "validationRegex": null
      },
      "parameterDataType": "String"
     },
     "widgetInfo": {
      "widgetType": "text",
      "defaultValue": "",
      "label": "",
      "name": "secure_core_pci_pii_attribute_table_name",
      "options": {
       "widgetType": "text",
       "autoCreated": null,
       "validationRegex": null
      }
     }
    },
    "secure_core_pci_tag_name": {
     "currentValue": "",
     "nuid": "f55d7cde-8d2e-4bae-8134-3c5e16872b47",
     "typedWidgetInfo": {
      "autoCreated": false,
      "defaultValue": "",
      "label": "",
      "name": "secure_core_pci_tag_name",
      "options": {
       "widgetDisplayType": "Text",
       "validationRegex": null
      },
      "parameterDataType": "String"
     },
     "widgetInfo": {
      "widgetType": "text",
      "defaultValue": "",
      "label": "",
      "name": "secure_core_pci_tag_name",
      "options": {
       "widgetType": "text",
       "autoCreated": null,
       "validationRegex": null
      }
     }
    },
    "secure_core_pii_tag_name": {
     "currentValue": "",
     "nuid": "6cec2c4b-f94e-4b28-8287-e35992641373",
     "typedWidgetInfo": {
      "autoCreated": false,
      "defaultValue": "",
      "label": "",
      "name": "secure_core_pii_tag_name",
      "options": {
       "widgetDisplayType": "Text",
       "validationRegex": null
      },
      "parameterDataType": "String"
     },
     "widgetInfo": {
      "widgetType": "text",
      "defaultValue": "",
      "label": "",
      "name": "secure_core_pii_tag_name",
      "options": {
       "widgetType": "text",
       "autoCreated": null,
       "validationRegex": null
      }
     }
    },
    "secure_core_secret_scope_name": {
     "currentValue": "smuralik-fis-secret-scope-kv",
     "nuid": "8abdc125-2f85-4bfc-93e2-f29d45ffc18d",
     "typedWidgetInfo": {
      "autoCreated": false,
      "defaultValue": "",
      "label": "",
      "name": "secure_core_secret_scope_name",
      "options": {
       "widgetDisplayType": "Text",
       "validationRegex": null
      },
      "parameterDataType": "String"
     },
     "widgetInfo": {
      "widgetType": "text",
      "defaultValue": "",
      "label": "",
      "name": "secure_core_secret_scope_name",
      "options": {
       "widgetType": "text",
       "autoCreated": null,
       "validationRegex": null
      }
     }
    },
    "secure_core_sp_client_id_key": {
     "currentValue": "fis-kv-client-id",
     "nuid": "52fc7552-ca51-4297-b97b-26cf5530009c",
     "typedWidgetInfo": {
      "autoCreated": false,
      "defaultValue": "",
      "label": "",
      "name": "secure_core_sp_client_id_key",
      "options": {
       "widgetDisplayType": "Text",
       "validationRegex": null
      },
      "parameterDataType": "String"
     },
     "widgetInfo": {
      "widgetType": "text",
      "defaultValue": "",
      "label": "",
      "name": "secure_core_sp_client_id_key",
      "options": {
       "widgetType": "text",
       "autoCreated": null,
       "validationRegex": null
      }
     }
    },
    "secure_core_sp_client_secret_key": {
     "currentValue": "fis-kv-secret-id",
     "nuid": "8aec629b-3856-450a-9ab7-a5566998a315",
     "typedWidgetInfo": {
      "autoCreated": false,
      "defaultValue": "",
      "label": "",
      "name": "secure_core_sp_client_secret_key",
      "options": {
       "widgetDisplayType": "Text",
       "validationRegex": null
      },
      "parameterDataType": "String"
     },
     "widgetInfo": {
      "widgetType": "text",
      "defaultValue": "",
      "label": "",
      "name": "secure_core_sp_client_secret_key",
      "options": {
       "widgetType": "text",
       "autoCreated": null,
       "validationRegex": null
      }
     }
    },
    "secure_core_sp_tenant_id_key": {
     "currentValue": "fis-kv-tenant-id",
     "nuid": "a46ce3c6-fc27-432d-a8bf-1ead34a56672",
     "typedWidgetInfo": {
      "autoCreated": false,
      "defaultValue": "",
      "label": "",
      "name": "secure_core_sp_tenant_id_key",
      "options": {
       "widgetDisplayType": "Text",
       "validationRegex": null
      },
      "parameterDataType": "String"
     },
     "widgetInfo": {
      "widgetType": "text",
      "defaultValue": "",
      "label": "",
      "name": "secure_core_sp_tenant_id_key",
      "options": {
       "widgetType": "text",
       "autoCreated": null,
       "validationRegex": null
      }
     }
    },
    "secure_core_vault_catalog_name": {
     "currentValue": "fis_secure_core_vault",
     "nuid": "cd1f14b4-68c7-4407-b7c2-3aaacfb908ee",
     "typedWidgetInfo": {
      "autoCreated": false,
      "defaultValue": "",
      "label": "",
      "name": "secure_core_vault_catalog_name",
      "options": {
       "widgetDisplayType": "Text",
       "validationRegex": null
      },
      "parameterDataType": "String"
     },
     "widgetInfo": {
      "widgetType": "text",
      "defaultValue": "",
      "label": "",
      "name": "secure_core_vault_catalog_name",
      "options": {
       "widgetType": "text",
       "autoCreated": null,
       "validationRegex": null
      }
     }
    },
    "vault_to_anonymized_load_tracking_table": {
     "currentValue": "vault_to_anonymized_tables_last_loaded_version",
     "nuid": "957d99dd-712a-4491-a00b-246d5bd92fea",
     "typedWidgetInfo": {
      "autoCreated": false,
      "defaultValue": "",
      "label": "",
      "name": "vault_to_anonymized_load_tracking_table",
      "options": {
       "widgetDisplayType": "Text",
       "validationRegex": null
      },
      "parameterDataType": "String"
     },
     "widgetInfo": {
      "widgetType": "text",
      "defaultValue": "",
      "label": "",
      "name": "vault_to_anonymized_load_tracking_table",
      "options": {
       "widgetType": "text",
       "autoCreated": null,
       "validationRegex": null
      }
     }
    },
    "vault_to_classification_load_tracking_table": {
     "currentValue": "",
     "nuid": "fde3c2ed-26f0-4ec4-84c8-da8611d38a71",
     "typedWidgetInfo": {
      "autoCreated": false,
      "defaultValue": "",
      "label": "",
      "name": "vault_to_classification_load_tracking_table",
      "options": {
       "widgetDisplayType": "Text",
       "validationRegex": null
      },
      "parameterDataType": "String"
     },
     "widgetInfo": {
      "widgetType": "text",
      "defaultValue": "",
      "label": "",
      "name": "vault_to_classification_load_tracking_table",
      "options": {
       "widgetType": "text",
       "autoCreated": null,
       "validationRegex": null
      }
     }
    }
   }
  },
  "language_info": {
   "name": "python"
  }
 },
 "nbformat": 4,
 "nbformat_minor": 0
}
