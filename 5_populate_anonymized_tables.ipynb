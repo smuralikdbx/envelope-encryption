{
 "cells": [
  {
   "cell_type": "code",
   "execution_count": 0,
   "metadata": {
    "application/vnd.databricks.v1+cell": {
     "cellMetadata": {
      "byteLimit": 2048000,
      "rowLimit": 10000
     },
     "inputWidgets": {},
     "nuid": "04202f9b-7ca6-4ba8-9425-904ee53d6b9e",
     "showTitle": false,
     "tableResultSettingsMap": {},
     "title": ""
    }
   },
   "outputs": [],
   "source": [
    "from pyspark.sql.functions import col\n",
    "from envlp_encryp_data_loader import EnvelopeEncryptionDataLoader\n",
    "import uuid"
   ]
  },
  {
   "cell_type": "markdown",
   "metadata": {
    "application/vnd.databricks.v1+cell": {
     "cellMetadata": {
      "byteLimit": 2048000,
      "rowLimit": 10000
     },
     "inputWidgets": {},
     "nuid": "bebde3ae-c177-45f5-8aff-76ed433b8938",
     "showTitle": false,
     "tableResultSettingsMap": {},
     "title": ""
    }
   },
   "source": [
    "Run the register-widgets notebook to create all the widgets required for the notebook"
   ]
  },
  {
   "cell_type": "code",
   "execution_count": 0,
   "metadata": {
    "application/vnd.databricks.v1+cell": {
     "cellMetadata": {
      "byteLimit": 2048000,
      "rowLimit": 10000
     },
     "inputWidgets": {},
     "nuid": "d53a1862-d0af-4ef4-850c-960cf6959a3f",
     "showTitle": false,
     "tableResultSettingsMap": {},
     "title": ""
    }
   },
   "outputs": [
    {
     "output_type": "display_data",
     "data": {
      "text/markdown": [
       "Define the widgets for all the variables that can be parameterized"
      ]
     },
     "metadata": {},
     "output_type": "display_data"
    },
    {
     "output_type": "display_data",
     "data": {
      "text/markdown": [
       "To get the values for all the defined widgets and get it as a dictionary"
      ]
     },
     "metadata": {},
     "output_type": "display_data"
    }
   ],
   "source": [
    "%run ./register_widgets"
   ]
  },
  {
   "cell_type": "markdown",
   "metadata": {
    "application/vnd.databricks.v1+cell": {
     "cellMetadata": {
      "byteLimit": 2048000,
      "rowLimit": 10000
     },
     "inputWidgets": {},
     "nuid": "f3ef2624-3b4a-4d7f-9334-165c1aa4c5c8",
     "showTitle": false,
     "tableResultSettingsMap": {},
     "title": ""
    }
   },
   "source": [
    "Calling register_widgets() will create all the widgets in the notebook. Subsequently get_parameters() is used for retrieving all the widget values as a dictionary"
   ]
  },
  {
   "cell_type": "code",
   "execution_count": 0,
   "metadata": {
    "application/vnd.databricks.v1+cell": {
     "cellMetadata": {
      "byteLimit": 2048000,
      "rowLimit": 10000
     },
     "inputWidgets": {},
     "nuid": "7e0f833d-f222-4741-b06c-c4f711018b83",
     "showTitle": false,
     "tableResultSettingsMap": {},
     "title": ""
    }
   },
   "outputs": [],
   "source": [
    "register_widgets()\n",
    "params = get_parameters()"
   ]
  },
  {
   "cell_type": "code",
   "execution_count": 0,
   "metadata": {
    "application/vnd.databricks.v1+cell": {
     "cellMetadata": {
      "byteLimit": 2048000,
      "rowLimit": 10000
     },
     "inputWidgets": {},
     "nuid": "23fc9a8f-4c9f-41f5-bc41-3780e60236a0",
     "showTitle": false,
     "tableResultSettingsMap": {},
     "title": ""
    }
   },
   "outputs": [],
   "source": [
    "source_catalog = params[\"envlp_encryp_vault_catalog_name\"]\n",
    "target_catalog = params[\"envlp_encryp_anonymized_catalog_name\"]\n",
    "envlp_encryp_core_catalog_name = params[\"envlp_encryp_core_catalog_name\"]\n",
    "dataframe_results_volume_location = params[\"dataframe_results_volume_location\"]"
   ]
  },
  {
   "cell_type": "markdown",
   "metadata": {
    "application/vnd.databricks.v1+cell": {
     "cellMetadata": {
      "byteLimit": 2048000,
      "rowLimit": 10000
     },
     "inputWidgets": {},
     "nuid": "0f65addd-70df-4007-b1e8-dcc75fc206f6",
     "showTitle": false,
     "tableResultSettingsMap": {},
     "title": ""
    }
   },
   "source": [
    "Initialize an object of the class"
   ]
  },
  {
   "cell_type": "code",
   "execution_count": 0,
   "metadata": {
    "application/vnd.databricks.v1+cell": {
     "cellMetadata": {
      "byteLimit": 2048000,
      "rowLimit": 10000
     },
     "inputWidgets": {},
     "nuid": "e5c242ab-6966-496e-8851-218113c8a243",
     "showTitle": false,
     "tableResultSettingsMap": {},
     "title": ""
    }
   },
   "outputs": [],
   "source": [
    "envlp_encryp_data_loader = EnvelopeEncryptionDataLoader(spark, params)"
   ]
  },
  {
   "cell_type": "markdown",
   "metadata": {
    "application/vnd.databricks.v1+cell": {
     "cellMetadata": {
      "byteLimit": 2048000,
      "rowLimit": 10000
     },
     "inputWidgets": {},
     "nuid": "484cb759-6c9f-494c-9932-d11f00915f44",
     "showTitle": false,
     "tableResultSettingsMap": {},
     "title": ""
    }
   },
   "source": [
    "The below CTE will:\n",
    "- Identify all the managed tables existing in vault catalog\n",
    "- Identify all the managed tables existing in anonymized catalog\n",
    "- Identify new tables that exists in vault catalog but not in anonymized catalog\n",
    "- Identify the list of columns in all the tables in vault catalog (this is to get the data type, ordinal position of the columns to generate create table statement\n",
    "- Identify the list of columns that are tagged as PCI / PII for tables in vault catalog. This is to propogate the tags to the tables in anonymized catalog"
   ]
  },
  {
   "cell_type": "code",
   "execution_count": 0,
   "metadata": {
    "application/vnd.databricks.v1+cell": {
     "cellMetadata": {
      "byteLimit": 2048000,
      "rowLimit": 10000
     },
     "inputWidgets": {},
     "nuid": "a436d0cd-6a43-4177-b1fb-58ea2b3faf23",
     "showTitle": false,
     "tableResultSettingsMap": {},
     "title": ""
    }
   },
   "outputs": [
    {
     "output_type": "display_data",
     "data": {
      "text/html": [
       "<style scoped>\n",
       "  .table-result-container {\n",
       "    max-height: 300px;\n",
       "    overflow: auto;\n",
       "  }\n",
       "  table, th, td {\n",
       "    border: 1px solid black;\n",
       "    border-collapse: collapse;\n",
       "  }\n",
       "  th, td {\n",
       "    padding: 5px;\n",
       "  }\n",
       "  th {\n",
       "    text-align: left;\n",
       "  }\n",
       "</style><div class='table-result-container'><table class='table-result'><thead style='background-color: white'><tr><th>catalog_name</th><th>schema_name</th><th>table_name</th><th>column_name</th><th>full_data_type</th><th>is_nullable</th><th>ordinal_position</th></tr></thead><tbody><tr><td>envlp_encryp_vault</td><td>pci_pii_dataset</td><td>customer_records_1</td><td>full_name</td><td>string</td><td>YES</td><td>0</td></tr><tr><td>envlp_encryp_vault</td><td>pci_pii_dataset</td><td>customer_records_1</td><td>full_name_hash</td><td>string</td><td>NO</td><td>1</td></tr><tr><td>envlp_encryp_vault</td><td>pci_pii_dataset</td><td>customer_records_1</td><td>email</td><td>string</td><td>YES</td><td>2</td></tr><tr><td>envlp_encryp_vault</td><td>pci_pii_dataset</td><td>customer_records_1</td><td>email_hash</td><td>string</td><td>NO</td><td>3</td></tr><tr><td>envlp_encryp_vault</td><td>pci_pii_dataset</td><td>customer_records_1</td><td>phone_number</td><td>string</td><td>YES</td><td>4</td></tr><tr><td>envlp_encryp_vault</td><td>pci_pii_dataset</td><td>customer_records_1</td><td>phone_number_hash</td><td>string</td><td>NO</td><td>5</td></tr><tr><td>envlp_encryp_vault</td><td>pci_pii_dataset</td><td>customer_records_1</td><td>dob</td><td>string</td><td>YES</td><td>6</td></tr><tr><td>envlp_encryp_vault</td><td>pci_pii_dataset</td><td>customer_records_1</td><td>dob_hash</td><td>string</td><td>NO</td><td>7</td></tr><tr><td>envlp_encryp_vault</td><td>pci_pii_dataset</td><td>customer_records_1</td><td>ssn</td><td>string</td><td>YES</td><td>8</td></tr><tr><td>envlp_encryp_vault</td><td>pci_pii_dataset</td><td>customer_records_1</td><td>ssn_hash</td><td>string</td><td>NO</td><td>9</td></tr><tr><td>envlp_encryp_vault</td><td>pci_pii_dataset</td><td>customer_records_1</td><td>pan</td><td>string</td><td>YES</td><td>10</td></tr><tr><td>envlp_encryp_vault</td><td>pci_pii_dataset</td><td>customer_records_1</td><td>pan_hash</td><td>string</td><td>NO</td><td>11</td></tr><tr><td>envlp_encryp_vault</td><td>pci_pii_dataset</td><td>customer_records_1</td><td>address</td><td>string</td><td>YES</td><td>12</td></tr><tr><td>envlp_encryp_vault</td><td>pci_pii_dataset</td><td>customer_records_1</td><td>address_hash</td><td>string</td><td>NO</td><td>13</td></tr><tr><td>envlp_encryp_vault</td><td>pci_pii_dataset</td><td>customer_records_1</td><td>exp_date</td><td>string</td><td>YES</td><td>14</td></tr><tr><td>envlp_encryp_vault</td><td>pci_pii_dataset</td><td>customer_records_1</td><td>exp_date_hash</td><td>string</td><td>NO</td><td>15</td></tr><tr><td>envlp_encryp_vault</td><td>pci_pii_dataset</td><td>customer_records_1</td><td>bank_name</td><td>string</td><td>YES</td><td>16</td></tr></tbody></table></div>"
      ]
     },
     "metadata": {
      "application/vnd.databricks.v1+output": {
       "addedWidgets": {},
       "aggData": [],
       "aggError": "",
       "aggOverflow": false,
       "aggSchema": [],
       "aggSeriesLimitReached": false,
       "aggType": "",
       "arguments": {},
       "columnCustomDisplayInfos": {},
       "data": [
        [
         "envlp_encryp_vault",
         "pci_pii_dataset",
         "customer_records_1",
         "full_name",
         "string",
         "YES",
         0
        ],
        [
         "envlp_encryp_vault",
         "pci_pii_dataset",
         "customer_records_1",
         "full_name_hash",
         "string",
         "NO",
         1
        ],
        [
         "envlp_encryp_vault",
         "pci_pii_dataset",
         "customer_records_1",
         "email",
         "string",
         "YES",
         2
        ],
        [
         "envlp_encryp_vault",
         "pci_pii_dataset",
         "customer_records_1",
         "email_hash",
         "string",
         "NO",
         3
        ],
        [
         "envlp_encryp_vault",
         "pci_pii_dataset",
         "customer_records_1",
         "phone_number",
         "string",
         "YES",
         4
        ],
        [
         "envlp_encryp_vault",
         "pci_pii_dataset",
         "customer_records_1",
         "phone_number_hash",
         "string",
         "NO",
         5
        ],
        [
         "envlp_encryp_vault",
         "pci_pii_dataset",
         "customer_records_1",
         "dob",
         "string",
         "YES",
         6
        ],
        [
         "envlp_encryp_vault",
         "pci_pii_dataset",
         "customer_records_1",
         "dob_hash",
         "string",
         "NO",
         7
        ],
        [
         "envlp_encryp_vault",
         "pci_pii_dataset",
         "customer_records_1",
         "ssn",
         "string",
         "YES",
         8
        ],
        [
         "envlp_encryp_vault",
         "pci_pii_dataset",
         "customer_records_1",
         "ssn_hash",
         "string",
         "NO",
         9
        ],
        [
         "envlp_encryp_vault",
         "pci_pii_dataset",
         "customer_records_1",
         "pan",
         "string",
         "YES",
         10
        ],
        [
         "envlp_encryp_vault",
         "pci_pii_dataset",
         "customer_records_1",
         "pan_hash",
         "string",
         "NO",
         11
        ],
        [
         "envlp_encryp_vault",
         "pci_pii_dataset",
         "customer_records_1",
         "address",
         "string",
         "YES",
         12
        ],
        [
         "envlp_encryp_vault",
         "pci_pii_dataset",
         "customer_records_1",
         "address_hash",
         "string",
         "NO",
         13
        ],
        [
         "envlp_encryp_vault",
         "pci_pii_dataset",
         "customer_records_1",
         "exp_date",
         "string",
         "YES",
         14
        ],
        [
         "envlp_encryp_vault",
         "pci_pii_dataset",
         "customer_records_1",
         "exp_date_hash",
         "string",
         "NO",
         15
        ],
        [
         "envlp_encryp_vault",
         "pci_pii_dataset",
         "customer_records_1",
         "bank_name",
         "string",
         "YES",
         16
        ]
       ],
       "datasetInfos": [],
       "dbfsResultPath": null,
       "isJsonSchema": true,
       "metadata": {},
       "overflow": false,
       "plotOptions": {
        "customPlotOptions": {},
        "displayType": "table",
        "pivotAggregation": null,
        "pivotColumns": null,
        "xColumns": null,
        "yColumns": null
       },
       "removedWidgets": [],
       "schema": [
        {
         "metadata": "{\"comment\":\"Catalog that contains the relation.\"}",
         "name": "catalog_name",
         "type": "\"string\""
        },
        {
         "metadata": "{\"comment\":\"Schema that contains the relation.\"}",
         "name": "schema_name",
         "type": "\"string\""
        },
        {
         "metadata": "{\"comment\":\"Name of the relation the column is part of.\"}",
         "name": "table_name",
         "type": "\"string\""
        },
        {
         "metadata": "{\"comment\":\"Name of the column.\"}",
         "name": "column_name",
         "type": "\"string\""
        },
        {
         "metadata": "{\"comment\":\"The data type as specified in the column definition.\"}",
         "name": "full_data_type",
         "type": "\"string\""
        },
        {
         "metadata": "{\"comment\":\"YES if column is nullable, NO otherwise.\"}",
         "name": "is_nullable",
         "type": "\"string\""
        },
        {
         "metadata": "{\"comment\":\"The position (numbered from 1) of the column within the relation.\"}",
         "name": "ordinal_position",
         "type": "\"integer\""
        }
       ],
       "type": "table"
      }
     },
     "output_type": "display_data"
    }
   ],
   "source": [
    "vault_tables_columns = f\"\"\"\n",
    "--Identify all the managed tables existing in vault catalog\n",
    "with tables_in_vault as (\n",
    "    select table_catalog as catalog_name, table_schema as schema_name, table_name from system.information_schema.tables where table_catalog = '{source_catalog}' and table_type = 'MANAGED'\n",
    "),\n",
    "--Identify all the managed tables existing in anonymized catalog\n",
    "tables_in_anonymized as (\n",
    "    select table_catalog as catalog_name, table_schema as schema_name, table_name from system.information_schema.tables where table_catalog = '{target_catalog}' and table_type = 'MANAGED'\n",
    "),\n",
    "--Identify new tables that exists in vault catalog but not in anonymized catalog\n",
    "new_tables_in_vault as (\n",
    "    select \n",
    "    tv.catalog_name \n",
    "    ,tv.schema_name\n",
    "    ,tv.table_name \n",
    "    from tables_in_vault tv\n",
    "    left join tables_in_anonymized tannoy\n",
    "    on tv.schema_name = tannoy.schema_name\n",
    "    and tv.table_name = tannoy.table_name\n",
    "    where tannoy.schema_name is null and tannoy.table_name is null\n",
    "),\n",
    "--Identify the list of columns in all the tables in vault catalog\n",
    "vault_tables_and_columns as (\n",
    "    select cols.table_catalog as catalog_name, cols.table_schema as schema_name, cols.table_name, cols.column_name, cols.full_data_type, cols.is_nullable, cols.ordinal_position\n",
    "    from system.information_schema.columns cols\n",
    "    inner join new_tables_in_vault vlttbls\n",
    "    on cols.table_catalog = vlttbls.catalog_name\n",
    "    and cols.table_schema = vlttbls.schema_name\n",
    "    and cols.table_name = vlttbls.table_name\n",
    ")\n",
    "select * from vault_tables_and_columns \n",
    "order by catalog_name, schema_name, table_name, ordinal_position \"\"\"\n",
    "\n",
    "df_vault_tables_columns = spark.sql(vault_tables_columns)\n",
    "display(df_vault_tables_columns)"
   ]
  },
  {
   "cell_type": "code",
   "execution_count": 0,
   "metadata": {
    "application/vnd.databricks.v1+cell": {
     "cellMetadata": {
      "byteLimit": 2048000,
      "rowLimit": 10000
     },
     "inputWidgets": {},
     "nuid": "43815a34-c800-4d6a-8ed0-70c55dd86602",
     "showTitle": false,
     "tableResultSettingsMap": {},
     "title": ""
    }
   },
   "outputs": [],
   "source": [
    "#Save the dataframe results to volume to persist the results\n",
    "unique_id = str(uuid.uuid4())\n",
    "path = f\"{dataframe_results_volume_location}/{unique_id}\"\n",
    "df_vault_tables_columns.write.mode(\"overwrite\").parquet(path)\n",
    "\n",
    "#Read the dataframe results from the persisted location\n",
    "df_vault_tables_columns = spark.read.parquet(path)"
   ]
  },
  {
   "cell_type": "markdown",
   "metadata": {
    "application/vnd.databricks.v1+cell": {
     "cellMetadata": {
      "byteLimit": 2048000,
      "rowLimit": 10000
     },
     "inputWidgets": {},
     "nuid": "1609c6ee-cd02-4dff-924a-6968bc340ca2",
     "showTitle": false,
     "tableResultSettingsMap": {},
     "title": ""
    }
   },
   "source": [
    "- df_tables_to_load contains list of new tables created and existing tables with new data in landing catalog that needs to be ingested into vault catalog"
   ]
  },
  {
   "cell_type": "code",
   "execution_count": 0,
   "metadata": {
    "application/vnd.databricks.v1+cell": {
     "cellMetadata": {
      "byteLimit": 2048000,
      "rowLimit": 10000
     },
     "inputWidgets": {},
     "nuid": "3e6575ca-7161-4b38-b3f0-e24c1605d019",
     "showTitle": false,
     "tableResultSettingsMap": {},
     "title": ""
    }
   },
   "outputs": [],
   "source": [
    "df_tables_to_load = envlp_encryp_data_loader.get_distinct_tables_to_load(df_vault_tables_columns)\n",
    "#display(df_tables_to_load)\n"
   ]
  },
  {
   "cell_type": "markdown",
   "metadata": {
    "application/vnd.databricks.v1+cell": {
     "cellMetadata": {
      "byteLimit": 2048000,
      "rowLimit": 10000
     },
     "inputWidgets": {},
     "nuid": "e84ae015-4ce4-4d9c-b666-cb200af0ddd3",
     "showTitle": false,
     "tableResultSettingsMap": {},
     "title": ""
    }
   },
   "source": [
    "- Fetch the column tags from system.information_schema.column_tags"
   ]
  },
  {
   "cell_type": "code",
   "execution_count": 0,
   "metadata": {
    "application/vnd.databricks.v1+cell": {
     "cellMetadata": {
      "byteLimit": 2048000,
      "rowLimit": 10000
     },
     "inputWidgets": {},
     "nuid": "7b27498d-cd82-46bf-8b34-ce1332b0bf66",
     "showTitle": false,
     "tableResultSettingsMap": {},
     "title": ""
    }
   },
   "outputs": [],
   "source": [
    "df_col_tags = envlp_encryp_data_loader.get_column_tags(source_catalog)\n",
    "#display(df_col_tags)"
   ]
  },
  {
   "cell_type": "code",
   "execution_count": 0,
   "metadata": {
    "application/vnd.databricks.v1+cell": {
     "cellMetadata": {
      "byteLimit": 2048000,
      "rowLimit": 10000
     },
     "inputWidgets": {},
     "nuid": "3d92b9d2-175a-45d2-81d9-977949dd32f6",
     "showTitle": false,
     "tableResultSettingsMap": {},
     "title": ""
    }
   },
   "outputs": [],
   "source": [
    "def process_single_table(row, df_vault_tables_columns, df_col_tags, target_catalog, envlp_encryp_data_loader):\n",
    "    # Extract relevant table metadata from the input row\n",
    "    source_catalog = row[\"catalog_name\"]\n",
    "    schema = row[\"schema_name\"]\n",
    "    table = row[\"table_name\"]\n",
    "\n",
    "    # Lists to collect ALTER statements for masking and tag propagation\n",
    "    propagate_tags_statements = []\n",
    "    hash_statements = {}\n",
    "\n",
    "    # Fetch full list of column names and data types from the source table\n",
    "    columns_datatype = envlp_encryp_data_loader.collect_source_table_columns_datatype(source_catalog, schema, table, df_vault_tables_columns)\n",
    "\n",
    "    target_table = f\"`{target_catalog}`.`{schema}`.`{table}`\"\n",
    "\n",
    "    envlp_encryp_data_loader.create_schema(target_catalog, schema)\n",
    "    create_target_table_statement = envlp_encryp_data_loader.generate_create_table_statement(\n",
    "        source_catalog, schema, table, columns_datatype, hash_statements, target_table\n",
    "    )\n",
    "        \n",
    "    spark.sql(create_target_table_statement)\n",
    "\n",
    "    # Generate the INSERT statement with hash columns (if needed)\n",
    "    insert_statements = envlp_encryp_data_loader.generate_insert_statement(\n",
    "        source_catalog, schema, table, target_catalog, columns_datatype, hash_statements\n",
    "    )\n",
    "    #print(insert_statements)\n",
    "\n",
    "    # Fetch column tags and prepare ALTER statements to propagate them\n",
    "    column_tags = envlp_encryp_data_loader.collect_column_tags(source_catalog, schema, table, df_col_tags)\n",
    "    propagate_tags_statements.extend(envlp_encryp_data_loader.propagate_tags_statement(schema, table, target_catalog, column_tags, hash_statements))\n",
    "\n",
    "    # Execute data insert into the vault table\n",
    "    spark.sql(insert_statements)\n",
    "\n",
    "    # Apply tags to both raw and hash columns\n",
    "    for apply_tags in propagate_tags_statements:\n",
    "        spark.sql(apply_tags)"
   ]
  },
  {
   "cell_type": "markdown",
   "metadata": {
    "application/vnd.databricks.v1+cell": {
     "cellMetadata": {},
     "inputWidgets": {},
     "nuid": "c8dca54d-bd15-41df-8ff5-2376c9a665ad",
     "showTitle": false,
     "tableResultSettingsMap": {},
     "title": ""
    }
   },
   "source": [
    "Process the tables to the anonymized catalog"
   ]
  },
  {
   "cell_type": "code",
   "execution_count": 0,
   "metadata": {
    "application/vnd.databricks.v1+cell": {
     "cellMetadata": {
      "byteLimit": 2048000,
      "rowLimit": 10000
     },
     "inputWidgets": {},
     "nuid": "03215a2b-ece4-4666-8475-21cbb2348f65",
     "showTitle": false,
     "tableResultSettingsMap": {},
     "title": ""
    }
   },
   "outputs": [],
   "source": [
    "rows = df_tables_to_load.collect()\n",
    "for row in rows:\n",
    "  process_single_table(row, df_vault_tables_columns, df_col_tags, target_catalog, envlp_encryp_data_loader)"
   ]
  },
  {
   "cell_type": "code",
   "execution_count": 0,
   "metadata": {
    "application/vnd.databricks.v1+cell": {
     "cellMetadata": {
      "byteLimit": 2048000,
      "rowLimit": 10000
     },
     "inputWidgets": {},
     "nuid": "feaecb2c-f54a-4f8b-94fd-e91871529979",
     "showTitle": false,
     "tableResultSettingsMap": {},
     "title": ""
    }
   },
   "outputs": [
    {
     "output_type": "stream",
     "name": "stdout",
     "output_type": "stream",
     "text": [
      "Collecting azure-identity\n  Downloading azure_identity-1.23.0-py3-none-any.whl.metadata (81 kB)\n\u001B[?25l     \u001B[90m━━━━━━━━━━━━━━━━━━━━━━━━━━━━━━━━━━━━━━━━\u001B[0m \u001B[32m0.0/81.9 kB\u001B[0m \u001B[31m?\u001B[0m eta \u001B[36m-:--:--\u001B[0m\n\u001B[2K     \u001B[90m━━━━━━━━━━━━━━━━━━━━━━━━━━━━━━━━━━━━━━━━\u001B[0m \u001B[32m81.9/81.9 kB\u001B[0m \u001B[31m3.9 MB/s\u001B[0m eta \u001B[36m0:00:00\u001B[0m\n\u001B[?25hRequirement already satisfied: azure-core>=1.31.0 in /databricks/python3/lib/python3.12/site-packages (from azure-identity) (1.31.0)\nRequirement already satisfied: cryptography>=2.5 in /databricks/python3/lib/python3.12/site-packages (from azure-identity) (42.0.5)\nCollecting msal>=1.30.0 (from azure-identity)\n  Downloading msal-1.32.3-py3-none-any.whl.metadata (11 kB)\nCollecting msal-extensions>=1.2.0 (from azure-identity)\n  Downloading msal_extensions-1.3.1-py3-none-any.whl.metadata (7.8 kB)\nRequirement already satisfied: typing-extensions>=4.0.0 in /databricks/python3/lib/python3.12/site-packages (from azure-identity) (4.11.0)\nRequirement already satisfied: requests>=2.21.0 in /databricks/python3/lib/python3.12/site-packages (from azure-core>=1.31.0->azure-identity) (2.32.2)\nRequirement already satisfied: six>=1.11.0 in /usr/lib/python3/dist-packages (from azure-core>=1.31.0->azure-identity) (1.16.0)\nRequirement already satisfied: cffi>=1.12 in /databricks/python3/lib/python3.12/site-packages (from cryptography>=2.5->azure-identity) (1.16.0)\nRequirement already satisfied: PyJWT<3,>=1.0.0 in /usr/lib/python3/dist-packages (from PyJWT[crypto]<3,>=1.0.0->msal>=1.30.0->azure-identity) (2.7.0)\nRequirement already satisfied: pycparser in /databricks/python3/lib/python3.12/site-packages (from cffi>=1.12->cryptography>=2.5->azure-identity) (2.21)\nRequirement already satisfied: charset-normalizer<4,>=2 in /databricks/python3/lib/python3.12/site-packages (from requests>=2.21.0->azure-core>=1.31.0->azure-identity) (2.0.4)\nRequirement already satisfied: idna<4,>=2.5 in /databricks/python3/lib/python3.12/site-packages (from requests>=2.21.0->azure-core>=1.31.0->azure-identity) (3.7)\nRequirement already satisfied: urllib3<3,>=1.21.1 in /databricks/python3/lib/python3.12/site-packages (from requests>=2.21.0->azure-core>=1.31.0->azure-identity) (1.26.16)\nRequirement already satisfied: certifi>=2017.4.17 in /databricks/python3/lib/python3.12/site-packages (from requests>=2.21.0->azure-core>=1.31.0->azure-identity) (2024.6.2)\nDownloading azure_identity-1.23.0-py3-none-any.whl (186 kB)\n\u001B[?25l   \u001B[90m━━━━━━━━━━━━━━━━━━━━━━━━━━━━━━━━━━━━━━━━\u001B[0m \u001B[32m0.0/186.1 kB\u001B[0m \u001B[31m?\u001B[0m eta \u001B[36m-:--:--\u001B[0m\n\u001B[2K   \u001B[90m━━━━━━━━━━━━━━━━━━━━━━━━━━━━━━━━━━━━━━━━\u001B[0m \u001B[32m186.1/186.1 kB\u001B[0m \u001B[31m13.7 MB/s\u001B[0m eta \u001B[36m0:00:00\u001B[0m\n\u001B[?25hDownloading msal-1.32.3-py3-none-any.whl (115 kB)\n\u001B[?25l   \u001B[90m━━━━━━━━━━━━━━━━━━━━━━━━━━━━━━━━━━━━━━━━\u001B[0m \u001B[32m0.0/115.4 kB\u001B[0m \u001B[31m?\u001B[0m eta \u001B[36m-:--:--\u001B[0m\n\u001B[2K   \u001B[90m━━━━━━━━━━━━━━━━━━━━━━━━━━━━━━━━━━━━━━━━\u001B[0m \u001B[32m115.4/115.4 kB\u001B[0m \u001B[31m9.2 MB/s\u001B[0m eta \u001B[36m0:00:00\u001B[0m\n\u001B[?25hDownloading msal_extensions-1.3.1-py3-none-any.whl (20 kB)\nInstalling collected packages: msal, msal-extensions, azure-identity\nSuccessfully installed azure-identity-1.23.0 msal-1.32.3 msal-extensions-1.3.1\n\u001B[43mNote: you may need to restart the kernel using %restart_python or dbutils.library.restartPython() to use updated packages.\u001B[0m\n"
     ]
    }
   ],
   "source": [
    "pip install azure-identity"
   ]
  },
  {
   "cell_type": "code",
   "execution_count": 0,
   "metadata": {
    "application/vnd.databricks.v1+cell": {
     "cellMetadata": {
      "byteLimit": 2048000,
      "rowLimit": 10000
     },
     "inputWidgets": {},
     "nuid": "dbd55fbe-8799-4ebb-af52-7f113dd002cf",
     "showTitle": false,
     "tableResultSettingsMap": {},
     "title": ""
    }
   },
   "outputs": [],
   "source": [
    "%restart_python"
   ]
  },
  {
   "cell_type": "code",
   "execution_count": 0,
   "metadata": {
    "application/vnd.databricks.v1+cell": {
     "cellMetadata": {
      "byteLimit": 2048000,
      "rowLimit": 10000
     },
     "inputWidgets": {},
     "nuid": "42bae1c7-a861-4702-b87d-549175d28cf8",
     "showTitle": false,
     "tableResultSettingsMap": {},
     "title": ""
    }
   },
   "outputs": [
    {
     "output_type": "stream",
     "name": "stdout",
     "output_type": "stream",
     "text": [
      "<azure.identity._credentials.default.DefaultAzureCredential object at 0x7e4f3010c6b0>\n"
     ]
    }
   ],
   "source": [
    "from azure.identity import DefaultAzureCredential\n",
    "\n",
    "\n",
    "cred = DefaultAzureCredential()\n",
    "print(cred)"
   ]
  },
  {
   "cell_type": "code",
   "execution_count": 0,
   "metadata": {
    "application/vnd.databricks.v1+cell": {
     "cellMetadata": {
      "byteLimit": 2048000,
      "rowLimit": 10000
     },
     "inputWidgets": {},
     "nuid": "2356ad8b-616f-4dbc-984c-ff8bb3917edb",
     "showTitle": false,
     "tableResultSettingsMap": {},
     "title": ""
    }
   },
   "outputs": [
    {
     "output_type": "stream",
     "name": "stdout",
     "output_type": "stream",
     "text": [
      "{'_successful_credential': None, 'credentials': (<dbruntime.servicecredentials.servicecredentials.getAzureDBServiceCredentialsProvider.<locals>.ServiceCredentialTokenProvider object at 0x7e4f3010dd00>, <azure.identity._credentials.environment.EnvironmentCredential object at 0x7e4f300a4ce0>, <azure.identity._credentials.managed_identity.ManagedIdentityCredential object at 0x7e4f680af680>, <azure.identity._credentials.shared_cache.SharedTokenCacheCredential object at 0x7e4f2773e000>, <azure.identity._credentials.azure_cli.AzureCliCredential object at 0x7e4f3018f230>, <azure.identity._credentials.azure_powershell.AzurePowerShellCredential object at 0x7e4f277846b0>, <azure.identity._credentials.azd_cli.AzureDeveloperCliCredential object at 0x7e4f27784710>)}\n"
     ]
    }
   ],
   "source": [
    "print(cred.__dict__)"
   ]
  }
 ],
 "metadata": {
  "application/vnd.databricks.v1+notebook": {
   "computePreferences": null,
   "dashboards": [],
   "environmentMetadata": {
    "base_environment": "",
    "environment_version": "2"
   },
   "inputWidgetPreferences": null,
   "language": "python",
   "notebookMetadata": {
    "mostRecentlyExecutedCommandWithImplicitDF": {
     "commandId": 2841115366975264,
     "dataframes": [
      "_sqldf"
     ]
    },
    "pythonIndentUnit": 2
   },
   "notebookName": "5_populate_anonymized_tables",
   "widgets": {
    "dataframe_results_volume_location": {
     "currentValue": "/Volumes/envlp_encryp_vault/default/dataframe_results",
     "nuid": "fbde8a31-5d9f-4c4d-96f7-7e40add119ee",
     "typedWidgetInfo": {
      "autoCreated": false,
      "defaultValue": "",
      "label": "",
      "name": "dataframe_results_volume_location",
      "options": {
       "widgetDisplayType": "Text",
       "validationRegex": null
      },
      "parameterDataType": "String"
     },
     "widgetInfo": {
      "widgetType": "text",
      "defaultValue": "",
      "label": "",
      "name": "dataframe_results_volume_location",
      "options": {
       "widgetType": "text",
       "autoCreated": null,
       "validationRegex": null
      }
     }
    },
    "envlp_encryp_anonymized_catalog_name": {
     "currentValue": "envlp_encryp_anonymized",
     "nuid": "b188248d-ded0-4924-b0dd-80fd00cce82e",
     "typedWidgetInfo": {
      "autoCreated": false,
      "defaultValue": "",
      "label": "",
      "name": "envlp_encryp_anonymized_catalog_name",
      "options": {
       "widgetDisplayType": "Text",
       "validationRegex": null
      },
      "parameterDataType": "String"
     },
     "widgetInfo": {
      "widgetType": "text",
      "defaultValue": "",
      "label": "",
      "name": "envlp_encryp_anonymized_catalog_name",
      "options": {
       "widgetType": "text",
       "autoCreated": null,
       "validationRegex": null
      }
     }
    },
    "envlp_encryp_classifier_volume_location": {
     "currentValue": "",
     "nuid": "d3c1096d-178d-4b33-b86e-df920b5bb5b0",
     "typedWidgetInfo": {
      "autoCreated": false,
      "defaultValue": "",
      "label": "",
      "name": "envlp_encryp_classifier_volume_location",
      "options": {
       "widgetDisplayType": "Text",
       "validationRegex": null
      },
      "parameterDataType": "String"
     },
     "widgetInfo": {
      "widgetType": "text",
      "defaultValue": "",
      "label": "",
      "name": "envlp_encryp_classifier_volume_location",
      "options": {
       "widgetType": "text",
       "autoCreated": null,
       "validationRegex": null
      }
     }
    },
    "envlp_encryp_core_catalog_name": {
     "currentValue": "envlp_encryp_core",
     "nuid": "17d2506a-defd-4eed-b6b6-2255fab09127",
     "typedWidgetInfo": {
      "autoCreated": false,
      "defaultValue": "",
      "label": "",
      "name": "envlp_encryp_core_catalog_name",
      "options": {
       "widgetDisplayType": "Text",
       "validationRegex": null
      },
      "parameterDataType": "String"
     },
     "widgetInfo": {
      "widgetType": "text",
      "defaultValue": "",
      "label": "",
      "name": "envlp_encryp_core_catalog_name",
      "options": {
       "widgetType": "text",
       "autoCreated": null,
       "validationRegex": null
      }
     }
    },
    "envlp_encryp_decrypt_dsk_function_name": {
     "currentValue": "",
     "nuid": "fa2d0282-4597-4085-b529-9ed8a9c2eebe",
     "typedWidgetInfo": {
      "autoCreated": false,
      "defaultValue": "",
      "label": "",
      "name": "envlp_encryp_decrypt_dsk_function_name",
      "options": {
       "widgetDisplayType": "Text",
       "validationRegex": null
      },
      "parameterDataType": "String"
     },
     "widgetInfo": {
      "widgetType": "text",
      "defaultValue": "",
      "label": "",
      "name": "envlp_encryp_decrypt_dsk_function_name",
      "options": {
       "widgetType": "text",
       "autoCreated": null,
       "validationRegex": null
      }
     }
    },
    "envlp_encryp_generate_kek_dsk_function_name": {
     "currentValue": "",
     "nuid": "d6c9a0f9-2fd0-40ed-814c-5a3bdc5670c6",
     "typedWidgetInfo": {
      "autoCreated": false,
      "defaultValue": "",
      "label": "",
      "name": "envlp_encryp_generate_kek_dsk_function_name",
      "options": {
       "widgetDisplayType": "Text",
       "validationRegex": null
      },
      "parameterDataType": "String"
     },
     "widgetInfo": {
      "widgetType": "text",
      "defaultValue": "",
      "label": "",
      "name": "envlp_encryp_generate_kek_dsk_function_name",
      "options": {
       "widgetType": "text",
       "autoCreated": null,
       "validationRegex": null
      }
     }
    },
    "envlp_encryp_key_vault_name": {
     "currentValue": "",
     "nuid": "249cb757-c86e-4f49-a6c7-dfd95e4024dc",
     "typedWidgetInfo": {
      "autoCreated": false,
      "defaultValue": "",
      "label": "",
      "name": "envlp_encryp_key_vault_name",
      "options": {
       "widgetDisplayType": "Text",
       "validationRegex": null
      },
      "parameterDataType": "String"
     },
     "widgetInfo": {
      "widgetType": "text",
      "defaultValue": "",
      "label": "",
      "name": "envlp_encryp_key_vault_name",
      "options": {
       "widgetType": "text",
       "autoCreated": null,
       "validationRegex": null
      }
     }
    },
    "envlp_encryp_landing_catalog_name": {
     "currentValue": "",
     "nuid": "ab00fcb1-5b32-484e-88e9-7832033146a3",
     "typedWidgetInfo": {
      "autoCreated": false,
      "defaultValue": "",
      "label": "",
      "name": "envlp_encryp_landing_catalog_name",
      "options": {
       "widgetDisplayType": "Text",
       "validationRegex": null
      },
      "parameterDataType": "String"
     },
     "widgetInfo": {
      "widgetType": "text",
      "defaultValue": "",
      "label": "",
      "name": "envlp_encryp_landing_catalog_name",
      "options": {
       "widgetType": "text",
       "autoCreated": null,
       "validationRegex": null
      }
     }
    },
    "envlp_encryp_secret_scope_name": {
     "currentValue": "",
     "nuid": "b43907ec-9a60-403a-b8bd-2dd4b9229e76",
     "typedWidgetInfo": {
      "autoCreated": false,
      "defaultValue": "",
      "label": "",
      "name": "envlp_encryp_secret_scope_name",
      "options": {
       "widgetDisplayType": "Text",
       "validationRegex": null
      },
      "parameterDataType": "String"
     },
     "widgetInfo": {
      "widgetType": "text",
      "defaultValue": "",
      "label": "",
      "name": "envlp_encryp_secret_scope_name",
      "options": {
       "widgetType": "text",
       "autoCreated": null,
       "validationRegex": null
      }
     }
    },
    "envlp_encryp_sp_client_id_key": {
     "currentValue": "",
     "nuid": "98158990-284f-4201-8df6-8b74b24c0f2f",
     "typedWidgetInfo": {
      "autoCreated": false,
      "defaultValue": "",
      "label": "",
      "name": "envlp_encryp_sp_client_id_key",
      "options": {
       "widgetDisplayType": "Text",
       "validationRegex": null
      },
      "parameterDataType": "String"
     },
     "widgetInfo": {
      "widgetType": "text",
      "defaultValue": "",
      "label": "",
      "name": "envlp_encryp_sp_client_id_key",
      "options": {
       "widgetType": "text",
       "autoCreated": null,
       "validationRegex": null
      }
     }
    },
    "envlp_encryp_sp_client_secret_key": {
     "currentValue": "",
     "nuid": "8a0f2f47-fde1-46e4-ba0a-33ab32a0914b",
     "typedWidgetInfo": {
      "autoCreated": false,
      "defaultValue": "",
      "label": "",
      "name": "envlp_encryp_sp_client_secret_key",
      "options": {
       "widgetDisplayType": "Text",
       "validationRegex": null
      },
      "parameterDataType": "String"
     },
     "widgetInfo": {
      "widgetType": "text",
      "defaultValue": "",
      "label": "",
      "name": "envlp_encryp_sp_client_secret_key",
      "options": {
       "widgetType": "text",
       "autoCreated": null,
       "validationRegex": null
      }
     }
    },
    "envlp_encryp_sp_tenant_id_key": {
     "currentValue": "",
     "nuid": "98b3fbb2-a342-4c47-93c9-e0ada6c6b5b6",
     "typedWidgetInfo": {
      "autoCreated": false,
      "defaultValue": "",
      "label": "",
      "name": "envlp_encryp_sp_tenant_id_key",
      "options": {
       "widgetDisplayType": "Text",
       "validationRegex": null
      },
      "parameterDataType": "String"
     },
     "widgetInfo": {
      "widgetType": "text",
      "defaultValue": "",
      "label": "",
      "name": "envlp_encryp_sp_tenant_id_key",
      "options": {
       "widgetType": "text",
       "autoCreated": null,
       "validationRegex": null
      }
     }
    },
    "envlp_encryp_vault_catalog_name": {
     "currentValue": "envlp_encryp_vault",
     "nuid": "d36519ca-8601-4154-beb3-304139992c8d",
     "typedWidgetInfo": {
      "autoCreated": false,
      "defaultValue": "",
      "label": "",
      "name": "envlp_encryp_vault_catalog_name",
      "options": {
       "widgetDisplayType": "Text",
       "validationRegex": null
      },
      "parameterDataType": "String"
     },
     "widgetInfo": {
      "widgetType": "text",
      "defaultValue": "",
      "label": "",
      "name": "envlp_encryp_vault_catalog_name",
      "options": {
       "widgetType": "text",
       "autoCreated": null,
       "validationRegex": null
      }
     }
    }
   }
  },
  "language_info": {
   "name": "python"
  }
 },
 "nbformat": 4,
 "nbformat_minor": 0
}