{
 "cells": [
  {
   "cell_type": "markdown",
   "metadata": {
    "application/vnd.databricks.v1+cell": {
     "cellMetadata": {
      "byteLimit": 2048000,
      "rowLimit": 10000
     },
     "inputWidgets": {},
     "nuid": "bb711c26-2f45-4add-9570-75c9991c5ec9",
     "showTitle": false,
     "tableResultSettingsMap": {},
     "title": ""
    }
   },
   "source": [
    "Define the Widgets for variables that need to be parameterized in this notebook"
   ]
  },
  {
   "cell_type": "code",
   "execution_count": 0,
   "metadata": {
    "application/vnd.databricks.v1+cell": {
     "cellMetadata": {
      "byteLimit": 2048000,
      "rowLimit": 10000
     },
     "inputWidgets": {},
     "nuid": "54735e93-dc51-4c63-8643-eac7d429adc0",
     "showTitle": false,
     "tableResultSettingsMap": {},
     "title": ""
    }
   },
   "outputs": [
    {
     "output_type": "display_data",
     "data": {
      "text/html": [
       "<style scoped>\n",
       "  .table-result-container {\n",
       "    max-height: 300px;\n",
       "    overflow: auto;\n",
       "  }\n",
       "  table, th, td {\n",
       "    border: 1px solid black;\n",
       "    border-collapse: collapse;\n",
       "  }\n",
       "  th, td {\n",
       "    padding: 5px;\n",
       "  }\n",
       "  th {\n",
       "    text-align: left;\n",
       "  }\n",
       "</style><div class='table-result-container'><table class='table-result'><thead style='background-color: white'><tr></tr></thead><tbody></tbody></table></div>"
      ]
     },
     "metadata": {
      "application/vnd.databricks.v1+output": {
       "addedWidgets": {
        "envlp_encryp_core_catalog_name": {
         "defaultValue": "",
         "label": null,
         "name": "envlp_encryp_core_catalog_name",
         "options": {
          "autoCreated": null,
          "validationRegex": null,
          "widgetType": "text"
         },
         "widgetType": "text"
        },
        "envlp_encryp_generate_kek_dsk_function_name": {
         "defaultValue": "",
         "label": null,
         "name": "envlp_encryp_generate_kek_dsk_function_name",
         "options": {
          "autoCreated": null,
          "validationRegex": null,
          "widgetType": "text"
         },
         "widgetType": "text"
        },
        "envlp_encryp_get_decrypted_dsk_function_name": {
         "defaultValue": "",
         "label": null,
         "name": "envlp_encryp_get_decrypted_dsk_function_name",
         "options": {
          "autoCreated": null,
          "validationRegex": null,
          "widgetType": "text"
         },
         "widgetType": "text"
        },
        "envlp_encryp_key_vault_name": {
         "defaultValue": "",
         "label": null,
         "name": "envlp_encryp_key_vault_name",
         "options": {
          "autoCreated": null,
          "validationRegex": null,
          "widgetType": "text"
         },
         "widgetType": "text"
        },
        "envlp_encryp_pci_pii_attribute_table_name": {
         "defaultValue": "",
         "label": null,
         "name": "envlp_encryp_pci_pii_attribute_table_name",
         "options": {
          "autoCreated": null,
          "validationRegex": null,
          "widgetType": "text"
         },
         "widgetType": "text"
        },
        "envlp_encryp_rotate_kek_function_name": {
         "defaultValue": "",
         "label": null,
         "name": "envlp_encryp_rotate_kek_function_name",
         "options": {
          "autoCreated": null,
          "validationRegex": null,
          "widgetType": "text"
         },
         "widgetType": "text"
        },
        "envlp_encryp_secret_scope_name": {
         "defaultValue": "",
         "label": null,
         "name": "envlp_encryp_secret_scope_name",
         "options": {
          "autoCreated": null,
          "validationRegex": null,
          "widgetType": "text"
         },
         "widgetType": "text"
        },
        "envlp_encryp_sp_client_id_key": {
         "defaultValue": "",
         "label": null,
         "name": "envlp_encryp_sp_client_id_key",
         "options": {
          "autoCreated": null,
          "validationRegex": null,
          "widgetType": "text"
         },
         "widgetType": "text"
        },
        "envlp_encryp_sp_client_secret_key": {
         "defaultValue": "",
         "label": null,
         "name": "envlp_encryp_sp_client_secret_key",
         "options": {
          "autoCreated": null,
          "validationRegex": null,
          "widgetType": "text"
         },
         "widgetType": "text"
        },
        "envlp_encryp_sp_tenant_id_key": {
         "defaultValue": "",
         "label": null,
         "name": "envlp_encryp_sp_tenant_id_key",
         "options": {
          "autoCreated": null,
          "validationRegex": null,
          "widgetType": "text"
         },
         "widgetType": "text"
        }
       },
       "aggData": [],
       "aggError": "",
       "aggOverflow": false,
       "aggSchema": [],
       "aggSeriesLimitReached": false,
       "aggType": "",
       "arguments": {},
       "columnCustomDisplayInfos": {},
       "data": [],
       "datasetInfos": [],
       "dbfsResultPath": null,
       "isJsonSchema": true,
       "metadata": {},
       "overflow": false,
       "plotOptions": {
        "customPlotOptions": {},
        "displayType": "table",
        "pivotAggregation": null,
        "pivotColumns": null,
        "xColumns": null,
        "yColumns": null
       },
       "removedWidgets": [],
       "schema": [],
       "type": "table"
      }
     },
     "output_type": "display_data"
    }
   ],
   "source": [
    "CREATE WIDGET TEXT envlp_encryp_core_catalog_name DEFAULT \"\";\n",
    "CREATE WIDGET TEXT envlp_encryp_generate_kek_dsk_function_name DEFAULT \"\";\n",
    "CREATE WIDGET TEXT envlp_encryp_get_decrypted_dsk_function_name DEFAULT \"\";\n",
    "CREATE WIDGET TEXT envlp_encryp_secret_scope_name DEFAULT \"\";\n",
    "CREATE WIDGET TEXT envlp_encryp_sp_tenant_id_key DEFAULT \"\";\n",
    "CREATE WIDGET TEXT envlp_encryp_sp_client_id_key DEFAULT \"\";\n",
    "CREATE WIDGET TEXT envlp_encryp_sp_client_secret_key DEFAULT \"\";\n",
    "CREATE WIDGET TEXT envlp_encryp_key_vault_name DEFAULT \"\";\n",
    "CREATE WIDGET TEXT envlp_encryp_pci_pii_attribute_table_name DEFAULT \"\";\n",
    "CREATE WIDGET TEXT envlp_encryp_rotate_kek_function_name DEFAULT \"\";"
   ]
  },
  {
   "cell_type": "markdown",
   "metadata": {
    "application/vnd.databricks.v1+cell": {
     "cellMetadata": {
      "byteLimit": 2048000,
      "rowLimit": 10000
     },
     "inputWidgets": {},
     "nuid": "919f7aec-c191-4058-b1ad-547ee943d5be",
     "showTitle": false,
     "tableResultSettingsMap": {},
     "title": ""
    }
   },
   "source": [
    "Create a Python backed SQL UDF to generate the KEK (Key Encryption Key) and DSK (Data Salt Key) for each of the PCI and PII attributes and store the KEK as Keys and DSK as secrets in key vault. The DSK will be encrypted using the respective KEK prior to storing as secrets."
   ]
  },
  {
   "cell_type": "code",
   "execution_count": 0,
   "metadata": {
    "application/vnd.databricks.v1+cell": {
     "cellMetadata": {
      "byteLimit": 2048000,
      "rowLimit": 10000
     },
     "inputWidgets": {},
     "nuid": "9b76829d-987a-4910-ac55-ddbb9763a6b7",
     "showTitle": false,
     "tableResultSettingsMap": {},
     "title": ""
    }
   },
   "outputs": [
    {
     "output_type": "display_data",
     "data": {
      "text/html": [
       "<style scoped>\n",
       "  .table-result-container {\n",
       "    max-height: 300px;\n",
       "    overflow: auto;\n",
       "  }\n",
       "  table, th, td {\n",
       "    border: 1px solid black;\n",
       "    border-collapse: collapse;\n",
       "  }\n",
       "  th, td {\n",
       "    padding: 5px;\n",
       "  }\n",
       "  th {\n",
       "    text-align: left;\n",
       "  }\n",
       "</style><div class='table-result-container'><table class='table-result'><thead style='background-color: white'><tr></tr></thead><tbody></tbody></table></div>"
      ]
     },
     "metadata": {
      "application/vnd.databricks.v1+output": {
       "addedWidgets": {},
       "aggData": [],
       "aggError": "",
       "aggOverflow": false,
       "aggSchema": [],
       "aggSeriesLimitReached": false,
       "aggType": "",
       "arguments": {},
       "columnCustomDisplayInfos": {},
       "data": [],
       "datasetInfos": [],
       "dbfsResultPath": null,
       "isJsonSchema": true,
       "metadata": {},
       "overflow": false,
       "plotOptions": {
        "customPlotOptions": {},
        "displayType": "table",
        "pivotAggregation": null,
        "pivotColumns": null,
        "xColumns": null,
        "yColumns": null
       },
       "removedWidgets": [],
       "schema": [],
       "type": "table"
      }
     },
     "output_type": "display_data"
    }
   ],
   "source": [
    "CREATE OR REPLACE FUNCTION ${envlp_encryp_core_catalog_name}.default.${envlp_encryp_generate_kek_dsk_function_name}(\n",
    "  tenant_id STRING,\n",
    "  client_id STRING,\n",
    "  client_secret STRING,\n",
    "  key_vault_url STRING,\n",
    "  kek_name STRING,\n",
    "  dsk_secret_name STRING\n",
    ")\n",
    "RETURNS STRING\n",
    "LANGUAGE PYTHON\n",
    "AS\n",
    "$$\n",
    "import requests\n",
    "import base64\n",
    "import os\n",
    "import json\n",
    "\n",
    "# Step 1: Authenticate and get access token\n",
    "token_url = f\"https://login.microsoftonline.com/{tenant_id}/oauth2/v2.0/token\"\n",
    "token_data = {\n",
    "    \"grant_type\": \"client_credentials\",\n",
    "    \"client_id\": client_id,\n",
    "    \"client_secret\": client_secret,\n",
    "    \"scope\": \"https://vault.azure.net/.default\"\n",
    "}\n",
    "token_response = requests.post(token_url, data=token_data)\n",
    "token_response.raise_for_status()\n",
    "access_token = token_response.json()[\"access_token\"]\n",
    "\n",
    "headers = {\n",
    "    \"Authorization\": f\"Bearer {access_token}\",\n",
    "    \"Content-Type\": \"application/json\"\n",
    "}\n",
    "\n",
    "# Step 2: Check if KEK already exists (do not create if it exists)\n",
    "check_kek_url = f\"https://{key_vault_url}/keys/{kek_name}?api-version=7.4\"\n",
    "check_kek_response = requests.get(check_kek_url, headers=headers)\n",
    "\n",
    "if check_kek_response.status_code == 200:\n",
    "    print(f\"KEK '{kek_name}' already exists.\")\n",
    "else:\n",
    "    # KEK does not exist, create it\n",
    "    create_key_url = f\"https://{key_vault_url}/keys/{kek_name}/create?api-version=7.4\"\n",
    "    create_key_payload = {\n",
    "        \"kty\": \"RSA\",\n",
    "        \"key_size\": 2048\n",
    "    }\n",
    "    create_response = requests.post(create_key_url, headers=headers, json=create_key_payload)\n",
    "    create_response.raise_for_status()\n",
    "    print(f\"KEK '{kek_name}' created successfully.\")\n",
    "\n",
    "    # Step 2.1: Set key rotation policy (365-day expiry, rotate 30 days prior)\n",
    "    rotation_policy_url = f\"https://{key_vault_url}/keys/{kek_name}/rotationpolicy?api-version=7.4\"\n",
    "    rotation_policy_payload = {\n",
    "        \"attributes\": {\n",
    "            \"expiryTime\": \"P365D\"\n",
    "        },\n",
    "        \"lifetimeActions\": [\n",
    "            {\n",
    "                \"trigger\": {\n",
    "                    \"timeBeforeExpiry\": \"P30D\"\n",
    "                },\n",
    "                \"action\": {\n",
    "                    \"type\": \"Rotate\"\n",
    "                }\n",
    "            }\n",
    "        ]\n",
    "    }\n",
    "    rotation_response = requests.put(rotation_policy_url, headers=headers, json=rotation_policy_payload)\n",
    "    rotation_response.raise_for_status()\n",
    "    print(f\"Rotation policy set for KEK '{kek_name}'.\")\n",
    "\n",
    "# Step 3: Check if DSK already exists\n",
    "check_dsk_url = f\"https://{key_vault_url}/secrets/{dsk_secret_name}?api-version=7.4\"\n",
    "check_dsk_response = requests.get(check_dsk_url, headers=headers)\n",
    "\n",
    "if check_dsk_response.status_code == 200:\n",
    "    return f\"DSK secret '{dsk_secret_name}' already exists. Skipping creation.\"\n",
    "\n",
    "# Step 4: Get latest KEK version\n",
    "versions_url = f\"https://{key_vault_url}/keys/{kek_name}/versions?api-version=7.4\"\n",
    "versions_response = requests.get(versions_url, headers=headers)\n",
    "versions_response.raise_for_status()\n",
    "versions_data = versions_response.json()[\"value\"]\n",
    "latest_version = sorted(versions_data, key=lambda x: x[\"attributes\"][\"created\"], reverse=True)[0][\"kid\"].split(\"/\")[-1]\n",
    "\n",
    "# Step 5: Generate a 256-bit (32-byte) DSK\n",
    "dsk_bytes = os.urandom(32)\n",
    "dsk_b64 = base64.urlsafe_b64encode(dsk_bytes).decode(\"utf-8\").rstrip(\"=\")\n",
    "\n",
    "# Step 6: Encrypt DSK using KEK\n",
    "encrypt_url = f\"https://{key_vault_url}/keys/{kek_name}/{latest_version}/encrypt?api-version=7.4\"\n",
    "encrypt_payload = {\n",
    "    \"alg\": \"RSA-OAEP-256\",\n",
    "    \"value\": dsk_b64\n",
    "}\n",
    "encrypt_response = requests.post(encrypt_url, headers=headers, json=encrypt_payload)\n",
    "encrypt_response.raise_for_status()\n",
    "encrypted_dsk = encrypt_response.json()[\"value\"]\n",
    "\n",
    "# Step 7: Store encrypted DSK with KEK version as a tag\n",
    "store_url = f\"https://{key_vault_url}/secrets/{dsk_secret_name}?api-version=7.4\"\n",
    "store_payload = {\n",
    "    \"value\": encrypted_dsk,\n",
    "    \"tags\": {\n",
    "        \"kek_version\": latest_version\n",
    "    }\n",
    "}\n",
    "store_response = requests.put(store_url, headers=headers, json=store_payload)\n",
    "store_response.raise_for_status()\n",
    "\n",
    "return f\"Key Encryption Key '{kek_name}' is created and stored in the vault as Keys with Rotation Policy enabled. Data Salt Key '{dsk_secret_name}' is created, encrypted using KEK '{kek_name}', added KEK version as tag and stored as secret in the vault\"\n",
    "$$\n"
   ]
  },
  {
   "cell_type": "markdown",
   "metadata": {
    "application/vnd.databricks.v1+cell": {
     "cellMetadata": {
      "byteLimit": 2048000,
      "rowLimit": 10000
     },
     "inputWidgets": {},
     "nuid": "1fcc8dbd-8809-472f-b187-9afe8593a48e",
     "showTitle": false,
     "tableResultSettingsMap": {},
     "title": ""
    }
   },
   "source": [
    "Call the function to generate the KEK and DSK for each PCI / PII attribute"
   ]
  },
  {
   "cell_type": "code",
   "execution_count": 0,
   "metadata": {
    "application/vnd.databricks.v1+cell": {
     "cellMetadata": {
      "byteLimit": 2048000,
      "rowLimit": 10000
     },
     "inputWidgets": {},
     "nuid": "40838d10-9288-4b62-b9bc-1586e04185eb",
     "showTitle": false,
     "tableResultSettingsMap": {},
     "title": ""
    }
   },
   "outputs": [
    {
     "output_type": "display_data",
     "data": {
      "text/html": [
       "<style scoped>\n",
       "  .table-result-container {\n",
       "    max-height: 300px;\n",
       "    overflow: auto;\n",
       "  }\n",
       "  table, th, td {\n",
       "    border: 1px solid black;\n",
       "    border-collapse: collapse;\n",
       "  }\n",
       "  th, td {\n",
       "    padding: 5px;\n",
       "  }\n",
       "  th {\n",
       "    text-align: left;\n",
       "  }\n",
       "</style><div class='table-result-container'><table class='table-result'><thead style='background-color: white'><tr><th>pci_pii_attribute_name</th><th>kek_name</th><th>dsk_name</th><th>generated_kek_dsk</th></tr></thead><tbody><tr><td>dob</td><td>envlp-encryp-key-encryption-key-dob</td><td>envlp-encryp-data-salt-key-dob</td><td>Key Encryption Key 'envlp-encryp-key-encryption-key-dob' is created and stored in the vault as Keys with Rotation Policy enabled. Data Salt Key 'envlp-encryp-data-salt-key-dob' is created, encrypted using KEK 'envlp-encryp-key-encryption-key-dob', added KEK version as tag and stored as secret in the vault</td></tr><tr><td>email</td><td>envlp-encryp-key-encryption-key-email</td><td>envlp-encryp-data-salt-key-email</td><td>Key Encryption Key 'envlp-encryp-key-encryption-key-email' is created and stored in the vault as Keys with Rotation Policy enabled. Data Salt Key 'envlp-encryp-data-salt-key-email' is created, encrypted using KEK 'envlp-encryp-key-encryption-key-email', added KEK version as tag and stored as secret in the vault</td></tr><tr><td>pan</td><td>envlp-encryp-key-encryption-key-pan</td><td>envlp-encryp-data-salt-key-pan</td><td>Key Encryption Key 'envlp-encryp-key-encryption-key-pan' is created and stored in the vault as Keys with Rotation Policy enabled. Data Salt Key 'envlp-encryp-data-salt-key-pan' is created, encrypted using KEK 'envlp-encryp-key-encryption-key-pan', added KEK version as tag and stored as secret in the vault</td></tr><tr><td>exp-date</td><td>envlp-encryp-key-encryption-key-exp-date</td><td>envlp-encryp-data-salt-key-exp-date</td><td>Key Encryption Key 'envlp-encryp-key-encryption-key-exp-date' is created and stored in the vault as Keys with Rotation Policy enabled. Data Salt Key 'envlp-encryp-data-salt-key-exp-date' is created, encrypted using KEK 'envlp-encryp-key-encryption-key-exp-date', added KEK version as tag and stored as secret in the vault</td></tr><tr><td>name</td><td>envlp-encryp-key-encryption-key-name</td><td>envlp-encryp-data-salt-key-name</td><td>Key Encryption Key 'envlp-encryp-key-encryption-key-name' is created and stored in the vault as Keys with Rotation Policy enabled. Data Salt Key 'envlp-encryp-data-salt-key-name' is created, encrypted using KEK 'envlp-encryp-key-encryption-key-name', added KEK version as tag and stored as secret in the vault</td></tr><tr><td>phone</td><td>envlp-encryp-key-encryption-key-phone</td><td>envlp-encryp-data-salt-key-phone</td><td>Key Encryption Key 'envlp-encryp-key-encryption-key-phone' is created and stored in the vault as Keys with Rotation Policy enabled. Data Salt Key 'envlp-encryp-data-salt-key-phone' is created, encrypted using KEK 'envlp-encryp-key-encryption-key-phone', added KEK version as tag and stored as secret in the vault</td></tr><tr><td>ssn</td><td>envlp-encryp-key-encryption-key-ssn</td><td>envlp-encryp-data-salt-key-ssn</td><td>Key Encryption Key 'envlp-encryp-key-encryption-key-ssn' is created and stored in the vault as Keys with Rotation Policy enabled. Data Salt Key 'envlp-encryp-data-salt-key-ssn' is created, encrypted using KEK 'envlp-encryp-key-encryption-key-ssn', added KEK version as tag and stored as secret in the vault</td></tr><tr><td>address</td><td>envlp-encryp-key-encryption-key-address</td><td>envlp-encryp-data-salt-key-address</td><td>Key Encryption Key 'envlp-encryp-key-encryption-key-address' is created and stored in the vault as Keys with Rotation Policy enabled. Data Salt Key 'envlp-encryp-data-salt-key-address' is created, encrypted using KEK 'envlp-encryp-key-encryption-key-address', added KEK version as tag and stored as secret in the vault</td></tr></tbody></table></div>"
      ]
     },
     "metadata": {
      "application/vnd.databricks.v1+output": {
       "addedWidgets": {},
       "aggData": [],
       "aggError": "",
       "aggOverflow": false,
       "aggSchema": [],
       "aggSeriesLimitReached": false,
       "aggType": "",
       "arguments": {},
       "columnCustomDisplayInfos": {},
       "data": [
        [
         "dob",
         "envlp-encryp-key-encryption-key-dob",
         "envlp-encryp-data-salt-key-dob",
         "Key Encryption Key 'envlp-encryp-key-encryption-key-dob' is created and stored in the vault as Keys with Rotation Policy enabled. Data Salt Key 'envlp-encryp-data-salt-key-dob' is created, encrypted using KEK 'envlp-encryp-key-encryption-key-dob', added KEK version as tag and stored as secret in the vault"
        ],
        [
         "email",
         "envlp-encryp-key-encryption-key-email",
         "envlp-encryp-data-salt-key-email",
         "Key Encryption Key 'envlp-encryp-key-encryption-key-email' is created and stored in the vault as Keys with Rotation Policy enabled. Data Salt Key 'envlp-encryp-data-salt-key-email' is created, encrypted using KEK 'envlp-encryp-key-encryption-key-email', added KEK version as tag and stored as secret in the vault"
        ],
        [
         "pan",
         "envlp-encryp-key-encryption-key-pan",
         "envlp-encryp-data-salt-key-pan",
         "Key Encryption Key 'envlp-encryp-key-encryption-key-pan' is created and stored in the vault as Keys with Rotation Policy enabled. Data Salt Key 'envlp-encryp-data-salt-key-pan' is created, encrypted using KEK 'envlp-encryp-key-encryption-key-pan', added KEK version as tag and stored as secret in the vault"
        ],
        [
         "exp-date",
         "envlp-encryp-key-encryption-key-exp-date",
         "envlp-encryp-data-salt-key-exp-date",
         "Key Encryption Key 'envlp-encryp-key-encryption-key-exp-date' is created and stored in the vault as Keys with Rotation Policy enabled. Data Salt Key 'envlp-encryp-data-salt-key-exp-date' is created, encrypted using KEK 'envlp-encryp-key-encryption-key-exp-date', added KEK version as tag and stored as secret in the vault"
        ],
        [
         "name",
         "envlp-encryp-key-encryption-key-name",
         "envlp-encryp-data-salt-key-name",
         "Key Encryption Key 'envlp-encryp-key-encryption-key-name' is created and stored in the vault as Keys with Rotation Policy enabled. Data Salt Key 'envlp-encryp-data-salt-key-name' is created, encrypted using KEK 'envlp-encryp-key-encryption-key-name', added KEK version as tag and stored as secret in the vault"
        ],
        [
         "phone",
         "envlp-encryp-key-encryption-key-phone",
         "envlp-encryp-data-salt-key-phone",
         "Key Encryption Key 'envlp-encryp-key-encryption-key-phone' is created and stored in the vault as Keys with Rotation Policy enabled. Data Salt Key 'envlp-encryp-data-salt-key-phone' is created, encrypted using KEK 'envlp-encryp-key-encryption-key-phone', added KEK version as tag and stored as secret in the vault"
        ],
        [
         "ssn",
         "envlp-encryp-key-encryption-key-ssn",
         "envlp-encryp-data-salt-key-ssn",
         "Key Encryption Key 'envlp-encryp-key-encryption-key-ssn' is created and stored in the vault as Keys with Rotation Policy enabled. Data Salt Key 'envlp-encryp-data-salt-key-ssn' is created, encrypted using KEK 'envlp-encryp-key-encryption-key-ssn', added KEK version as tag and stored as secret in the vault"
        ],
        [
         "address",
         "envlp-encryp-key-encryption-key-address",
         "envlp-encryp-data-salt-key-address",
         "Key Encryption Key 'envlp-encryp-key-encryption-key-address' is created and stored in the vault as Keys with Rotation Policy enabled. Data Salt Key 'envlp-encryp-data-salt-key-address' is created, encrypted using KEK 'envlp-encryp-key-encryption-key-address', added KEK version as tag and stored as secret in the vault"
        ]
       ],
       "datasetInfos": [],
       "dbfsResultPath": null,
       "isJsonSchema": true,
       "metadata": {},
       "overflow": false,
       "plotOptions": {
        "customPlotOptions": {},
        "displayType": "table",
        "pivotAggregation": null,
        "pivotColumns": null,
        "xColumns": null,
        "yColumns": null
       },
       "removedWidgets": [],
       "schema": [
        {
         "metadata": "{}",
         "name": "pci_pii_attribute_name",
         "type": "\"string\""
        },
        {
         "metadata": "{}",
         "name": "kek_name",
         "type": "\"string\""
        },
        {
         "metadata": "{}",
         "name": "dsk_name",
         "type": "\"string\""
        },
        {
         "metadata": "{}",
         "name": "generated_kek_dsk",
         "type": "\"string\""
        }
       ],
       "type": "table"
      }
     },
     "output_type": "display_data"
    }
   ],
   "source": [
    "SELECT pci_pii_attribute_name, kek_name, dsk_name, ${envlp_encryp_core_catalog_name}.default.${envlp_encryp_generate_kek_dsk_function_name}(\n",
    "  try_secret('${envlp_encryp_secret_scope_name}', '${envlp_encryp_sp_tenant_id_key}'),\n",
    "  try_secret('${envlp_encryp_secret_scope_name}', '${envlp_encryp_sp_client_id_key}'),\n",
    "  try_secret('${envlp_encryp_secret_scope_name}', '${envlp_encryp_sp_client_secret_key}'),\n",
    "  '${envlp_encryp_key_vault_name}',\n",
    "  kek_name,\n",
    "  dsk_name\n",
    ") as generated_kek_dsk FROM ${envlp_encryp_core_catalog_name}.default.${envlp_encryp_pci_pii_attribute_table_name};"
   ]
  },
  {
   "cell_type": "markdown",
   "metadata": {
    "application/vnd.databricks.v1+cell": {
     "cellMetadata": {
      "byteLimit": 2048000,
      "rowLimit": 10000
     },
     "inputWidgets": {},
     "nuid": "78abc307-446e-483d-a8c6-d98145aef6df",
     "showTitle": false,
     "tableResultSettingsMap": {},
     "title": ""
    }
   },
   "source": [
    "Create a Python backed SQL UDF to get the decrypted DSK (Data Salt Key) to be used for hashing the PCI / PII attributes while loading to vault catalog."
   ]
  },
  {
   "cell_type": "code",
   "execution_count": 0,
   "metadata": {
    "application/vnd.databricks.v1+cell": {
     "cellMetadata": {
      "byteLimit": 2048000,
      "rowLimit": 10000
     },
     "inputWidgets": {},
     "nuid": "55ed4dea-3982-4436-900f-a9c948ee27ba",
     "showTitle": false,
     "tableResultSettingsMap": {},
     "title": ""
    }
   },
   "outputs": [
    {
     "output_type": "display_data",
     "data": {
      "text/html": [
       "<style scoped>\n",
       "  .table-result-container {\n",
       "    max-height: 300px;\n",
       "    overflow: auto;\n",
       "  }\n",
       "  table, th, td {\n",
       "    border: 1px solid black;\n",
       "    border-collapse: collapse;\n",
       "  }\n",
       "  th, td {\n",
       "    padding: 5px;\n",
       "  }\n",
       "  th {\n",
       "    text-align: left;\n",
       "  }\n",
       "</style><div class='table-result-container'><table class='table-result'><thead style='background-color: white'><tr></tr></thead><tbody></tbody></table></div>"
      ]
     },
     "metadata": {
      "application/vnd.databricks.v1+output": {
       "addedWidgets": {},
       "aggData": [],
       "aggError": "",
       "aggOverflow": false,
       "aggSchema": [],
       "aggSeriesLimitReached": false,
       "aggType": "",
       "arguments": {},
       "columnCustomDisplayInfos": {},
       "data": [],
       "datasetInfos": [],
       "dbfsResultPath": null,
       "isJsonSchema": true,
       "metadata": {},
       "overflow": false,
       "plotOptions": {
        "customPlotOptions": {},
        "displayType": "table",
        "pivotAggregation": null,
        "pivotColumns": null,
        "xColumns": null,
        "yColumns": null
       },
       "removedWidgets": [],
       "schema": [],
       "type": "table"
      }
     },
     "output_type": "display_data"
    }
   ],
   "source": [
    "CREATE OR REPLACE FUNCTION ${envlp_encryp_core_catalog_name}.default.${envlp_encryp_get_decrypted_dsk_function_name}(\n",
    "  tenant_id STRING\n",
    "  ,client_id STRING\n",
    "  ,client_secret STRING\n",
    "  ,key_vault_url STRING\n",
    "  ,kek_name STRING\n",
    "  ,dsk_name STRING\n",
    ")\n",
    "RETURNS STRING\n",
    "LANGUAGE PYTHON\n",
    "AS\n",
    "$$\n",
    "\n",
    "import requests\n",
    "import json\n",
    "import base64\n",
    "from base64 import b64encode,b64decode\n",
    "\n",
    "scope=\"https://vault.azure.net/.default\"\n",
    "\n",
    "# Step 1. Define the token url and the credentials to get the access token\n",
    "token_url = f\"https://login.microsoftonline.com/{tenant_id}/oauth2/v2.0/token\"\n",
    "token_data = {\n",
    "  \"grant_type\": \"client_credentials\",\n",
    "  \"client_id\": client_id,\n",
    "  \"client_secret\": client_secret,\n",
    "  \"scope\": scope\n",
    "}\n",
    "\n",
    "#Step 2. Call the token url and get the access token\n",
    "token_response = requests.post(token_url, data=token_data)\n",
    "token_response.raise_for_status()\n",
    "access_token = token_response.json()[\"access_token\"]\n",
    "\n",
    "#Step 3. Define the headers for subsequent API calls\n",
    "headers = {\n",
    "  \"Authorization\": f\"Bearer {access_token}\",\n",
    "  \"Content-Type\": \"application/json\"\n",
    "}\n",
    "\n",
    "#Step 4. Make an API call to retrieve the encrypted dsk from the secrets\n",
    "encrypted_dsk_response = requests.get(\n",
    "  f\"https://{key_vault_url}/secrets/{dsk_name}?api-version=7.4\",\n",
    "  headers=headers\n",
    ")\n",
    "encrypted_dsk_response.raise_for_status()\n",
    "encrypted_dsk = encrypted_dsk_response.json().get(\"value\")\n",
    "\n",
    "#Step 5. Make an API call to get list of all the versions of the key encryption key (for e.g. fis-keky-encryption-key-pan)\n",
    "kek_version_url = f\"https://{key_vault_url}/keys/{kek_name}/versions?api-version=7.4\"\n",
    "kek_version_response = requests.get(kek_version_url, headers=headers)\n",
    "#version_response.raise_for_status()\n",
    "kek_version_data = kek_version_response.json()\n",
    "kek_versions = kek_version_data[\"value\"]\n",
    "\n",
    "#Step 6. Sort the kek versions in descending order of creation date to fetch the latest version of the key encryption key\n",
    "sorted_kek_version = sorted(kek_versions, key=lambda x: x[\"attributes\"][\"created\"], reverse=True)\n",
    "\n",
    "#Get only the latest version of the key encryption key and get only the version_no(ddafa9e312b446d7a78f6634eabe6084) from the url \n",
    "#(https://key_vault_url/keys/fis-key-encryption-key-pan/ddafa9e312b446d7a78f6634eabe6084)\n",
    "latest_kek_version = sorted_kek_version[0][\"kid\"]\n",
    "latest_kek_version = latest_kek_version.split(\"/\")[-1]\n",
    "\n",
    "#Step 7. Make API Call to Decrypt DSK using the latest version of the key encryption key\n",
    "decrypt_dsk_url = f\"https://{key_vault_url}/keys/{kek_name}/{latest_kek_version}/decrypt?api-version=7.4\"\n",
    "decrypt_dsk_payload = {\n",
    "    \"alg\": \"RSA-OAEP-256\",  # Algorithm used for encryption\n",
    "    \"value\": encrypted_dsk  # The encrypted DSK as a base64 string\n",
    "}\n",
    "\n",
    "decrypt_dsk_response = requests.post(decrypt_dsk_url, headers=headers, json=decrypt_dsk_payload)\n",
    "decrypt_dsk_response.raise_for_status()\n",
    "\n",
    "#Get the decrypted dsk which is in base64 format \n",
    "decrypted_dsk_base64 = decrypt_dsk_response.json()[\"value\"]\n",
    "\n",
    "# The string returned by the Azure Key Vault API is not properly padded. Hence we need to add padding to the base64 string\n",
    "decrypted_dsk_base64 = decrypted_dsk_base64 + \"=\" * (4-len(decrypted_dsk_base64) % 4) if len(decrypted_dsk_base64) % 4 != 0 else decrypted_dsk_base64\n",
    "\n",
    "#de-code the bsee 64 string to bytes\n",
    "decrypted_dsk_bytes = base64.urlsafe_b64decode(decrypted_dsk_base64)\n",
    "\n",
    "# Convert to hex string for human readability\n",
    "decrypted_dsk_hex = decrypted_dsk_bytes.hex() \n",
    "\n",
    "return decrypted_dsk_bytes\n",
    "$$\n"
   ]
  },
  {
   "cell_type": "code",
   "execution_count": 0,
   "metadata": {
    "application/vnd.databricks.v1+cell": {
     "cellMetadata": {
      "byteLimit": 2048000,
      "rowLimit": 10000
     },
     "inputWidgets": {},
     "nuid": "aae0e185-90f2-466c-95a5-8820ab3f4781",
     "showTitle": false,
     "tableResultSettingsMap": {},
     "title": ""
    }
   },
   "outputs": [
    {
     "output_type": "display_data",
     "data": {
      "text/html": [
       "<style scoped>\n",
       "  .table-result-container {\n",
       "    max-height: 300px;\n",
       "    overflow: auto;\n",
       "  }\n",
       "  table, th, td {\n",
       "    border: 1px solid black;\n",
       "    border-collapse: collapse;\n",
       "  }\n",
       "  th, td {\n",
       "    padding: 5px;\n",
       "  }\n",
       "  th {\n",
       "    text-align: left;\n",
       "  }\n",
       "</style><div class='table-result-container'><table class='table-result'><thead style='background-color: white'><tr></tr></thead><tbody></tbody></table></div>"
      ]
     },
     "metadata": {
      "application/vnd.databricks.v1+output": {
       "addedWidgets": {},
       "aggData": [],
       "aggError": "",
       "aggOverflow": false,
       "aggSchema": [],
       "aggSeriesLimitReached": false,
       "aggType": "",
       "arguments": {},
       "columnCustomDisplayInfos": {},
       "data": [],
       "datasetInfos": [],
       "dbfsResultPath": null,
       "isJsonSchema": true,
       "metadata": {},
       "overflow": false,
       "plotOptions": {
        "customPlotOptions": {},
        "displayType": "table",
        "pivotAggregation": null,
        "pivotColumns": null,
        "xColumns": null,
        "yColumns": null
       },
       "removedWidgets": [],
       "schema": [],
       "type": "table"
      }
     },
     "output_type": "display_data"
    }
   ],
   "source": [
    "CREATE OR REPLACE FUNCTION ${envlp_encryp_core_catalog_name}.default.${envlp_encryp_rotate_kek_function_name}\n",
    "(\n",
    "  tenant_id STRING,\n",
    "  client_id STRING,\n",
    "  client_secret STRING,\n",
    "  key_vault_url STRING,\n",
    "  kek_name STRING,\n",
    "  dsk_secret_name STRING\n",
    ")\n",
    "RETURNS STRING\n",
    "LANGUAGE PYTHON\n",
    "AS\n",
    "$$\n",
    "\n",
    "import requests\n",
    "import base64\n",
    "import json\n",
    "\n",
    "# Step 1: Authenticate\n",
    "token_url = f\"https://login.microsoftonline.com/{tenant_id}/oauth2/v2.0/token\"\n",
    "token_data = {\n",
    "    \"grant_type\": \"client_credentials\",\n",
    "    \"client_id\": client_id,\n",
    "    \"client_secret\": client_secret,\n",
    "    \"scope\": \"https://vault.azure.net/.default\"\n",
    "}\n",
    "token_response = requests.post(token_url, data=token_data)\n",
    "token_response.raise_for_status()\n",
    "access_token = token_response.json()[\"access_token\"]\n",
    "\n",
    "headers = {\n",
    "    \"Authorization\": f\"Bearer {access_token}\",\n",
    "    \"Content-Type\": \"application/json\"\n",
    "}\n",
    "\n",
    "# Step 2: Get the encrypted DSK\n",
    "get_secret_url = f\"https://{key_vault_url}/secrets/{dsk_secret_name}?api-version=7.4\"\n",
    "secret_response = requests.get(get_secret_url, headers=headers)\n",
    "secret_response.raise_for_status()\n",
    "secret_data = secret_response.json()\n",
    "encrypted_dsk = secret_data[\"value\"]\n",
    "old_kek_version = secret_data.get(\"tags\", {}).get(\"kek_version\")\n",
    "\n",
    "# Step 3: Decrypt the DSK using old KEK version\n",
    "decrypt_url = f\"https://{key_vault_url}/keys/{kek_name}/{old_kek_version}/decrypt?api-version=7.4\"\n",
    "decrypt_payload = {\n",
    "    \"alg\": \"RSA-OAEP-256\",\n",
    "    \"value\": encrypted_dsk\n",
    "}\n",
    "decrypt_response = requests.post(decrypt_url, headers=headers, json=decrypt_payload)\n",
    "decrypt_response.raise_for_status()\n",
    "dsk_b64 = decrypt_response.json()[\"value\"]\n",
    "\n",
    "# Step 3.5: Trigger rotation of the KEK to create a new version\n",
    "rotate_url = f\"https://{key_vault_url}/keys/{kek_name}/rotate?api-version=7.4\"\n",
    "rotate_response = requests.post(rotate_url, headers=headers)\n",
    "rotate_response.raise_for_status()\n",
    "\n",
    "# Step 4: Get latest KEK version\n",
    "versions_url = f\"https://{key_vault_url}/keys/{kek_name}/versions?api-version=7.4\"\n",
    "versions_response = requests.get(versions_url, headers=headers)\n",
    "versions_response.raise_for_status()\n",
    "versions_data = versions_response.json()[\"value\"]\n",
    "latest_version = sorted(versions_data, key=lambda x: x[\"attributes\"][\"created\"], reverse=True)[0][\"kid\"].split(\"/\")[-1]\n",
    "\n",
    "# Step 5: Re-encrypt the DSK with the new KEK version\n",
    "encrypt_url = f\"https://{key_vault_url}/keys/{kek_name}/{latest_version}/encrypt?api-version=7.4\"\n",
    "encrypt_payload = {\n",
    "    \"alg\": \"RSA-OAEP-256\",\n",
    "    \"value\": dsk_b64\n",
    "}\n",
    "encrypt_response = requests.post(encrypt_url, headers=headers, json=encrypt_payload)\n",
    "encrypt_response.raise_for_status()\n",
    "new_encrypted_dsk = encrypt_response.json()[\"value\"]\n",
    "\n",
    "# Step 6: Update the secret with new encrypted DSK and new tag\n",
    "update_url = f\"https://{key_vault_url}/secrets/{dsk_secret_name}?api-version=7.4\"\n",
    "update_payload = {\n",
    "    \"value\": new_encrypted_dsk,\n",
    "    \"tags\": {\n",
    "        \"kek_version\": latest_version\n",
    "    }\n",
    "}\n",
    "update_response = requests.put(update_url, headers=headers, json=update_payload)\n",
    "update_response.raise_for_status()\n",
    "\n",
    "return f\"DEK '{dsk_secret_name}' successfully re-encrypted with KEK '{kek_name}' (version: {latest_version}) and updated in Key Vault.\"\n",
    "\n",
    "$$"
   ]
  },
  {
   "cell_type": "code",
   "execution_count": 0,
   "metadata": {
    "application/vnd.databricks.v1+cell": {
     "cellMetadata": {
      "byteLimit": 2048000,
      "rowLimit": 10000
     },
     "inputWidgets": {},
     "nuid": "e5fad640-1471-4944-96fe-cc0879eab08d",
     "showTitle": false,
     "tableResultSettingsMap": {},
     "title": ""
    }
   },
   "outputs": [
    {
     "output_type": "display_data",
     "data": {
      "text/html": [
       "<style scoped>\n",
       "  .table-result-container {\n",
       "    max-height: 300px;\n",
       "    overflow: auto;\n",
       "  }\n",
       "  table, th, td {\n",
       "    border: 1px solid black;\n",
       "    border-collapse: collapse;\n",
       "  }\n",
       "  th, td {\n",
       "    padding: 5px;\n",
       "  }\n",
       "  th {\n",
       "    text-align: left;\n",
       "  }\n",
       "</style><div class='table-result-container'><table class='table-result'><thead style='background-color: white'><tr><th>rotated_kek</th></tr></thead><tbody><tr><td>DEK 'envlp-encryp-data-salt-key-address' successfully re-encrypted with KEK 'envlp-encryp-key-encryption-key-address' (version: 87b10d7f3f7643288e9c0714b4631f1a) and updated in Key Vault.</td></tr></tbody></table></div>"
      ]
     },
     "metadata": {
      "application/vnd.databricks.v1+output": {
       "addedWidgets": {},
       "aggData": [],
       "aggError": "",
       "aggOverflow": false,
       "aggSchema": [],
       "aggSeriesLimitReached": false,
       "aggType": "",
       "arguments": {},
       "columnCustomDisplayInfos": {},
       "data": [
        [
         "DEK 'envlp-encryp-data-salt-key-address' successfully re-encrypted with KEK 'envlp-encryp-key-encryption-key-address' (version: 87b10d7f3f7643288e9c0714b4631f1a) and updated in Key Vault."
        ]
       ],
       "datasetInfos": [],
       "dbfsResultPath": null,
       "isJsonSchema": true,
       "metadata": {},
       "overflow": false,
       "plotOptions": {
        "customPlotOptions": {},
        "displayType": "table",
        "pivotAggregation": null,
        "pivotColumns": null,
        "xColumns": null,
        "yColumns": null
       },
       "removedWidgets": [],
       "schema": [
        {
         "metadata": "{}",
         "name": "rotated_kek",
         "type": "\"string\""
        }
       ],
       "type": "table"
      }
     },
     "output_type": "display_data"
    }
   ],
   "source": [
    "SELECT ${envlp_encryp_core_catalog_name}.default.${envlp_encryp_rotate_kek_function_name}(\n",
    "  try_secret('${envlp_encryp_secret_scope_name}', '${envlp_encryp_sp_tenant_id_key}'),\n",
    "  try_secret('${envlp_encryp_secret_scope_name}', '${envlp_encryp_sp_client_id_key}'),\n",
    "  try_secret('${envlp_encryp_secret_scope_name}', '${envlp_encryp_sp_client_secret_key}'),\n",
    "  '${envlp_encryp_key_vault_name}',\n",
    "  'envlp-encryp-key-encryption-key-address',\n",
    "  'envlp-encryp-data-salt-key-address'\n",
    ") as rotated_kek;"
   ]
  }
 ],
 "metadata": {
  "application/vnd.databricks.v1+notebook": {
   "computePreferences": null,
   "dashboards": [],
   "environmentMetadata": {
    "base_environment": "",
    "environment_version": "2"
   },
   "inputWidgetPreferences": null,
   "language": "sql",
   "notebookMetadata": {
    "pythonIndentUnit": 2
   },
   "notebookName": "2_create_udfs_and_generate_kek_and_dsk_using_service_principal",
   "widgets": {
    "envlp_encryp_core_catalog_name": {
     "currentValue": "envlp_encryp_core",
     "nuid": "b354628d-0124-462b-a15a-15800b696190",
     "typedWidgetInfo": {
      "autoCreated": false,
      "defaultValue": "",
      "label": null,
      "name": "envlp_encryp_core_catalog_name",
      "options": {
       "widgetDisplayType": "Text",
       "validationRegex": null
      },
      "parameterDataType": "String"
     },
     "widgetInfo": {
      "widgetType": "text",
      "defaultValue": "",
      "label": null,
      "name": "envlp_encryp_core_catalog_name",
      "options": {
       "widgetType": "text",
       "autoCreated": null,
       "validationRegex": null
      }
     }
    },
    "envlp_encryp_generate_kek_dsk_function_name": {
     "currentValue": "generate_and_store_kek_dsk",
     "nuid": "4742bb62-edc5-4e42-bb84-4382702157f0",
     "typedWidgetInfo": {
      "autoCreated": false,
      "defaultValue": "",
      "label": null,
      "name": "envlp_encryp_generate_kek_dsk_function_name",
      "options": {
       "widgetDisplayType": "Text",
       "validationRegex": null
      },
      "parameterDataType": "String"
     },
     "widgetInfo": {
      "widgetType": "text",
      "defaultValue": "",
      "label": null,
      "name": "envlp_encryp_generate_kek_dsk_function_name",
      "options": {
       "widgetType": "text",
       "autoCreated": null,
       "validationRegex": null
      }
     }
    },
    "envlp_encryp_get_decrypted_dsk_function_name": {
     "currentValue": "get_decrypted_dsk",
     "nuid": "4c3e9d5a-eeeb-478c-9ae0-34fe8c0d7e26",
     "typedWidgetInfo": {
      "autoCreated": false,
      "defaultValue": "",
      "label": null,
      "name": "envlp_encryp_get_decrypted_dsk_function_name",
      "options": {
       "widgetDisplayType": "Text",
       "validationRegex": null
      },
      "parameterDataType": "String"
     },
     "widgetInfo": {
      "widgetType": "text",
      "defaultValue": "",
      "label": null,
      "name": "envlp_encryp_get_decrypted_dsk_function_name",
      "options": {
       "widgetType": "text",
       "autoCreated": null,
       "validationRegex": null
      }
     }
    },
    "envlp_encryp_key_vault_name": {
     "currentValue": "field-eng-key-vault.vault.azure.net",
     "nuid": "8bd43c2e-b020-4753-9aa3-fb11f6076fe6",
     "typedWidgetInfo": {
      "autoCreated": false,
      "defaultValue": "",
      "label": null,
      "name": "envlp_encryp_key_vault_name",
      "options": {
       "widgetDisplayType": "Text",
       "validationRegex": null
      },
      "parameterDataType": "String"
     },
     "widgetInfo": {
      "widgetType": "text",
      "defaultValue": "",
      "label": null,
      "name": "envlp_encryp_key_vault_name",
      "options": {
       "widgetType": "text",
       "autoCreated": null,
       "validationRegex": null
      }
     }
    },
    "envlp_encryp_pci_pii_attribute_table_name": {
     "currentValue": "pci_pii_attributes",
     "nuid": "d13e0223-9e70-4d65-93a8-60e2a2a78041",
     "typedWidgetInfo": {
      "autoCreated": false,
      "defaultValue": "",
      "label": null,
      "name": "envlp_encryp_pci_pii_attribute_table_name",
      "options": {
       "widgetDisplayType": "Text",
       "validationRegex": null
      },
      "parameterDataType": "String"
     },
     "widgetInfo": {
      "widgetType": "text",
      "defaultValue": "",
      "label": null,
      "name": "envlp_encryp_pci_pii_attribute_table_name",
      "options": {
       "widgetType": "text",
       "autoCreated": null,
       "validationRegex": null
      }
     }
    },
    "envlp_encryp_rotate_kek_function_name": {
     "currentValue": "rotate_kek_reencrypt_dsk",
     "nuid": "ebdc3d5f-a4ef-487a-8f89-3cb73a41cb02",
     "typedWidgetInfo": {
      "autoCreated": false,
      "defaultValue": "",
      "label": null,
      "name": "envlp_encryp_rotate_kek_function_name",
      "options": {
       "widgetDisplayType": "Text",
       "validationRegex": null
      },
      "parameterDataType": "String"
     },
     "widgetInfo": {
      "widgetType": "text",
      "defaultValue": "",
      "label": null,
      "name": "envlp_encryp_rotate_kek_function_name",
      "options": {
       "widgetType": "text",
       "autoCreated": null,
       "validationRegex": null
      }
     }
    },
    "envlp_encryp_secret_scope_name": {
     "currentValue": "envlp-encryp-secret-scope",
     "nuid": "749bac71-b0e5-496b-ac39-24fb93f7117e",
     "typedWidgetInfo": {
      "autoCreated": false,
      "defaultValue": "",
      "label": null,
      "name": "envlp_encryp_secret_scope_name",
      "options": {
       "widgetDisplayType": "Text",
       "validationRegex": null
      },
      "parameterDataType": "String"
     },
     "widgetInfo": {
      "widgetType": "text",
      "defaultValue": "",
      "label": null,
      "name": "envlp_encryp_secret_scope_name",
      "options": {
       "widgetType": "text",
       "autoCreated": null,
       "validationRegex": null
      }
     }
    },
    "envlp_encryp_sp_client_id_key": {
     "currentValue": "envlp-encryp-app-client-id",
     "nuid": "fe9095b1-6f16-4b84-b571-a9fabfded31b",
     "typedWidgetInfo": {
      "autoCreated": false,
      "defaultValue": "",
      "label": null,
      "name": "envlp_encryp_sp_client_id_key",
      "options": {
       "widgetDisplayType": "Text",
       "validationRegex": null
      },
      "parameterDataType": "String"
     },
     "widgetInfo": {
      "widgetType": "text",
      "defaultValue": "",
      "label": null,
      "name": "envlp_encryp_sp_client_id_key",
      "options": {
       "widgetType": "text",
       "autoCreated": null,
       "validationRegex": null
      }
     }
    },
    "envlp_encryp_sp_client_secret_key": {
     "currentValue": "envlp-encryp-app-secret-id",
     "nuid": "912c0724-63e2-4f4f-8329-31adf832763d",
     "typedWidgetInfo": {
      "autoCreated": false,
      "defaultValue": "",
      "label": null,
      "name": "envlp_encryp_sp_client_secret_key",
      "options": {
       "widgetDisplayType": "Text",
       "validationRegex": null
      },
      "parameterDataType": "String"
     },
     "widgetInfo": {
      "widgetType": "text",
      "defaultValue": "",
      "label": null,
      "name": "envlp_encryp_sp_client_secret_key",
      "options": {
       "widgetType": "text",
       "autoCreated": null,
       "validationRegex": null
      }
     }
    },
    "envlp_encryp_sp_tenant_id_key": {
     "currentValue": "envlp-encryp-app-tenant-id",
     "nuid": "235587b2-77fc-4833-be27-f974bfabe564",
     "typedWidgetInfo": {
      "autoCreated": false,
      "defaultValue": "",
      "label": null,
      "name": "envlp_encryp_sp_tenant_id_key",
      "options": {
       "widgetDisplayType": "Text",
       "validationRegex": null
      },
      "parameterDataType": "String"
     },
     "widgetInfo": {
      "widgetType": "text",
      "defaultValue": "",
      "label": null,
      "name": "envlp_encryp_sp_tenant_id_key",
      "options": {
       "widgetType": "text",
       "autoCreated": null,
       "validationRegex": null
      }
     }
    }
   }
  },
  "language_info": {
   "name": "sql"
  }
 },
 "nbformat": 4,
 "nbformat_minor": 0
}