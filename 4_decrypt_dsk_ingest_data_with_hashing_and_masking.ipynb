{
 "cells": [
  {
   "cell_type": "code",
   "execution_count": 0,
   "metadata": {
    "application/vnd.databricks.v1+cell": {
     "cellMetadata": {
      "byteLimit": 2048000,
      "rowLimit": 10000
     },
     "inputWidgets": {},
     "nuid": "e527877c-f601-42e0-af99-16069d46201f",
     "showTitle": false,
     "tableResultSettingsMap": {},
     "title": ""
    }
   },
   "outputs": [],
   "source": [
    "from pyspark.sql.functions import col\n",
    "from secure_core_data_loader import SecureCoreDataLoader"
   ]
  },
  {
   "cell_type": "code",
   "execution_count": 0,
   "metadata": {
    "application/vnd.databricks.v1+cell": {
     "cellMetadata": {
      "byteLimit": 2048000,
      "rowLimit": 10000
     },
     "inputWidgets": {},
     "nuid": "bdca52da-d741-4512-90e6-5d12b46ab65e",
     "showTitle": false,
     "tableResultSettingsMap": {},
     "title": ""
    }
   },
   "outputs": [],
   "source": [
    "%run ./register_widgets"
   ]
  },
  {
   "cell_type": "code",
   "execution_count": 0,
   "metadata": {
    "application/vnd.databricks.v1+cell": {
     "cellMetadata": {
      "byteLimit": 2048000,
      "rowLimit": 10000
     },
     "inputWidgets": {},
     "nuid": "c8946623-a942-4fb8-a9ad-9087a6dc3687",
     "showTitle": false,
     "tableResultSettingsMap": {},
     "title": ""
    }
   },
   "outputs": [],
   "source": [
    "register_widgets()\n",
    "params = get_parameters()"
   ]
  },
  {
   "cell_type": "markdown",
   "metadata": {
    "application/vnd.databricks.v1+cell": {
     "cellMetadata": {
      "byteLimit": 2048000,
      "rowLimit": 10000
     },
     "inputWidgets": {},
     "nuid": "d8832873-6aef-4907-ad97-7a517bdb2f93",
     "showTitle": false,
     "tableResultSettingsMap": {},
     "title": ""
    }
   },
   "source": [
    "Retrieve the parameters required for the notebook"
   ]
  },
  {
   "cell_type": "code",
   "execution_count": 0,
   "metadata": {
    "application/vnd.databricks.v1+cell": {
     "cellMetadata": {
      "byteLimit": 2048000,
      "rowLimit": 10000
     },
     "inputWidgets": {},
     "nuid": "fa987012-c8f5-4195-bb34-ca21bf2a6f4a",
     "showTitle": false,
     "tableResultSettingsMap": {},
     "title": ""
    }
   },
   "outputs": [],
   "source": [
    "landing_to_vault_load_tracking_table = params[\"landing_to_vault_load_tracking_table\"]\n",
    "vault_to_anonymized_load_tracking_table = params[\"vault_to_anonymized_load_tracking_table\"]\n",
    "source_catalog = params[\"secure_core_landing_catalog_name\"]\n",
    "target_catalog = params[\"secure_core_vault_catalog_name\"]\n",
    "secure_core_catalog_name = params[\"secure_core_catalog_name\"]\n",
    "secure_core_decrypt_dsk_function_name = params[\"secure_core_decrypt_dsk_function_name\"]\n",
    "secure_core_key_vault_name = params[\"secure_core_key_vault_name\"]\n",
    "#secure_core_secret_scope_name = params[\"secure_core_secret_scope_name\"]\n",
    "#secure_core_sp_tenant_id_key = params[\"secure_core_sp_tenant_id_key\"]\n",
    "#secure_core_sp_client_id_key = params[\"secure_core_sp_client_id_key\"]\n",
    "#secure_core_sp_client_secret_key = params[\"secure_core_sp_client_secret_key\"]\n"
   ]
  },
  {
   "cell_type": "markdown",
   "metadata": {
    "application/vnd.databricks.v1+cell": {
     "cellMetadata": {
      "byteLimit": 2048000,
      "rowLimit": 10000
     },
     "inputWidgets": {},
     "nuid": "d2b27990-1d36-41aa-946e-2a933d0b1a21",
     "showTitle": false,
     "tableResultSettingsMap": {},
     "title": ""
    }
   },
   "source": [
    "Initialize an object of the class"
   ]
  },
  {
   "cell_type": "code",
   "execution_count": 0,
   "metadata": {
    "application/vnd.databricks.v1+cell": {
     "cellMetadata": {
      "byteLimit": 2048000,
      "rowLimit": 10000
     },
     "inputWidgets": {},
     "nuid": "327e54a2-d9bd-415c-b01d-0bed3436d44d",
     "showTitle": false,
     "tableResultSettingsMap": {},
     "title": ""
    }
   },
   "outputs": [],
   "source": [
    "secure_core_data_loader = SecureCoreDataLoader(spark, params)"
   ]
  },
  {
   "cell_type": "markdown",
   "metadata": {
    "application/vnd.databricks.v1+cell": {
     "cellMetadata": {
      "byteLimit": 2048000,
      "rowLimit": 10000
     },
     "inputWidgets": {},
     "nuid": "c3f7adef-8f9d-40ff-a8ab-33f503164c48",
     "showTitle": false,
     "tableResultSettingsMap": {},
     "title": ""
    }
   },
   "source": [
    "- Get all the last loaded version from each of the landing tables maintained in the tracking table for the landing catalog\n",
    "- Using table history, identify if there are any new version with WRITE operations for the tables in the landing catalog\n",
    "- If there is a WRITE operation with a version greater than last loaded version, then there is new data loaded to the table in landing catalog to consider incremental data load \n",
    "- Register it as a temp table that will be used in the below CTE"
   ]
  },
  {
   "cell_type": "code",
   "execution_count": 0,
   "metadata": {
    "application/vnd.databricks.v1+cell": {
     "cellMetadata": {
      "byteLimit": 2048000,
      "rowLimit": 10000
     },
     "inputWidgets": {},
     "nuid": "51afee2e-40f6-47cc-91f8-e572ae0ddcb7",
     "showTitle": false,
     "tableResultSettingsMap": {},
     "title": ""
    }
   },
   "outputs": [],
   "source": [
    "secure_core_data_loader.get_tables_with_new_versions(landing_to_vault_load_tracking_table)"
   ]
  },
  {
   "cell_type": "markdown",
   "metadata": {
    "application/vnd.databricks.v1+cell": {
     "cellMetadata": {
      "byteLimit": 2048000,
      "rowLimit": 10000
     },
     "inputWidgets": {},
     "nuid": "d2b0f723-b72c-4126-a992-35f4e8dd4315",
     "showTitle": false,
     "tableResultSettingsMap": {},
     "title": ""
    }
   },
   "source": [
    "The below CTE will:\n",
    "- Identify all the managed tables existing in landing catalog\n",
    "- Identify all the managed tables existing in vault catalog\n",
    "- Identify new tables that exists in landing catalog but not in vault catalog and derive column vault_table_status as \"new\"\n",
    "- Identify tables in landing catalog that already exists in vault for which new data has been loaded. Derive column new_data_available as \"yes\"\n",
    "- Identify the list of columns in all the tables in landing catalog (this is to get the data type, ordinal position of the columns to generate create table statement and align the hash columns next the respective PCI / PII attribute in vault)\n",
    "- Identify the list of columns that are tagged as PCI / PII for tables in landing catalog. This is to propogate the tags to the tables in vault catalog\n",
    "- df_tables_to_load contains list of new tables created and existing tables with new data in landing catalog that needs to be ingested into vault catalog\n",
    "- df_kek_dsk_to_be_retieved contains the unique list of PCI / PII attributes tagged across all the new tables created in the landing catalog and derive the corresponding KEK & DSK names based on tags classification. This will be used to decrypt the DSK using the KEK to hash the PCI / PII attributes\n",
    "- df_col_tags contains the column tags across all tbales in the landing catalog"
   ]
  },
  {
   "cell_type": "code",
   "execution_count": 0,
   "metadata": {
    "application/vnd.databricks.v1+cell": {
     "cellMetadata": {
      "byteLimit": 2048000,
      "rowLimit": 10000
     },
     "inputWidgets": {},
     "nuid": "ab82f795-d94c-433b-9940-8884f39238b4",
     "showTitle": false,
     "tableResultSettingsMap": {},
     "title": ""
    }
   },
   "outputs": [],
   "source": [
    "tables_with_pci_pii_columns = f\"\"\"\n",
    "--Identify all the managed tables existing in landing catalog\n",
    "with tables_in_landing as (\n",
    "    select table_catalog as catalog_name, table_schema as schema_name, table_name from system.information_schema.tables where table_catalog = '{source_catalog}' and table_type = 'MANAGED'\n",
    "),\n",
    "--Identify all the managed tables existing in vault catalog\n",
    "tables_in_vault as (\n",
    "    select table_catalog as catalog_name, table_schema as schema_name, table_name from system.information_schema.tables where table_catalog = '{target_catalog}' and table_type = 'MANAGED'\n",
    "),\n",
    "--Identify new tables that exists in landing catalog but not in vault catalog and tables where new data is available in landing catalog\n",
    "tables_from_landing as (\n",
    "    select \n",
    "    tl.catalog_name \n",
    "    ,tl.schema_name\n",
    "    ,tl.table_name \n",
    "    ,case when tv.table_name is null then 'new' else 'existing' end as target_table_status\n",
    "    ,case when twnv.table_name is not null then 'yes' else 'no' end as new_data_available\n",
    "    from tables_in_landing tl\n",
    "    left join tables_in_vault tv\n",
    "    on tl.schema_name = tv.schema_name\n",
    "    and tl.table_name = tv.table_name\n",
    "    left join tables_with_new_versions twnv\n",
    "    on tl.catalog_name = twnv.catalog_name\n",
    "    and tl.schema_name = twnv.schema_name\n",
    "    and tl.table_name = twnv.table_name\n",
    "    --where tv.table_name is null\n",
    "),\n",
    "--Identify the list of columns in all the tables in landing catalog\n",
    "table_columns as (\n",
    "    select cols.table_catalog as catalog_name, cols.table_schema as schema_name, cols.table_name, cols.column_name, cols.full_data_type, cols.is_nullable, cols.ordinal_position, lndtbls.target_table_status, lndtbls.new_data_available\n",
    "    from system.information_schema.columns cols\n",
    "    inner join tables_from_landing lndtbls\n",
    "    on cols.table_catalog = lndtbls.catalog_name\n",
    "    and cols.table_schema = lndtbls.schema_name\n",
    "    and cols.table_name = lndtbls.table_name\n",
    "),\n",
    "sensitivity_category as (\n",
    "    select catalog_name, schema_name, table_name, column_name, tag_name, tag_value from system.information_schema.column_tags where tag_name = 'sensitivity_category' and tag_value in ('pii', 'pci')\n",
    "),\n",
    "sensitivity_type as (\n",
    "    select catalog_name, schema_name, table_name, column_name, tag_name, tag_value from system.information_schema.column_tags where tag_name = 'sensitivity_type'\n",
    "),\n",
    "sensitive_col_tags as (\n",
    "    select sensitivity_type.*\n",
    "    from sensitivity_category\n",
    "    inner join sensitivity_type\n",
    "    on sensitivity_category.catalog_name = sensitivity_type.catalog_name\n",
    "    and sensitivity_category.schema_name = sensitivity_type.schema_name\n",
    "    and sensitivity_category.table_name = sensitivity_type.table_name\n",
    "    and sensitivity_category.column_name = sensitivity_type.column_name\n",
    "),\n",
    "--Fetch the new tables that are created in landing catalog and existing tables with new data and what columns are tagged as PCI / PII in those tables\n",
    "tables_in_landing_with_pci_pii_columns as (\n",
    "    select distinct \n",
    "    tbl_cols.catalog_name\n",
    "    ,tbl_cols.schema_name\n",
    "    ,tbl_cols.table_name\n",
    "    ,tbl_cols.column_name\n",
    "    ,tbl_cols.full_data_type\n",
    "    ,tbl_cols.is_nullable\n",
    "    ,tbl_cols.ordinal_position\n",
    "    ,coltg.tag_name\n",
    "    ,coltg.tag_value\n",
    "    ,concat('fis-key-encryption-key-', coltg.tag_value) as kek_name\n",
    "    ,concat('fis-data-salt-key-', coltg.tag_value) as dsk_name\n",
    "    ,tbl_cols.target_table_status\n",
    "    ,tbl_cols.new_data_available\n",
    "    from table_columns tbl_cols\n",
    "    left join \n",
    "    sensitive_col_tags as coltg\n",
    "    on coltg.catalog_name = tbl_cols.catalog_name\n",
    "    and coltg.schema_name = tbl_cols.schema_name\n",
    "    and coltg.table_name = tbl_cols.table_name\n",
    "    and coltg.column_name = tbl_cols.column_name \n",
    ")\n",
    "select * from tables_in_landing_with_pci_pii_columns \n",
    "order by catalog_name, schema_name, table_name, ordinal_position \"\"\"\n",
    "\n",
    "df_source_tables_with_pci_pii_columns = spark.sql(tables_with_pci_pii_columns)\n",
    "#display(df_source_tables_with_pci_pii_columns)\n",
    "#df_source_tables_with_pci_pii_columns = df_source_tables_with_pci_pii_columns.filter(\n",
    "#    (col(\"target_table_status\") == \"new\") | \n",
    "#    ((col(\"target_table_status\") == \"existing\") & (col(\"new_data_available\") == \"yes\"))\n",
    "#)\n",
    "#display(df_source_tables_with_pci_pii_columns)\n",
    "\n",
    "df_tables_to_load = secure_core_data_loader.get_distinct_tables_to_load(df_source_tables_with_pci_pii_columns)\n",
    "#display(df_tables_to_load)\n",
    "\n",
    "df_kek_dsk_to_be_retieved = secure_core_data_loader.get_kek_dsk(df_source_tables_with_pci_pii_columns)\n",
    "#display(df_kek_dsk_to_be_retieved)\n",
    "\n",
    "df_kek_dsk_to_be_retieved.createOrReplaceTempView(\"kek_dsk_to_be_retrieved\")\n",
    "\n",
    "df_col_tags = secure_core_data_loader.get_column_tags(source_catalog)\n",
    "#display(df_col_tags)\n"
   ]
  },
  {
   "cell_type": "code",
   "execution_count": 0,
   "metadata": {
    "application/vnd.databricks.v1+cell": {
     "cellMetadata": {
      "byteLimit": 2048000,
      "rowLimit": 10000
     },
     "inputWidgets": {},
     "nuid": "275e0cc8-6277-4fdd-aa25-33edb3ede405",
     "showTitle": false,
     "tableResultSettingsMap": {},
     "title": ""
    }
   },
   "outputs": [],
   "source": [
    "df_kek_dsk = spark.sql(\"select * from kek_dsk_to_be_retrieved\")\n",
    "#display(df_kek_dsk)"
   ]
  },
  {
   "cell_type": "markdown",
   "metadata": {
    "application/vnd.databricks.v1+cell": {
     "cellMetadata": {
      "byteLimit": 2048000,
      "rowLimit": 10000
     },
     "inputWidgets": {},
     "nuid": "d69e682e-8da8-4ae7-adbd-88e56bd214fd",
     "showTitle": false,
     "tableResultSettingsMap": {},
     "title": ""
    }
   },
   "source": [
    "SQL to fetch decrypted Data Salt Key for all the PCI / PII attributes by calling the UDF. The SQL will be used as a CTE when hashing the data"
   ]
  },
  {
   "cell_type": "code",
   "execution_count": 0,
   "metadata": {
    "application/vnd.databricks.v1+cell": {
     "cellMetadata": {
      "byteLimit": 2048000,
      "rowLimit": 10000
     },
     "inputWidgets": {},
     "nuid": "28742607-0971-4a0e-9f7a-d9020b722b61",
     "showTitle": false,
     "tableResultSettingsMap": {},
     "title": ""
    }
   },
   "outputs": [],
   "source": [
    "fetch_decrypted_dsk_sql = f\"\"\"\n",
    "  SELECT pci_pii_attribute_name as attribute,\n",
    "          AES_ENCRYPT(`{secure_core_catalog_name}`.default.`{secure_core_decrypt_dsk_function_name}`(\n",
    "            '{secure_core_key_vault_name}',\n",
    "            kek_name,\n",
    "            dsk_name\n",
    "          ), 'dskencryptionkey') as decrypted_dsk\n",
    "  FROM `{secure_core_catalog_name}`.default.pci_pii_attributes\n",
    "  \"\"\""
   ]
  },
  {
   "cell_type": "code",
   "execution_count": 0,
   "metadata": {
    "application/vnd.databricks.v1+cell": {
     "cellMetadata": {
      "byteLimit": 2048000,
      "rowLimit": 10000
     },
     "inputWidgets": {},
     "nuid": "5ee15058-ea87-4de1-b640-fe2dd4b1ee6f",
     "showTitle": false,
     "tableResultSettingsMap": {},
     "title": ""
    }
   },
   "outputs": [],
   "source": [
    "#fetch_decrypted_dsk_sql = f\"\"\"\n",
    "#  SELECT tag_value as attribute,\n",
    "#          AES_ENCRYPT(`{secure_core_catalog_name}`.default.`get_decrypted_dsk`(\n",
    "#            '{secure_core_key_vault_name}',\n",
    "#            kek_name,\n",
    "#            dsk_name\n",
    "#          ), 'dskencryptionkey') as decrypted_dsk\n",
    "#  FROM kek_dsk_to_be_retrieved\n",
    "#  \"\"\""
   ]
  },
  {
   "cell_type": "markdown",
   "metadata": {
    "application/vnd.databricks.v1+cell": {
     "cellMetadata": {
      "byteLimit": 2048000,
      "rowLimit": 10000
     },
     "inputWidgets": {},
     "nuid": "1b76d83c-887e-4f62-b2d4-6c088486c2f5",
     "showTitle": false,
     "tableResultSettingsMap": {},
     "title": ""
    }
   },
   "source": [
    "- process_single_table - Will process the data for each table.\n",
    "- Check if CDF is enabled in the source (landing) table. If not enabled, CDF will be enabled in the source tables and entry will be added to the tracking table\n",
    "- The PCI / PII columns are collected from the dataframe (which is read from the source table) and hash statements are created.\n",
    "- The column names and datatypes are identified to create tables in the vault catalog and add an entry to vault_to_anonymized tracking table to track the data loads between vault catalog and anonymized catalog\n",
    "- Insert statement is generated by identifying the data between last loaded version and any new version of data loaded to landing catalog. This is done for existing tables where CDF is enabled. If it is a new table where CDF is not enabled in the source, all the data is read\n",
    "- Alter table statements are created to apply the masking functions to the PCI / PII attributes to the tables in the vault catalog\n",
    "- Alter tables statements are created to propogate the tags from tables in landing catalog to tables in vault catalog\n",
    "- The landing_to_vault_load tracking table is updated with the latest version loaded from the landing tables.\n",
    "\n"
   ]
  },
  {
   "cell_type": "code",
   "execution_count": 0,
   "metadata": {
    "application/vnd.databricks.v1+cell": {
     "cellMetadata": {
      "byteLimit": 2048000,
      "rowLimit": 10000
     },
     "inputWidgets": {},
     "nuid": "79733216-9382-4c23-8f01-822d7c669aa9",
     "showTitle": false,
     "tableResultSettingsMap": {},
     "title": ""
    }
   },
   "outputs": [],
   "source": [
    "def process_single_table(row, df_source_tables_with_pci_pii_columns, df_col_tags, fetch_decrypted_dsk_sql, target_catalog, secure_core_data_loader, landing_to_vault_load_tracking_table, vault_to_anonymized_load_tracking_table):\n",
    "    # Extract relevant table metadata from the input row\n",
    "    source_catalog = row[\"catalog_name\"]\n",
    "    schema = row[\"schema_name\"]\n",
    "    table = row[\"table_name\"]\n",
    "    target_table_status = row[\"target_table_status\"]\n",
    "    new_data_available = row[\"new_data_available\"]\n",
    "\n",
    "    # Lists to collect ALTER statements for masking and tag propagation\n",
    "    apply_masking_statements = []\n",
    "    propagate_tags_statements = []\n",
    "\n",
    "    # Check if Change Data Feed (CDF) is enabled on the source table\n",
    "    cdf_enabled = secure_core_data_loader.get_cdf_enabled_status(source_catalog, schema, table)\n",
    "\n",
    "    # Enable CDF if not already enabled\n",
    "    if not cdf_enabled:\n",
    "        secure_core_data_loader.enable_cdf(\n",
    "            source_catalog, schema, table, landing_to_vault_load_tracking_table)\n",
    "\n",
    "    # Retrieve PCI/PII tagged columns for hashing\n",
    "    pci_pii_columns = secure_core_data_loader.collect_pci_pii_columns(source_catalog, schema, table, df_source_tables_with_pci_pii_columns)\n",
    "    #print(pci_pii_columns)\n",
    "\n",
    "    # Generate SHA512 hash expressions for PCI/PII columns\n",
    "    hash_statements = secure_core_data_loader.generate_hash_statements(pci_pii_columns)\n",
    "    #print(hash_statements)\n",
    "\n",
    "    # Fetch full list of column names and data types from the source table\n",
    "    columns_datatype = secure_core_data_loader.collect_source_table_columns_datatype(source_catalog, schema, table, df_source_tables_with_pci_pii_columns)\n",
    "    #print(columns_datatype)\n",
    "\n",
    "    # If the target table is marked as 'new', create it and add tracking entry\n",
    "    if target_table_status == \"new\":\n",
    "        target_table = f\"`{target_catalog}`.`{schema}`.`{table}`\"\n",
    "        create_target_table_statement = secure_core_data_loader.generate_create_table_statement(\n",
    "           source_catalog, schema, table, columns_datatype, hash_statements, target_table\n",
    "        )\n",
    "        add_entry_to_vault_tracking_table_statement = secure_core_data_loader.add_entry_to_tracking_table(target_catalog, schema, table, vault_to_anonymized_load_tracking_table)\n",
    "        #print(create_target_table_statement)\n",
    "        spark.sql(create_target_table_statement)\n",
    "        spark.sql(add_entry_to_vault_tracking_table_statement)\n",
    "\n",
    "    # Proceed to insert data if:\n",
    "    # - It's a new vault table, or\n",
    "    # - It's an existing vault table *and* new data is available\n",
    "    if (target_table_status == \"new\" or (target_table_status == \"existing\" and new_data_available == \"yes\")):\n",
    "        # Query to get the last loaded version from the tracking table\n",
    "        last_loaded_version_query = f\"\"\"\n",
    "            SELECT last_loaded_version FROM \n",
    "            `{secure_core_catalog_name}`.`default`.`{landing_to_vault_load_tracking_table}`\n",
    "            WHERE catalog_name = '{source_catalog}' AND schema_name = '{schema}' AND table_name = '{table}'\n",
    "        \"\"\"\n",
    "        last_loaded_version = spark.sql(last_loaded_version_query).collect()[0][0]\n",
    "\n",
    "        #print(fetch_decrypted_dsk_sql)\n",
    "        # Generate the INSERT statement with hash columns (if needed)\n",
    "        insert_statements = secure_core_data_loader.generate_insert_statement(\n",
    "            source_catalog, schema, table, target_catalog, columns_datatype, hash_statements, last_loaded_version, cdf_enabled, fetch_decrypted_dsk_sql\n",
    "        )\n",
    "        #print(insert_statements)\n",
    "\n",
    "        # Generate ALTER statements for masking functions\n",
    "        apply_masking_statements.extend(secure_core_data_loader.apply_masking_function_statement(schema, table, target_catalog, pci_pii_columns))\n",
    "\n",
    "        # Fetch column tags and prepare ALTER statements to propagate them\n",
    "        column_tags = secure_core_data_loader.collect_column_tags(source_catalog, schema, table, df_col_tags)\n",
    "        propagate_tags_statements.extend(secure_core_data_loader.propagate_tags_statement(schema, table, target_catalog, column_tags, hash_statements))\n",
    "\n",
    "        # Generate the UPDATE statement to update the tracking table with the new version\n",
    "        update_tracking_table_statements = secure_core_data_loader.update_tracking_table_statement(source_catalog, schema, table, landing_to_vault_load_tracking_table)\n",
    "        #print(update_tracking_table_statements)\n",
    "\n",
    "        # Execute data insert into the vault table\n",
    "        spark.sql(insert_statements)\n",
    "\n",
    "        # Apply masking functions to the appropriate columns\n",
    "        for apply_mask in apply_masking_statements:\n",
    "            #print(apply_mask)\n",
    "            spark.sql(apply_mask)\n",
    "\n",
    "        # Apply tags to both raw and hash columns\n",
    "        for apply_tags in propagate_tags_statements:\n",
    "            #print(apply_tags)\n",
    "            spark.sql(apply_tags)\n",
    "\n",
    "        # Update the version tracking table after successful insert\n",
    "        spark.sql(update_tracking_table_statements)"
   ]
  },
  {
   "cell_type": "code",
   "execution_count": 0,
   "metadata": {
    "application/vnd.databricks.v1+cell": {
     "cellMetadata": {
      "byteLimit": 2048000,
      "rowLimit": 10000
     },
     "inputWidgets": {},
     "nuid": "9c1d3e79-13d0-4ed5-ac11-4fc562baa820",
     "showTitle": false,
     "tableResultSettingsMap": {},
     "title": ""
    }
   },
   "outputs": [],
   "source": [
    "#rows = df_tables_to_load.collect()\n",
    "#for row in rows:\n",
    " # process_single_table(row, df_source_tables_with_pci_pii_columns, df_col_tags, fetch_decrypted_dsk_sql, target_catalog, secure_core_data_loader, landing_to_vault_load_tracking_table, vault_to_anonymized_load_tracking_table)"
   ]
  },
  {
   "cell_type": "markdown",
   "metadata": {
    "application/vnd.databricks.v1+cell": {
     "cellMetadata": {
      "byteLimit": 2048000,
      "rowLimit": 10000
     },
     "inputWidgets": {},
     "nuid": "f74641a8-a3b4-46b2-8639-6397c9b7a58f",
     "showTitle": false,
     "tableResultSettingsMap": {},
     "title": ""
    }
   },
   "source": [
    "process_tables_parallel - Function definition to load the tables in parallel using ThreadPoolExecutor"
   ]
  },
  {
   "cell_type": "code",
   "execution_count": 0,
   "metadata": {
    "application/vnd.databricks.v1+cell": {
     "cellMetadata": {
      "byteLimit": 2048000,
      "rowLimit": 10000
     },
     "inputWidgets": {},
     "nuid": "c7fca05b-d18b-4b2d-a9aa-34e03e85ccde",
     "showTitle": false,
     "tableResultSettingsMap": {},
     "title": ""
    }
   },
   "outputs": [],
   "source": [
    "from concurrent.futures import ThreadPoolExecutor, as_completed\n",
    "\n",
    "def process_tables_parallel(df_tables_to_load, df_source_tables_with_pci_pii_columns, df_col_tags, fetch_decrypted_dsk_sql, target_catalog, secure_core_data_loader, landing_to_vault_load_tracking_table, vault_to_anonymized_load_tracking_table, max_workers=5):\n",
    "    # Collect all rows from the DataFrame into a local list.\n",
    "    # Each row contains metadata for a single table to be processed.\n",
    "    rows = df_tables_to_load.collect()\n",
    "\n",
    "    # Create a ThreadPoolExecutor with the specified number of worker threads.\n",
    "    with ThreadPoolExecutor(max_workers=max_workers) as executor:\n",
    "        # Submit each table (row) to be processed in parallel using process_single_table function.\n",
    "        # This returns a list of Future objects representing the execution of each task.\n",
    "        futures = [executor.submit(\n",
    "                    process_single_table, row, df_source_tables_with_pci_pii_columns, df_col_tags, fetch_decrypted_dsk_sql, target_catalog, secure_core_data_loader, landing_to_vault_load_tracking_table, vault_to_anonymized_load_tracking_table) \n",
    "                for row in rows]\n",
    "        \n",
    "        # As each future completes, handle its result (or exception if one occurred).\n",
    "        for future in as_completed(futures):\n",
    "            #future.result()\n",
    "             try:\n",
    "                 # Calling result() will re-raise any exception that occurred in the thread.\n",
    "                 future.result()\n",
    "             except Exception as e:\n",
    "                 # Log any exception that occurred while processing a table.\n",
    "                 print(f\"Error processing a table: {e}\")"
   ]
  },
  {
   "cell_type": "markdown",
   "metadata": {
    "application/vnd.databricks.v1+cell": {
     "cellMetadata": {
      "byteLimit": 2048000,
      "rowLimit": 10000
     },
     "inputWidgets": {},
     "nuid": "c78d8397-8bc8-4858-a899-0ec7de62c6d0",
     "showTitle": false,
     "tableResultSettingsMap": {},
     "title": ""
    }
   },
   "source": [
    "Call the process_tables_parallel function to process the tables from landing to vault catalog in parallel"
   ]
  },
  {
   "cell_type": "code",
   "execution_count": 0,
   "metadata": {
    "application/vnd.databricks.v1+cell": {
     "cellMetadata": {
      "byteLimit": 2048000,
      "rowLimit": 10000
     },
     "inputWidgets": {},
     "nuid": "45d1ab70-ca2c-4a8a-bbf3-7810c8c302c0",
     "showTitle": false,
     "tableResultSettingsMap": {},
     "title": ""
    }
   },
   "outputs": [],
   "source": [
    "#Call the function to process the tables in parallel.\n",
    "process_tables_parallel(df_tables_to_load, df_source_tables_with_pci_pii_columns, df_col_tags, fetch_decrypted_dsk_sql, target_catalog, secure_core_data_loader, landing_to_vault_load_tracking_table, vault_to_anonymized_load_tracking_table, max_workers=5)"
   ]
  }
 ],
 "metadata": {
  "application/vnd.databricks.v1+notebook": {
   "computePreferences": null,
   "dashboards": [],
   "environmentMetadata": {
    "base_environment": "",
    "environment_version": "2"
   },
   "inputWidgetPreferences": null,
   "language": "python",
   "notebookMetadata": {
    "pythonIndentUnit": 2
   },
   "notebookName": "4_decrypt_dsk_ingest_data_with_hashing_and_masking",
   "widgets": {
    "individual_attributes_schema_name": {
     "currentValue": "",
     "nuid": "c86b9578-5371-459c-b7e9-6d91312ab4d2",
     "typedWidgetInfo": {
      "autoCreated": false,
      "defaultValue": "",
      "label": "",
      "name": "individual_attributes_schema_name",
      "options": {
       "widgetDisplayType": "Text",
       "validationRegex": null
      },
      "parameterDataType": "String"
     },
     "widgetInfo": {
      "widgetType": "text",
      "defaultValue": "",
      "label": "",
      "name": "individual_attributes_schema_name",
      "options": {
       "widgetType": "text",
       "autoCreated": null,
       "validationRegex": null
      }
     }
    },
    "landing_to_vault_load_tracking_table": {
     "currentValue": "landing_to_vault_tables_last_loaded_version",
     "nuid": "10663fc5-d6cc-43bd-b92b-72ba3f1b2308",
     "typedWidgetInfo": {
      "autoCreated": false,
      "defaultValue": "",
      "label": "",
      "name": "landing_to_vault_load_tracking_table",
      "options": {
       "widgetDisplayType": "Text",
       "validationRegex": null
      },
      "parameterDataType": "String"
     },
     "widgetInfo": {
      "widgetType": "text",
      "defaultValue": "",
      "label": "",
      "name": "landing_to_vault_load_tracking_table",
      "options": {
       "widgetType": "text",
       "autoCreated": null,
       "validationRegex": null
      }
     }
    },
    "secure_core_catalog_name": {
     "currentValue": "edai-00001-dev-a01-masking",
     "nuid": "07ffba4d-c6f0-43ee-9c38-a3ebfb2b7811",
     "typedWidgetInfo": {
      "autoCreated": false,
      "defaultValue": "",
      "label": "",
      "name": "secure_core_catalog_name",
      "options": {
       "widgetDisplayType": "Text",
       "validationRegex": null
      },
      "parameterDataType": "String"
     },
     "widgetInfo": {
      "widgetType": "text",
      "defaultValue": "",
      "label": "",
      "name": "secure_core_catalog_name",
      "options": {
       "widgetType": "text",
       "autoCreated": null,
       "validationRegex": null
      }
     }
    },
    "secure_core_clasifier_volume_location": {
     "currentValue": "",
     "nuid": "e42313d0-5b38-4b0f-a1c3-a0ab9790587a",
     "typedWidgetInfo": {
      "autoCreated": false,
      "defaultValue": "",
      "label": "",
      "name": "secure_core_clasifier_volume_location",
      "options": {
       "widgetDisplayType": "Text",
       "validationRegex": null
      },
      "parameterDataType": "String"
     },
     "widgetInfo": {
      "widgetType": "text",
      "defaultValue": "",
      "label": "",
      "name": "secure_core_clasifier_volume_location",
      "options": {
       "widgetType": "text",
       "autoCreated": null,
       "validationRegex": null
      }
     }
    },
    "secure_core_decrypt_dsk_function_name": {
     "currentValue": "get_decrypted_dsk",
     "nuid": "9994b47e-377b-4404-930e-b2576ce532da",
     "typedWidgetInfo": {
      "autoCreated": false,
      "defaultValue": "",
      "label": "",
      "name": "secure_core_decrypt_dsk_function_name",
      "options": {
       "widgetDisplayType": "Text",
       "validationRegex": null
      },
      "parameterDataType": "String"
     },
     "widgetInfo": {
      "widgetType": "text",
      "defaultValue": "",
      "label": "",
      "name": "secure_core_decrypt_dsk_function_name",
      "options": {
       "widgetType": "text",
       "autoCreated": null,
       "validationRegex": null
      }
     }
    },
    "secure_core_generate_kek_dsk_function_name": {
     "currentValue": "",
     "nuid": "400c6ca3-82a1-49f6-8368-9093dbfba3f6",
     "typedWidgetInfo": {
      "autoCreated": false,
      "defaultValue": "",
      "label": "",
      "name": "secure_core_generate_kek_dsk_function_name",
      "options": {
       "widgetDisplayType": "Text",
       "validationRegex": null
      },
      "parameterDataType": "String"
     },
     "widgetInfo": {
      "widgetType": "text",
      "defaultValue": "",
      "label": "",
      "name": "secure_core_generate_kek_dsk_function_name",
      "options": {
       "widgetType": "text",
       "autoCreated": null,
       "validationRegex": null
      }
     }
    },
    "secure_core_key_vault_name": {
     "currentValue": "https://edai-00001-dev-a01-kv001.vault.azure.net/",
     "nuid": "b1c56d89-4228-4578-bb59-334578a561ab",
     "typedWidgetInfo": {
      "autoCreated": false,
      "defaultValue": "",
      "label": "",
      "name": "secure_core_key_vault_name",
      "options": {
       "widgetDisplayType": "Text",
       "validationRegex": null
      },
      "parameterDataType": "String"
     },
     "widgetInfo": {
      "widgetType": "text",
      "defaultValue": "",
      "label": "",
      "name": "secure_core_key_vault_name",
      "options": {
       "widgetType": "text",
       "autoCreated": null,
       "validationRegex": null
      }
     }
    },
    "secure_core_landing_catalog_name": {
     "currentValue": "edai-00001-dev-a01-landing",
     "nuid": "8ce7aa9e-3740-4ef2-97c5-ddd8bd666bad",
     "typedWidgetInfo": {
      "autoCreated": false,
      "defaultValue": "",
      "label": "",
      "name": "secure_core_landing_catalog_name",
      "options": {
       "widgetDisplayType": "Text",
       "validationRegex": null
      },
      "parameterDataType": "String"
     },
     "widgetInfo": {
      "widgetType": "text",
      "defaultValue": "",
      "label": "",
      "name": "secure_core_landing_catalog_name",
      "options": {
       "widgetType": "text",
       "autoCreated": null,
       "validationRegex": null
      }
     }
    },
    "secure_core_non_pci_pii_catalog_name": {
     "currentValue": "",
     "nuid": "541dc36a-2950-44dc-8d97-e312e46c6f2f",
     "typedWidgetInfo": {
      "autoCreated": false,
      "defaultValue": "",
      "label": "",
      "name": "secure_core_non_pci_pii_catalog_name",
      "options": {
       "widgetDisplayType": "Text",
       "validationRegex": null
      },
      "parameterDataType": "String"
     },
     "widgetInfo": {
      "widgetType": "text",
      "defaultValue": "",
      "label": "",
      "name": "secure_core_non_pci_pii_catalog_name",
      "options": {
       "widgetType": "text",
       "autoCreated": null,
       "validationRegex": null
      }
     }
    },
    "secure_core_pci_pii_attribute_table_name": {
     "currentValue": "",
     "nuid": "d0ee6349-172e-4be7-8c7f-ca741eaf9f62",
     "typedWidgetInfo": {
      "autoCreated": false,
      "defaultValue": "",
      "label": "",
      "name": "secure_core_pci_pii_attribute_table_name",
      "options": {
       "widgetDisplayType": "Text",
       "validationRegex": null
      },
      "parameterDataType": "String"
     },
     "widgetInfo": {
      "widgetType": "text",
      "defaultValue": "",
      "label": "",
      "name": "secure_core_pci_pii_attribute_table_name",
      "options": {
       "widgetType": "text",
       "autoCreated": null,
       "validationRegex": null
      }
     }
    },
    "secure_core_pci_tag_name": {
     "currentValue": "",
     "nuid": "574e6574-202a-43d9-b8f2-541f9c028478",
     "typedWidgetInfo": {
      "autoCreated": false,
      "defaultValue": "",
      "label": "",
      "name": "secure_core_pci_tag_name",
      "options": {
       "widgetDisplayType": "Text",
       "validationRegex": null
      },
      "parameterDataType": "String"
     },
     "widgetInfo": {
      "widgetType": "text",
      "defaultValue": "",
      "label": "",
      "name": "secure_core_pci_tag_name",
      "options": {
       "widgetType": "text",
       "autoCreated": null,
       "validationRegex": null
      }
     }
    },
    "secure_core_pii_tag_name": {
     "currentValue": "",
     "nuid": "62e24337-328a-4dbc-ae3e-feef69c8e567",
     "typedWidgetInfo": {
      "autoCreated": false,
      "defaultValue": "",
      "label": "",
      "name": "secure_core_pii_tag_name",
      "options": {
       "widgetDisplayType": "Text",
       "validationRegex": null
      },
      "parameterDataType": "String"
     },
     "widgetInfo": {
      "widgetType": "text",
      "defaultValue": "",
      "label": "",
      "name": "secure_core_pii_tag_name",
      "options": {
       "widgetType": "text",
       "autoCreated": null,
       "validationRegex": null
      }
     }
    },
    "secure_core_secret_scope_name": {
     "currentValue": "",
     "nuid": "52ad5701-3bc4-4a66-8f86-7238c3987bdd",
     "typedWidgetInfo": {
      "autoCreated": false,
      "defaultValue": "",
      "label": "",
      "name": "secure_core_secret_scope_name",
      "options": {
       "widgetDisplayType": "Text",
       "validationRegex": null
      },
      "parameterDataType": "String"
     },
     "widgetInfo": {
      "widgetType": "text",
      "defaultValue": "",
      "label": "",
      "name": "secure_core_secret_scope_name",
      "options": {
       "widgetType": "text",
       "autoCreated": null,
       "validationRegex": null
      }
     }
    },
    "secure_core_sp_client_id_key": {
     "currentValue": "",
     "nuid": "2635ff25-7be8-4c35-ad42-a78919e23b5a",
     "typedWidgetInfo": {
      "autoCreated": false,
      "defaultValue": "",
      "label": "",
      "name": "secure_core_sp_client_id_key",
      "options": {
       "widgetDisplayType": "Text",
       "validationRegex": null
      },
      "parameterDataType": "String"
     },
     "widgetInfo": {
      "widgetType": "text",
      "defaultValue": "",
      "label": "",
      "name": "secure_core_sp_client_id_key",
      "options": {
       "widgetType": "text",
       "autoCreated": null,
       "validationRegex": null
      }
     }
    },
    "secure_core_sp_client_secret_key": {
     "currentValue": "",
     "nuid": "d6002043-b331-4d48-8eb2-fa2a46b1c94b",
     "typedWidgetInfo": {
      "autoCreated": false,
      "defaultValue": "",
      "label": "",
      "name": "secure_core_sp_client_secret_key",
      "options": {
       "widgetDisplayType": "Text",
       "validationRegex": null
      },
      "parameterDataType": "String"
     },
     "widgetInfo": {
      "widgetType": "text",
      "defaultValue": "",
      "label": "",
      "name": "secure_core_sp_client_secret_key",
      "options": {
       "widgetType": "text",
       "autoCreated": null,
       "validationRegex": null
      }
     }
    },
    "secure_core_sp_tenant_id_key": {
     "currentValue": "",
     "nuid": "f99a0516-c904-484f-b95e-47995d2987fb",
     "typedWidgetInfo": {
      "autoCreated": false,
      "defaultValue": "",
      "label": "",
      "name": "secure_core_sp_tenant_id_key",
      "options": {
       "widgetDisplayType": "Text",
       "validationRegex": null
      },
      "parameterDataType": "String"
     },
     "widgetInfo": {
      "widgetType": "text",
      "defaultValue": "",
      "label": "",
      "name": "secure_core_sp_tenant_id_key",
      "options": {
       "widgetType": "text",
       "autoCreated": null,
       "validationRegex": null
      }
     }
    },
    "secure_core_vault_catalog_name": {
     "currentValue": "edai-00001-dev-a01-vault",
     "nuid": "883082eb-c7c1-4c6c-acaa-3895fb23de86",
     "typedWidgetInfo": {
      "autoCreated": false,
      "defaultValue": "",
      "label": "",
      "name": "secure_core_vault_catalog_name",
      "options": {
       "widgetDisplayType": "Text",
       "validationRegex": null
      },
      "parameterDataType": "String"
     },
     "widgetInfo": {
      "widgetType": "text",
      "defaultValue": "",
      "label": "",
      "name": "secure_core_vault_catalog_name",
      "options": {
       "widgetType": "text",
       "autoCreated": null,
       "validationRegex": null
      }
     }
    },
    "vault_to_anonymized_load_tracking_table": {
     "currentValue": "vault_to_anonymized_tables_last_loaded_version",
     "nuid": "207cde98-5a2a-472f-a83c-b32e07718633",
     "typedWidgetInfo": {
      "autoCreated": false,
      "defaultValue": "",
      "label": "",
      "name": "vault_to_anonymized_load_tracking_table",
      "options": {
       "widgetDisplayType": "Text",
       "validationRegex": null
      },
      "parameterDataType": "String"
     },
     "widgetInfo": {
      "widgetType": "text",
      "defaultValue": "",
      "label": "",
      "name": "vault_to_anonymized_load_tracking_table",
      "options": {
       "widgetType": "text",
       "autoCreated": null,
       "validationRegex": null
      }
     }
    },
    "vault_to_classification_load_tracking_table": {
     "currentValue": "",
     "nuid": "1140a54c-f15c-423a-930a-f753d2582235",
     "typedWidgetInfo": {
      "autoCreated": false,
      "defaultValue": "",
      "label": "",
      "name": "vault_to_classification_load_tracking_table",
      "options": {
       "widgetDisplayType": "Text",
       "validationRegex": null
      },
      "parameterDataType": "String"
     },
     "widgetInfo": {
      "widgetType": "text",
      "defaultValue": "",
      "label": "",
      "name": "vault_to_classification_load_tracking_table",
      "options": {
       "widgetType": "text",
       "autoCreated": null,
       "validationRegex": null
      }
     }
    },
    "vault_to_individual_attributes_load_tracking_table": {
     "currentValue": "",
     "nuid": "e970788e-56b6-4a6e-ae9c-f361f8dee0f3",
     "typedWidgetInfo": {
      "autoCreated": false,
      "defaultValue": "",
      "label": "",
      "name": "vault_to_individual_attributes_load_tracking_table",
      "options": {
       "widgetDisplayType": "Text",
       "validationRegex": null
      },
      "parameterDataType": "String"
     },
     "widgetInfo": {
      "widgetType": "text",
      "defaultValue": "",
      "label": "",
      "name": "vault_to_individual_attributes_load_tracking_table",
      "options": {
       "widgetType": "text",
       "autoCreated": null,
       "validationRegex": null
      }
     }
    }
   }
  },
  "language_info": {
   "name": "python"
  }
 },
 "nbformat": 4,
 "nbformat_minor": 0
}
