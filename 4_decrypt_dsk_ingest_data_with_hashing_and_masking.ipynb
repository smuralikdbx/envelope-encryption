{
 "cells": [
  {
   "cell_type": "code",
   "execution_count": 0,
   "metadata": {
    "application/vnd.databricks.v1+cell": {
     "cellMetadata": {
      "byteLimit": 2048000,
      "rowLimit": 10000
     },
     "inputWidgets": {},
     "nuid": "e527877c-f601-42e0-af99-16069d46201f",
     "showTitle": false,
     "tableResultSettingsMap": {},
     "title": ""
    }
   },
   "outputs": [],
   "source": [
    "from pyspark.sql.functions import col\n",
    "from envlp_encryp_data_loader import EnvelopeEncryptionDataLoader\n",
    "import uuid"
   ]
  },
  {
   "cell_type": "code",
   "execution_count": 0,
   "metadata": {
    "application/vnd.databricks.v1+cell": {
     "cellMetadata": {
      "byteLimit": 2048000,
      "rowLimit": 10000
     },
     "inputWidgets": {},
     "nuid": "bdca52da-d741-4512-90e6-5d12b46ab65e",
     "showTitle": false,
     "tableResultSettingsMap": {},
     "title": ""
    }
   },
   "outputs": [
    {
     "output_type": "display_data",
     "data": {
      "text/markdown": [
       "Define the widgets for all the variables that can be parameterized"
      ]
     },
     "metadata": {},
     "output_type": "display_data"
    },
    {
     "output_type": "display_data",
     "data": {
      "text/markdown": [
       "To get the values for all the defined widgets and get it as a dictionary"
      ]
     },
     "metadata": {},
     "output_type": "display_data"
    }
   ],
   "source": [
    "%run ./register_widgets"
   ]
  },
  {
   "cell_type": "code",
   "execution_count": 0,
   "metadata": {
    "application/vnd.databricks.v1+cell": {
     "cellMetadata": {
      "byteLimit": 2048000,
      "rowLimit": 10000
     },
     "inputWidgets": {},
     "nuid": "c8946623-a942-4fb8-a9ad-9087a6dc3687",
     "showTitle": false,
     "tableResultSettingsMap": {},
     "title": ""
    }
   },
   "outputs": [],
   "source": [
    "register_widgets()\n",
    "params = get_parameters()"
   ]
  },
  {
   "cell_type": "markdown",
   "metadata": {
    "application/vnd.databricks.v1+cell": {
     "cellMetadata": {
      "byteLimit": 2048000,
      "rowLimit": 10000
     },
     "inputWidgets": {},
     "nuid": "d8832873-6aef-4907-ad97-7a517bdb2f93",
     "showTitle": false,
     "tableResultSettingsMap": {},
     "title": ""
    }
   },
   "source": [
    "Retrieve the parameters required for the notebook"
   ]
  },
  {
   "cell_type": "code",
   "execution_count": 0,
   "metadata": {
    "application/vnd.databricks.v1+cell": {
     "cellMetadata": {
      "byteLimit": 2048000,
      "rowLimit": 10000
     },
     "inputWidgets": {},
     "nuid": "fa987012-c8f5-4195-bb34-ca21bf2a6f4a",
     "showTitle": false,
     "tableResultSettingsMap": {},
     "title": ""
    }
   },
   "outputs": [],
   "source": [
    "source_catalog = params[\"envlp_encryp_landing_catalog_name\"]\n",
    "target_catalog = params[\"envlp_encryp_vault_catalog_name\"]\n",
    "envlp_encryp_core_catalog_name = params[\"envlp_encryp_core_catalog_name\"]\n",
    "envlp_encryp_decrypt_dsk_function_name = params[\"envlp_encryp_decrypt_dsk_function_name\"]\n",
    "envlp_encryp_key_vault_name = params[\"envlp_encryp_key_vault_name\"]\n",
    "envlp_encryp_secret_scope_name = params[\"envlp_encryp_secret_scope_name\"]\n",
    "envlp_encryp_sp_tenant_id_key = params[\"envlp_encryp_sp_tenant_id_key\"]\n",
    "envlp_encryp_sp_client_id_key = params[\"envlp_encryp_sp_client_id_key\"]\n",
    "envlp_encryp_sp_client_secret_key = params[\"envlp_encryp_sp_client_secret_key\"]\n",
    "dataframe_results_volume_location = params[\"dataframe_results_volume_location\"]\n",
    "envlp_encryp_aes_decrypt_key = params[\"envlp_encryp_aes_decrypt_key\"]"
   ]
  },
  {
   "cell_type": "markdown",
   "metadata": {
    "application/vnd.databricks.v1+cell": {
     "cellMetadata": {
      "byteLimit": 2048000,
      "rowLimit": 10000
     },
     "inputWidgets": {},
     "nuid": "572f52be-353b-437c-9810-5e30d0a754eb",
     "showTitle": false,
     "tableResultSettingsMap": {},
     "title": ""
    }
   },
   "source": [
    "Initialize an object of the class"
   ]
  },
  {
   "cell_type": "code",
   "execution_count": 0,
   "metadata": {
    "application/vnd.databricks.v1+cell": {
     "cellMetadata": {
      "byteLimit": 2048000,
      "rowLimit": 10000
     },
     "inputWidgets": {},
     "nuid": "d188b346-cfdc-48de-a1a4-aa831495e9ce",
     "showTitle": false,
     "tableResultSettingsMap": {},
     "title": ""
    }
   },
   "outputs": [],
   "source": [
    "envlp_encryp_data_loader = EnvelopeEncryptionDataLoader(spark, params)"
   ]
  },
  {
   "cell_type": "markdown",
   "metadata": {
    "application/vnd.databricks.v1+cell": {
     "cellMetadata": {
      "byteLimit": 2048000,
      "rowLimit": 10000
     },
     "inputWidgets": {},
     "nuid": "d2b0f723-b72c-4126-a992-35f4e8dd4315",
     "showTitle": false,
     "tableResultSettingsMap": {},
     "title": ""
    }
   },
   "source": [
    "The below CTE will:\n",
    "- Identify all the managed tables existing in landing catalog\n",
    "- Identify all the managed tables existing in vault catalog\n",
    "- Identify new tables that exists in landing catalog but not in vault catalog\n",
    "- Identify the list of columns in all the tables in landing catalog (this is to get the data type, ordinal position of the columns to generate create table statement and align the hash columns next the respective PCI / PII attribute in vault)\n",
    "- Identify the list of columns that are tagged as PCI / PII for tables in landing catalog. This is to propogate the tags to the tables in vault catalog\n",
    "- df_tables_to_load contains list of new tables created that needs to be ingested into vault catalog\n",
    "- df_kek_dsk_to_be_retieved contains the unique list of PCI / PII attributes tagged across all the new tables created in the landing catalog and derive the corresponding KEK & DSK names based on tags classification. This will be used to decrypt the DSK using the KEK to hash the PCI / PII attributes\n",
    "- df_col_tags contains the column tags across all tbales in the landing catalog"
   ]
  },
  {
   "cell_type": "code",
   "execution_count": 0,
   "metadata": {
    "application/vnd.databricks.v1+cell": {
     "cellMetadata": {
      "byteLimit": 2048000,
      "rowLimit": 10000
     },
     "inputWidgets": {},
     "nuid": "ab82f795-d94c-433b-9940-8884f39238b4",
     "showTitle": false,
     "tableResultSettingsMap": {},
     "title": ""
    }
   },
   "outputs": [],
   "source": [
    "tables_with_pci_pii_columns = f\"\"\"\n",
    "--Identify all the managed tables existing in landing catalog\n",
    "with tables_in_landing as (\n",
    "    select table_catalog as catalog_name, table_schema as schema_name, table_name from system.information_schema.tables where table_catalog = '{source_catalog}' and table_type = 'MANAGED'\n",
    "),\n",
    "--Identify all the managed tables existing in vault catalog\n",
    "tables_in_vault as (\n",
    "    select table_catalog as catalog_name, table_schema as schema_name, table_name from system.information_schema.tables where table_catalog = '{target_catalog}' and table_type = 'MANAGED'\n",
    "),\n",
    "--Identify new tables that exists in landing catalog but not in vault catalog and tables where new data is available in landing catalog\n",
    "tables_from_landing as (\n",
    "    select \n",
    "    tl.catalog_name \n",
    "    ,tl.schema_name\n",
    "    ,tl.table_name \n",
    "    from tables_in_landing tl\n",
    "    left join tables_in_vault tv\n",
    "    on tl.schema_name = tv.schema_name\n",
    "    and tl.table_name = tv.table_name\n",
    "    where tv.table_name is null\n",
    "),\n",
    "--Identify the list of columns in all the tables in landing catalog\n",
    "table_columns as (\n",
    "    select cols.table_catalog as catalog_name, cols.table_schema as schema_name, cols.table_name, cols.column_name, cols.full_data_type, cols.is_nullable, cols.ordinal_position\n",
    "    from system.information_schema.columns cols\n",
    "    inner join tables_from_landing lndtbls\n",
    "    on cols.table_catalog = lndtbls.catalog_name\n",
    "    and cols.table_schema = lndtbls.schema_name\n",
    "    and cols.table_name = lndtbls.table_name\n",
    "),\n",
    "sensitivity_category as (\n",
    "    select catalog_name, schema_name, table_name, column_name, tag_name, tag_value from system.information_schema.column_tags where tag_name = 'sensitivity_category' and tag_value in ('pii', 'pci')\n",
    "),\n",
    "sensitivity_type as (\n",
    "    select catalog_name, schema_name, table_name, column_name, tag_name, tag_value from system.information_schema.column_tags where tag_name = 'sensitivity_type'\n",
    "),\n",
    "sensitive_col_tags as (\n",
    "    select sensitivity_type.*\n",
    "    from sensitivity_category\n",
    "    inner join sensitivity_type\n",
    "    on sensitivity_category.catalog_name = sensitivity_type.catalog_name\n",
    "    and sensitivity_category.schema_name = sensitivity_type.schema_name\n",
    "    and sensitivity_category.table_name = sensitivity_type.table_name\n",
    "    and sensitivity_category.column_name = sensitivity_type.column_name\n",
    "),\n",
    "--Fetch the new tables that are created in landing catalog and what columns are tagged as PCI / PII in those tables\n",
    "tables_in_landing_with_pci_pii_columns as (\n",
    "    select distinct \n",
    "    tbl_cols.catalog_name\n",
    "    ,tbl_cols.schema_name\n",
    "    ,tbl_cols.table_name\n",
    "    ,tbl_cols.column_name\n",
    "    ,tbl_cols.full_data_type\n",
    "    ,tbl_cols.is_nullable\n",
    "    ,tbl_cols.ordinal_position\n",
    "    ,coltg.tag_name\n",
    "    ,coltg.tag_value\n",
    "    ,concat('fis-key-encryption-key-', coltg.tag_value) as kek_name\n",
    "    ,concat('fis-data-salt-key-', coltg.tag_value) as dsk_name\n",
    "    from table_columns tbl_cols\n",
    "    left join \n",
    "    sensitive_col_tags as coltg\n",
    "    on coltg.catalog_name = tbl_cols.catalog_name\n",
    "    and coltg.schema_name = tbl_cols.schema_name\n",
    "    and coltg.table_name = tbl_cols.table_name\n",
    "    and coltg.column_name = tbl_cols.column_name \n",
    ")\n",
    "select * from tables_in_landing_with_pci_pii_columns \n",
    "order by catalog_name, schema_name, table_name, ordinal_position \"\"\"\n",
    "\n",
    "df_source_tables_with_pci_pii_columns = spark.sql(tables_with_pci_pii_columns)\n",
    "#display(df_source_tables_with_pci_pii_columns)\n",
    "\n",
    "#Save the dataframe results to volume to persist the results\n",
    "unique_id = str(uuid.uuid4())\n",
    "path = f\"{dataframe_results_volume_location}/{unique_id}\"\n",
    "df_source_tables_with_pci_pii_columns.write.mode(\"overwrite\").parquet(path)\n",
    "\n",
    "#Read the dataframe results from the persisted location\n",
    "df_source_tables_with_pci_pii_columns = spark.read.parquet(path)"
   ]
  },
  {
   "cell_type": "code",
   "execution_count": 0,
   "metadata": {
    "application/vnd.databricks.v1+cell": {
     "cellMetadata": {
      "byteLimit": 2048000,
      "rowLimit": 10000
     },
     "inputWidgets": {},
     "nuid": "b2518ce9-1adc-457f-9db9-9923c9e68074",
     "showTitle": false,
     "tableResultSettingsMap": {},
     "title": ""
    }
   },
   "outputs": [],
   "source": [
    "df_tables_to_load = envlp_encryp_data_loader.get_distinct_tables_to_load(df_source_tables_with_pci_pii_columns)\n",
    "#display(df_tables_to_load)\n",
    "\n",
    "df_kek_dsk_to_be_retieved = envlp_encryp_data_loader.get_kek_dsk(df_source_tables_with_pci_pii_columns)\n",
    "#display(df_kek_dsk_to_be_retieved)\n",
    "\n",
    "df_kek_dsk_to_be_retieved.createOrReplaceTempView(\"kek_dsk_to_be_retrieved\")\n",
    "\n",
    "df_col_tags = envlp_encryp_data_loader.get_column_tags(source_catalog)\n",
    "#display(df_col_tags)"
   ]
  },
  {
   "cell_type": "markdown",
   "metadata": {
    "application/vnd.databricks.v1+cell": {
     "cellMetadata": {
      "byteLimit": 2048000,
      "rowLimit": 10000
     },
     "inputWidgets": {},
     "nuid": "d69e682e-8da8-4ae7-adbd-88e56bd214fd",
     "showTitle": false,
     "tableResultSettingsMap": {},
     "title": ""
    }
   },
   "source": [
    "SQL to fetch decrypted Data Salt Key for all the PCI / PII attributes by calling the UDF. The SQL will be used as a CTE when hashing the data"
   ]
  },
  {
   "cell_type": "code",
   "execution_count": 0,
   "metadata": {
    "application/vnd.databricks.v1+cell": {
     "cellMetadata": {
      "byteLimit": 2048000,
      "rowLimit": 10000
     },
     "inputWidgets": {},
     "nuid": "5ee15058-ea87-4de1-b640-fe2dd4b1ee6f",
     "showTitle": false,
     "tableResultSettingsMap": {},
     "title": ""
    }
   },
   "outputs": [],
   "source": [
    "fetch_decrypted_dsk_sql = f\"\"\"\n",
    " SELECT tag_value as attribute,\n",
    "         AES_ENCRYPT(`{envlp_encryp_core_catalog_name}`.default.`get_decrypted_dsk`(\n",
    "           try_secret('{params[\"envlp_encryp_secret_scope_name\"]}', '{params[\"envlp_encryp_sp_tenant_id_key\"]}'),\n",
    "           try_secret('{params[\"envlp_encryp_secret_scope_name\"]}', '{params[\"envlp_encryp_sp_client_id_key\"]}'),\n",
    "           try_secret('{params[\"envlp_encryp_secret_scope_name\"]}', '{params[\"envlp_encryp_sp_client_secret_key\"]}'),\n",
    "           '{envlp_encryp_key_vault_name}',\n",
    "           kek_name,\n",
    "           dsk_name\n",
    "         ), try_secret('{params[\"envlp_encryp_secret_scope_name\"]}', '{params[\"envlp_encryp_aes_decrypt_key\"]}')) as decrypted_dsk\n",
    " FROM kek_dsk_to_be_retrieved\n",
    " \"\"\""
   ]
  },
  {
   "cell_type": "markdown",
   "metadata": {
    "application/vnd.databricks.v1+cell": {
     "cellMetadata": {
      "byteLimit": 2048000,
      "rowLimit": 10000
     },
     "inputWidgets": {},
     "nuid": "1b76d83c-887e-4f62-b2d4-6c088486c2f5",
     "showTitle": false,
     "tableResultSettingsMap": {},
     "title": ""
    }
   },
   "source": [
    "- process_single_table - Will process the data for each table.\n",
    "- The PCI / PII columns are collected from the dataframe (which is read from the source table) and hash statements are created.\n",
    "- The column names and datatypes are identified to create tables in the vault catalog\n",
    "- Insert statement is generated by identifying the hash columns\n",
    "- Alter table statements are created to apply the masking functions to the PCI / PII attributes to the tables in the vault catalog\n",
    "- Alter tables statements are created to propogate the tags from tables in landing catalog to tables in vault catalog"
   ]
  },
  {
   "cell_type": "code",
   "execution_count": 0,
   "metadata": {
    "application/vnd.databricks.v1+cell": {
     "cellMetadata": {
      "byteLimit": 2048000,
      "rowLimit": 10000
     },
     "inputWidgets": {},
     "nuid": "79733216-9382-4c23-8f01-822d7c669aa9",
     "showTitle": false,
     "tableResultSettingsMap": {},
     "title": ""
    }
   },
   "outputs": [],
   "source": [
    "def process_single_table(row, df_source_tables_with_pci_pii_columns, df_col_tags, fetch_decrypted_dsk_sql, target_catalog, envlp_encryp_data_loader):\n",
    "    # Extract relevant table metadata from the input row\n",
    "    source_catalog = row[\"catalog_name\"]\n",
    "    schema = row[\"schema_name\"]\n",
    "    table = row[\"table_name\"]\n",
    "\n",
    "    # Lists to collect ALTER statements for masking and tag propagation\n",
    "    apply_masking_statements = []\n",
    "    propagate_tags_statements = []\n",
    "\n",
    "\n",
    "    # Retrieve PCI/PII tagged columns for hashing\n",
    "    pci_pii_columns = envlp_encryp_data_loader.collect_pci_pii_columns(source_catalog, schema, table, df_source_tables_with_pci_pii_columns)\n",
    "    #print(pci_pii_columns)\n",
    "\n",
    "    # Generate SHA512 hash expressions for PCI/PII columns\n",
    "    hash_statements = envlp_encryp_data_loader.generate_hash_statements(pci_pii_columns)\n",
    "    #print(hash_statements)\n",
    "\n",
    "    # Fetch full list of column names and data types from the source table\n",
    "    columns_datatype = envlp_encryp_data_loader.collect_source_table_columns_datatype(source_catalog, schema, table, df_source_tables_with_pci_pii_columns)\n",
    "    #print(columns_datatype)\n",
    "\n",
    "    \n",
    "    target_table = f\"`{target_catalog}`.`{schema}`.`{table}`\"\n",
    "    \n",
    "    envlp_encryp_data_loader.create_schema(target_catalog, schema)\n",
    "    create_target_table_statement = envlp_encryp_data_loader.generate_create_table_statement(\n",
    "           source_catalog, schema, table, columns_datatype, hash_statements, target_table\n",
    "    )\n",
    "    #print(create_target_table_statement)\n",
    "    spark.sql(create_target_table_statement)\n",
    "\n",
    "    #print(fetch_decrypted_dsk_sql)\n",
    "    # Generate the INSERT statement with hash columns (if needed)\n",
    "    insert_statements = envlp_encryp_data_loader.generate_insert_statement(\n",
    "        source_catalog, schema, table, target_catalog, columns_datatype, hash_statements, fetch_decrypted_dsk_sql\n",
    "    )\n",
    "    #print(insert_statements)\n",
    "\n",
    "    # Generate ALTER statements for masking functions\n",
    "    apply_masking_statements.extend(envlp_encryp_data_loader.apply_masking_function_statement(schema, table, target_catalog, pci_pii_columns))\n",
    "\n",
    "    # Fetch column tags and prepare ALTER statements to propagate them\n",
    "    column_tags = envlp_encryp_data_loader.collect_column_tags(source_catalog, schema, table, df_col_tags)\n",
    "    propagate_tags_statements.extend(envlp_encryp_data_loader.propagate_tags_statement(schema, table, target_catalog, column_tags, hash_statements))\n",
    "\n",
    "    # Execute data insert into the vault table\n",
    "    spark.sql(insert_statements)\n",
    "\n",
    "    # Apply masking functions to the appropriate columns\n",
    "    for apply_mask in apply_masking_statements:\n",
    "        #print(apply_mask)\n",
    "        spark.sql(apply_mask)\n",
    "\n",
    "    # Apply tags to both raw and hash columns\n",
    "    for apply_tags in propagate_tags_statements:\n",
    "        #print(apply_tags)\n",
    "        spark.sql(apply_tags)"
   ]
  },
  {
   "cell_type": "markdown",
   "metadata": {
    "application/vnd.databricks.v1+cell": {
     "cellMetadata": {
      "byteLimit": 2048000,
      "rowLimit": 10000
     },
     "inputWidgets": {},
     "nuid": "add3d5fc-2085-4097-8412-45480808c7a6",
     "showTitle": false,
     "tableResultSettingsMap": {},
     "title": ""
    }
   },
   "source": [
    "Process the table to the vault catalog with hashing and masking function applied"
   ]
  },
  {
   "cell_type": "code",
   "execution_count": 0,
   "metadata": {
    "application/vnd.databricks.v1+cell": {
     "cellMetadata": {
      "byteLimit": 2048000,
      "rowLimit": 10000
     },
     "inputWidgets": {},
     "nuid": "9c1d3e79-13d0-4ed5-ac11-4fc562baa820",
     "showTitle": false,
     "tableResultSettingsMap": {},
     "title": ""
    }
   },
   "outputs": [],
   "source": [
    "rows = df_tables_to_load.collect()\n",
    "for row in rows:\n",
    "  process_single_table(row, df_source_tables_with_pci_pii_columns, df_col_tags, fetch_decrypted_dsk_sql, target_catalog, envlp_encryp_data_loader)"
   ]
  },
  {
   "cell_type": "markdown",
   "metadata": {
    "application/vnd.databricks.v1+cell": {
     "cellMetadata": {
      "byteLimit": 2048000,
      "rowLimit": 10000
     },
     "inputWidgets": {},
     "nuid": "d05f5ab6-d0e9-4789-a576-ad7e96f32301",
     "showTitle": false,
     "tableResultSettingsMap": {},
     "title": ""
    }
   },
   "source": [
    "Delete the dataframe results stored in the volume"
   ]
  },
  {
   "cell_type": "code",
   "execution_count": 0,
   "metadata": {
    "application/vnd.databricks.v1+cell": {
     "cellMetadata": {
      "byteLimit": 2048000,
      "rowLimit": 10000
     },
     "inputWidgets": {},
     "nuid": "bb5c83f8-f3b7-4c05-a468-d5a2302b9be6",
     "showTitle": false,
     "tableResultSettingsMap": {},
     "title": ""
    }
   },
   "outputs": [
    {
     "output_type": "execute_result",
     "data": {
      "text/plain": [
       "True"
      ]
     },
     "execution_count": 17,
     "metadata": {},
     "output_type": "execute_result"
    }
   ],
   "source": [
    "dbutils.fs.rm(path, recurse=True)"
   ]
  }
 ],
 "metadata": {
  "application/vnd.databricks.v1+notebook": {
   "computePreferences": null,
   "dashboards": [],
   "environmentMetadata": {
    "base_environment": "",
    "environment_version": "2"
   },
   "inputWidgetPreferences": null,
   "language": "python",
   "notebookMetadata": {
    "pythonIndentUnit": 2
   },
   "notebookName": "4_decrypt_dsk_ingest_data_with_hashing_and_masking",
   "widgets": {
    "dataframe_results_volume_location": {
     "currentValue": "/Volumes/envlp_encryp_landing/default/dataframe_results",
     "nuid": "6b91da82-b919-422d-b0eb-ebddf9fc0ff0",
     "typedWidgetInfo": {
      "autoCreated": false,
      "defaultValue": "",
      "label": "",
      "name": "dataframe_results_volume_location",
      "options": {
       "widgetDisplayType": "Text",
       "validationRegex": null
      },
      "parameterDataType": "String"
     },
     "widgetInfo": {
      "widgetType": "text",
      "defaultValue": "",
      "label": "",
      "name": "dataframe_results_volume_location",
      "options": {
       "widgetType": "text",
       "autoCreated": null,
       "validationRegex": null
      }
     }
    },
    "envlp_encryp_aes_decrypt_key": {
     "currentValue": "envlp-encryp-aes-decrypt-key",
     "nuid": "9504edc1-7f21-42b0-a437-e5cb45efeee0",
     "typedWidgetInfo": {
      "autoCreated": false,
      "defaultValue": "",
      "label": "",
      "name": "envlp_encryp_aes_decrypt_key",
      "options": {
       "widgetDisplayType": "Text",
       "validationRegex": null
      },
      "parameterDataType": "String"
     },
     "widgetInfo": {
      "widgetType": "text",
      "defaultValue": "",
      "label": "",
      "name": "envlp_encryp_aes_decrypt_key",
      "options": {
       "widgetType": "text",
       "autoCreated": null,
       "validationRegex": null
      }
     }
    },
    "envlp_encryp_anonymized_catalog_name": {
     "currentValue": "",
     "nuid": "2f1f9597-01fc-4d75-b952-a4f5346fea3a",
     "typedWidgetInfo": {
      "autoCreated": false,
      "defaultValue": "",
      "label": "",
      "name": "envlp_encryp_anonymized_catalog_name",
      "options": {
       "widgetDisplayType": "Text",
       "validationRegex": null
      },
      "parameterDataType": "String"
     },
     "widgetInfo": {
      "widgetType": "text",
      "defaultValue": "",
      "label": "",
      "name": "envlp_encryp_anonymized_catalog_name",
      "options": {
       "widgetType": "text",
       "autoCreated": null,
       "validationRegex": null
      }
     }
    },
    "envlp_encryp_clasifier_volume_location": {
     "currentValue": "",
     "nuid": "ad8f434c-6bf0-4888-b151-6c4a747b4700",
     "typedWidgetInfo": {
      "autoCreated": false,
      "defaultValue": "",
      "label": "",
      "name": "envlp_encryp_clasifier_volume_location",
      "options": {
       "widgetDisplayType": "Text",
       "validationRegex": null
      },
      "parameterDataType": "String"
     },
     "widgetInfo": {
      "widgetType": "text",
      "defaultValue": "",
      "label": "",
      "name": "envlp_encryp_clasifier_volume_location",
      "options": {
       "widgetType": "text",
       "autoCreated": null,
       "validationRegex": null
      }
     }
    },
    "envlp_encryp_classifier_volume_location": {
     "currentValue": "",
     "nuid": "28f892f7-15b2-4677-998e-27c83e0c358e",
     "typedWidgetInfo": {
      "autoCreated": false,
      "defaultValue": "",
      "label": "",
      "name": "envlp_encryp_classifier_volume_location",
      "options": {
       "widgetDisplayType": "Text",
       "validationRegex": null
      },
      "parameterDataType": "String"
     },
     "widgetInfo": {
      "widgetType": "text",
      "defaultValue": "",
      "label": "",
      "name": "envlp_encryp_classifier_volume_location",
      "options": {
       "widgetType": "text",
       "autoCreated": null,
       "validationRegex": null
      }
     }
    },
    "envlp_encryp_core_catalog_name": {
     "currentValue": "envlp_encryp_core",
     "nuid": "fd39ca81-62bf-4832-925a-eab62a85b328",
     "typedWidgetInfo": {
      "autoCreated": false,
      "defaultValue": "",
      "label": "",
      "name": "envlp_encryp_core_catalog_name",
      "options": {
       "widgetDisplayType": "Text",
       "validationRegex": null
      },
      "parameterDataType": "String"
     },
     "widgetInfo": {
      "widgetType": "text",
      "defaultValue": "",
      "label": "",
      "name": "envlp_encryp_core_catalog_name",
      "options": {
       "widgetType": "text",
       "autoCreated": null,
       "validationRegex": null
      }
     }
    },
    "envlp_encryp_decrypt_dsk_function_name": {
     "currentValue": "get_decrypted_dsk",
     "nuid": "d79a1312-08a0-48da-83bd-d4e8e11b9a1b",
     "typedWidgetInfo": {
      "autoCreated": false,
      "defaultValue": "",
      "label": "",
      "name": "envlp_encryp_decrypt_dsk_function_name",
      "options": {
       "widgetDisplayType": "Text",
       "validationRegex": null
      },
      "parameterDataType": "String"
     },
     "widgetInfo": {
      "widgetType": "text",
      "defaultValue": "",
      "label": "",
      "name": "envlp_encryp_decrypt_dsk_function_name",
      "options": {
       "widgetType": "text",
       "autoCreated": null,
       "validationRegex": null
      }
     }
    },
    "envlp_encryp_generate_kek_dsk_function_name": {
     "currentValue": "",
     "nuid": "c9d3ffc2-557a-4400-a3eb-cae5e484b2c4",
     "typedWidgetInfo": {
      "autoCreated": false,
      "defaultValue": "",
      "label": "",
      "name": "envlp_encryp_generate_kek_dsk_function_name",
      "options": {
       "widgetDisplayType": "Text",
       "validationRegex": null
      },
      "parameterDataType": "String"
     },
     "widgetInfo": {
      "widgetType": "text",
      "defaultValue": "",
      "label": "",
      "name": "envlp_encryp_generate_kek_dsk_function_name",
      "options": {
       "widgetType": "text",
       "autoCreated": null,
       "validationRegex": null
      }
     }
    },
    "envlp_encryp_key_vault_name": {
     "currentValue": "field-eng-key-vault.vault.azure.net",
     "nuid": "790f5933-3a75-46af-ba75-61ea2150f3f0",
     "typedWidgetInfo": {
      "autoCreated": false,
      "defaultValue": "",
      "label": "",
      "name": "envlp_encryp_key_vault_name",
      "options": {
       "widgetDisplayType": "Text",
       "validationRegex": null
      },
      "parameterDataType": "String"
     },
     "widgetInfo": {
      "widgetType": "text",
      "defaultValue": "",
      "label": "",
      "name": "envlp_encryp_key_vault_name",
      "options": {
       "widgetType": "text",
       "autoCreated": null,
       "validationRegex": null
      }
     }
    },
    "envlp_encryp_landing_catalog_name": {
     "currentValue": "envlp_encryp_landing",
     "nuid": "f5462321-c4e9-4697-ab04-d36b4fb6de28",
     "typedWidgetInfo": {
      "autoCreated": false,
      "defaultValue": "",
      "label": "",
      "name": "envlp_encryp_landing_catalog_name",
      "options": {
       "widgetDisplayType": "Text",
       "validationRegex": null
      },
      "parameterDataType": "String"
     },
     "widgetInfo": {
      "widgetType": "text",
      "defaultValue": "",
      "label": "",
      "name": "envlp_encryp_landing_catalog_name",
      "options": {
       "widgetType": "text",
       "autoCreated": null,
       "validationRegex": null
      }
     }
    },
    "envlp_encryp_pci_pii_attribute_table_name": {
     "currentValue": "pci_pii_attributes",
     "nuid": "73b0ff1c-ce9a-4f3e-95df-f2837d42a0ea",
     "typedWidgetInfo": {
      "autoCreated": false,
      "defaultValue": "",
      "label": "",
      "name": "envlp_encryp_pci_pii_attribute_table_name",
      "options": {
       "widgetDisplayType": "Text",
       "validationRegex": null
      },
      "parameterDataType": "String"
     },
     "widgetInfo": {
      "widgetType": "text",
      "defaultValue": "",
      "label": "",
      "name": "envlp_encryp_pci_pii_attribute_table_name",
      "options": {
       "widgetType": "text",
       "autoCreated": null,
       "validationRegex": null
      }
     }
    },
    "envlp_encryp_secret_scope_name": {
     "currentValue": "envlp-encryp-secret-scope",
     "nuid": "44765ffa-e77f-4022-8454-e45ddbaa84bc",
     "typedWidgetInfo": {
      "autoCreated": false,
      "defaultValue": "",
      "label": "",
      "name": "envlp_encryp_secret_scope_name",
      "options": {
       "widgetDisplayType": "Text",
       "validationRegex": null
      },
      "parameterDataType": "String"
     },
     "widgetInfo": {
      "widgetType": "text",
      "defaultValue": "",
      "label": "",
      "name": "envlp_encryp_secret_scope_name",
      "options": {
       "widgetType": "text",
       "autoCreated": null,
       "validationRegex": null
      }
     }
    },
    "envlp_encryp_sp_client_id_key": {
     "currentValue": "envlp-encryp-app-client-id",
     "nuid": "85f7b18b-2e8e-41cd-aaa5-e14cfcdd5dc7",
     "typedWidgetInfo": {
      "autoCreated": false,
      "defaultValue": "",
      "label": "",
      "name": "envlp_encryp_sp_client_id_key",
      "options": {
       "widgetDisplayType": "Text",
       "validationRegex": null
      },
      "parameterDataType": "String"
     },
     "widgetInfo": {
      "widgetType": "text",
      "defaultValue": "",
      "label": "",
      "name": "envlp_encryp_sp_client_id_key",
      "options": {
       "widgetType": "text",
       "autoCreated": null,
       "validationRegex": null
      }
     }
    },
    "envlp_encryp_sp_client_secret_key": {
     "currentValue": "envlp-encryp-app-secret-id",
     "nuid": "ddcfee47-5d0e-4632-8020-ad2a6e6ee10a",
     "typedWidgetInfo": {
      "autoCreated": false,
      "defaultValue": "",
      "label": "",
      "name": "envlp_encryp_sp_client_secret_key",
      "options": {
       "widgetDisplayType": "Text",
       "validationRegex": null
      },
      "parameterDataType": "String"
     },
     "widgetInfo": {
      "widgetType": "text",
      "defaultValue": "",
      "label": "",
      "name": "envlp_encryp_sp_client_secret_key",
      "options": {
       "widgetType": "text",
       "autoCreated": null,
       "validationRegex": null
      }
     }
    },
    "envlp_encryp_sp_tenant_id_key": {
     "currentValue": "envlp-encryp-app-tenant-id",
     "nuid": "dbe8deff-f817-4bcd-bb28-f227b52def22",
     "typedWidgetInfo": {
      "autoCreated": false,
      "defaultValue": "",
      "label": "",
      "name": "envlp_encryp_sp_tenant_id_key",
      "options": {
       "widgetDisplayType": "Text",
       "validationRegex": null
      },
      "parameterDataType": "String"
     },
     "widgetInfo": {
      "widgetType": "text",
      "defaultValue": "",
      "label": "",
      "name": "envlp_encryp_sp_tenant_id_key",
      "options": {
       "widgetType": "text",
       "autoCreated": null,
       "validationRegex": null
      }
     }
    },
    "envlp_encryp_vault_catalog_name": {
     "currentValue": "envlp_encryp_vault",
     "nuid": "fd3551bb-d5b8-4578-84c1-71bc9f7a5de6",
     "typedWidgetInfo": {
      "autoCreated": false,
      "defaultValue": "",
      "label": "",
      "name": "envlp_encryp_vault_catalog_name",
      "options": {
       "widgetDisplayType": "Text",
       "validationRegex": null
      },
      "parameterDataType": "String"
     },
     "widgetInfo": {
      "widgetType": "text",
      "defaultValue": "",
      "label": "",
      "name": "envlp_encryp_vault_catalog_name",
      "options": {
       "widgetType": "text",
       "autoCreated": null,
       "validationRegex": null
      }
     }
    }
   }
  },
  "language_info": {
   "name": "python"
  }
 },
 "nbformat": 4,
 "nbformat_minor": 0
}