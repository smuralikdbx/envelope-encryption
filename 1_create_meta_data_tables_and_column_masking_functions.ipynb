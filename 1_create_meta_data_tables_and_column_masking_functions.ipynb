{
 "cells": [
  {
   "cell_type": "markdown",
   "metadata": {
    "application/vnd.databricks.v1+cell": {
     "cellMetadata": {
      "byteLimit": 2048000,
      "rowLimit": 10000
     },
     "inputWidgets": {},
     "nuid": "847ca37f-e4a4-4629-997a-edb1e3646f38",
     "showTitle": false,
     "tableResultSettingsMap": {},
     "title": ""
    }
   },
   "source": [
    "Define the Widgets for variables that need to be parameterized in this notebook"
   ]
  },
  {
   "cell_type": "code",
   "execution_count": 0,
   "metadata": {
    "application/vnd.databricks.v1+cell": {
     "cellMetadata": {
      "byteLimit": 2048000,
      "rowLimit": 10000
     },
     "inputWidgets": {},
     "nuid": "b4510061-6a8a-4eae-a9fd-14fd9560ef66",
     "showTitle": false,
     "tableResultSettingsMap": {},
     "title": ""
    }
   },
   "outputs": [],
   "source": [
    "CREATE WIDGET TEXT envlp_encryp_core_catalog_name DEFAULT \"\";\n",
    "CREATE WIDGET TEXT envlp_encryp_group_name DEFAULT \"\";\n",
    "CREATE WIDGET TEXT envlp_encryp_pci_pii_attribute_table_name DEFAULT \"\";"
   ]
  },
  {
   "cell_type": "markdown",
   "metadata": {
    "application/vnd.databricks.v1+cell": {
     "cellMetadata": {
      "byteLimit": 2048000,
      "rowLimit": 10000
     },
     "inputWidgets": {},
     "nuid": "955cf86e-a3c1-4692-8c9f-1c47f22f8152",
     "showTitle": false,
     "tableResultSettingsMap": {},
     "title": ""
    }
   },
   "source": [
    "Create the table to maintain the PCI and PII attributes and what are its corresponding KEK (Key Encryption Key) and DSK (Data Salt Key) names"
   ]
  },
  {
   "cell_type": "code",
   "execution_count": 0,
   "metadata": {
    "application/vnd.databricks.v1+cell": {
     "cellMetadata": {
      "byteLimit": 2048000,
      "implicitDf": true,
      "rowLimit": 10000
     },
     "inputWidgets": {},
     "nuid": "de36cd6e-b53f-4432-b0db-99a4f3b62a4e",
     "showTitle": false,
     "tableResultSettingsMap": {},
     "title": ""
    }
   },
   "outputs": [],
   "source": [
    "CREATE TABLE IF NOT EXISTS `${envlp_encryp_core_catalog_name}`.default.${envlp_encryp_pci_pii_attribute_table_name} (\n",
    "  pci_pii_attribute_name STRING,\n",
    "  kek_name STRING,\n",
    "  dsk_name STRING\n",
    ")"
   ]
  },
  {
   "cell_type": "markdown",
   "metadata": {
    "application/vnd.databricks.v1+cell": {
     "cellMetadata": {
      "byteLimit": 2048000,
      "rowLimit": 10000
     },
     "inputWidgets": {},
     "nuid": "f8bc5a8b-188a-4388-99a9-ca11720eee9f",
     "showTitle": false,
     "tableResultSettingsMap": {},
     "title": ""
    }
   },
   "source": [
    "Insert the PCI and PII attributes and it's corresponding KEK (Key Encryption Key) and DSK (Data Salt Key) names"
   ]
  },
  {
   "cell_type": "code",
   "execution_count": 0,
   "metadata": {
    "application/vnd.databricks.v1+cell": {
     "cellMetadata": {
      "byteLimit": 2048000,
      "rowLimit": 10000
     },
     "inputWidgets": {},
     "nuid": "e8bb3e7f-6a29-4f8e-93d6-ce1524190067",
     "showTitle": false,
     "tableResultSettingsMap": {},
     "title": ""
    }
   },
   "outputs": [],
   "source": [
    "INSERT INTO `${envlp_encryp_core_catalog_name}`.default.${envlp_encryp_pci_pii_attribute_table_name}\n",
    "SELECT 'name', 'envlp-encryp-key-encryption-key-name', 'envlp-encryp-data-salt-key-name' union\n",
    "SELECT 'email', 'envlp-encryp-key-encryption-key-email', 'envlp-encryp-data-salt-key-email' union\n",
    "SELECT 'phone', 'envlp-encryp-key-encryption-key-phone', 'envlp-encryp-data-salt-key-phone' union\n",
    "SELECT 'dob', 'envlp-encryp-key-encryption-key-dob', 'envlp-encryp-data-salt-key-dob' union\n",
    "SELECT 'ssn', 'envlp-encryp-key-encryption-key-ssn', 'envlp-encryp-data-salt-key-ssn' union\n",
    "SELECT 'pan', 'envlp-encryp-key-encryption-key-pan', 'envlp-encryp-data-salt-key-pan' union\n",
    "SELECT 'address', 'envlp-encryp-key-encryption-key-address', 'envlp-encryp-data-salt-key-address' union\n",
    "SELECT 'exp-date', 'envlp-encryp-key-encryption-key-exp-date', 'envlp-encryp-data-salt-key-exp-date'"
   ]
  },
  {
   "cell_type": "markdown",
   "metadata": {
    "application/vnd.databricks.v1+cell": {
     "cellMetadata": {
      "byteLimit": 2048000,
      "rowLimit": 10000
     },
     "inputWidgets": {},
     "nuid": "49c4005d-67c6-41c9-96db-d28742772b52",
     "showTitle": false,
     "tableResultSettingsMap": {},
     "title": ""
    }
   },
   "source": [
    "Masking function for PAN. Show only the last 4 digits for users who do not have privilege to see the clear text values"
   ]
  },
  {
   "cell_type": "code",
   "execution_count": 0,
   "metadata": {
    "application/vnd.databricks.v1+cell": {
     "cellMetadata": {
      "byteLimit": 2048000,
      "implicitDf": true,
      "rowLimit": 10000
     },
     "inputWidgets": {},
     "nuid": "078cb143-7450-431d-a91c-b86c744533ba",
     "showTitle": false,
     "tableResultSettingsMap": {},
     "title": ""
    }
   },
   "outputs": [],
   "source": [
    "/*Masking function for PAN. Show only the last 4 digits for users who do not have privilege to see the clear text values*/\n",
    "CREATE OR REPLACE FUNCTION `${envlp_encryp_core_catalog_name}`.default.pan_mask(pan STRING)\n",
    "  RETURN CASE WHEN is_member('${senvlp_encryp_group_name}') THEN pan\n",
    "    ELSE\n",
    "      CONCAT(\n",
    "        REPEAT('X', LENGTH(pan) - 4), --middle digits\n",
    "        RIGHT(pan, 4) --last 4 digits\n",
    "      ) \n",
    "  END;"
   ]
  },
  {
   "cell_type": "markdown",
   "metadata": {
    "application/vnd.databricks.v1+cell": {
     "cellMetadata": {
      "byteLimit": 2048000,
      "rowLimit": 10000
     },
     "inputWidgets": {},
     "nuid": "8153db88-ac48-4633-a1d8-b773352b611f",
     "showTitle": false,
     "tableResultSettingsMap": {},
     "title": ""
    }
   },
   "source": [
    "Masking function for Exp Date. Show only the year for users who do not have privilege to see the clear text values"
   ]
  },
  {
   "cell_type": "code",
   "execution_count": 0,
   "metadata": {
    "application/vnd.databricks.v1+cell": {
     "cellMetadata": {
      "byteLimit": 2048000,
      "implicitDf": true,
      "rowLimit": 10000
     },
     "inputWidgets": {},
     "nuid": "f1d3df04-ad13-4a0f-a002-4d0de8c5511e",
     "showTitle": false,
     "tableResultSettingsMap": {},
     "title": ""
    }
   },
   "outputs": [],
   "source": [
    "/*Masking function for Exp Date. Show only the year for users who do not have privilege to see the clear text values*/\n",
    "CREATE OR REPLACE FUNCTION `${envlp_encryp_core_catalog_name}`.default.exp_date_mask(exp_date STRING)\n",
    "  RETURN CASE WHEN is_member('${envlp_encryp_group_name}') THEN exp_date\n",
    "    ELSE\n",
    "      CONCAT('20', RIGHT(exp_date, 2))\n",
    "  END;"
   ]
  },
  {
   "cell_type": "markdown",
   "metadata": {
    "application/vnd.databricks.v1+cell": {
     "cellMetadata": {
      "byteLimit": 2048000,
      "rowLimit": 10000
     },
     "inputWidgets": {},
     "nuid": "7cccf224-0068-4d8a-81df-69905966ac04",
     "showTitle": false,
     "tableResultSettingsMap": {},
     "title": ""
    }
   },
   "source": [
    "Masking function for Name. Show the first the first name and the first character of the last name for users who do not have privilege to see the clear text values"
   ]
  },
  {
   "cell_type": "code",
   "execution_count": 0,
   "metadata": {
    "application/vnd.databricks.v1+cell": {
     "cellMetadata": {
      "byteLimit": 2048000,
      "implicitDf": true,
      "rowLimit": 10000
     },
     "inputWidgets": {},
     "nuid": "508df1c2-5d5f-4003-9861-6d1deb79c29f",
     "showTitle": false,
     "tableResultSettingsMap": {},
     "title": ""
    }
   },
   "outputs": [],
   "source": [
    "/*Masking function for Name. Show the first the first name and the first character of the last name for users who do not have privilege to see the clear text values*/\n",
    "CREATE OR REPLACE FUNCTION `${envlp_encryp_core_catalog_name}`.default.name_mask(name STRING)\n",
    "  RETURN CASE WHEN is_member('${envlp_encryp_group_name}') THEN name\n",
    "    ELSE\n",
    "      CONCAT(SPLIT(name, ' ')[0], ' ', LEFT(SPLIT(name, ' ')[1],1), '.')\n",
    "    END;"
   ]
  },
  {
   "cell_type": "markdown",
   "metadata": {
    "application/vnd.databricks.v1+cell": {
     "cellMetadata": {
      "byteLimit": 2048000,
      "rowLimit": 10000
     },
     "inputWidgets": {},
     "nuid": "a6c96171-31c5-43ae-8961-a7eb0a21f565",
     "showTitle": false,
     "tableResultSettingsMap": {},
     "title": ""
    }
   },
   "source": [
    "Masking function for Address. Show the first few character of the address for users who do not have privilege to see the clear text values"
   ]
  },
  {
   "cell_type": "code",
   "execution_count": 0,
   "metadata": {
    "application/vnd.databricks.v1+cell": {
     "cellMetadata": {
      "byteLimit": 2048000,
      "implicitDf": true,
      "rowLimit": 10000
     },
     "inputWidgets": {},
     "nuid": "a3cd43bc-15f7-4516-942f-e3cb66ceb4a0",
     "showTitle": false,
     "tableResultSettingsMap": {},
     "title": ""
    }
   },
   "outputs": [],
   "source": [
    "/*Masking function for Address. Show the first few character of the address for users who do not have privilege to see the clear text values*/\n",
    "CREATE OR REPLACE FUNCTION `${envlp_encryp_core_catalog_name}`.default.address_mask(address STRING)\n",
    "  RETURN CASE WHEN is_member('${envlp_encryp_group_name}') THEN address\n",
    "    ELSE\n",
    "      CONCAT(LEFT(address, 10), '...')\n",
    "    END;"
   ]
  },
  {
   "cell_type": "markdown",
   "metadata": {
    "application/vnd.databricks.v1+cell": {
     "cellMetadata": {
      "byteLimit": 2048000,
      "rowLimit": 10000
     },
     "inputWidgets": {},
     "nuid": "43386915-4a21-4841-9f8a-7f81cda2b7e2",
     "showTitle": false,
     "tableResultSettingsMap": {},
     "title": ""
    }
   },
   "source": [
    "Masking function for Email. Show the first character of the email and the rest as **** followed @domain.com for users who do not have privilege to see the clear text values"
   ]
  },
  {
   "cell_type": "code",
   "execution_count": 0,
   "metadata": {
    "application/vnd.databricks.v1+cell": {
     "cellMetadata": {
      "byteLimit": 2048000,
      "implicitDf": true,
      "rowLimit": 10000
     },
     "inputWidgets": {},
     "nuid": "bc8736f7-a49f-4985-a19c-5842d1bfa933",
     "showTitle": false,
     "tableResultSettingsMap": {},
     "title": ""
    }
   },
   "outputs": [],
   "source": [
    "/*Masking function for Email. Show the first character of the email and the rest as **** followed @domain.com for users who do not have privilege to see the clear text values*/\n",
    "CREATE OR REPLACE FUNCTION `${envlp_encryp_core_catalog_name}`.default.email_mask(email STRING)\n",
    "  RETURN CASE WHEN is_member('${envlp_encryp_group_name}') THEN email\n",
    "    ELSE\n",
    "      CONCAT(LEFT(email, 1), '*****', SUBSTRING(email, INSTR(email, '@'), LENGTH(email)))\n",
    "    END;"
   ]
  },
  {
   "cell_type": "markdown",
   "metadata": {
    "application/vnd.databricks.v1+cell": {
     "cellMetadata": {
      "byteLimit": 2048000,
      "rowLimit": 10000
     },
     "inputWidgets": {},
     "nuid": "8dc1f2bd-d186-4c86-9977-a905fa8306fd",
     "showTitle": false,
     "tableResultSettingsMap": {},
     "title": ""
    }
   },
   "source": [
    "Masking function for Phone Number. Show only the last 4 digits of the phone and the rest as **** for users who do not have privilege to see the clear text values"
   ]
  },
  {
   "cell_type": "code",
   "execution_count": 0,
   "metadata": {
    "application/vnd.databricks.v1+cell": {
     "cellMetadata": {
      "byteLimit": 2048000,
      "implicitDf": true,
      "rowLimit": 10000
     },
     "inputWidgets": {},
     "nuid": "0b45ede9-f600-4efc-8414-30f92d273d4f",
     "showTitle": false,
     "tableResultSettingsMap": {},
     "title": ""
    }
   },
   "outputs": [],
   "source": [
    "/*Masking function for Phone Number. Show only the last 4 digits of the phone and the rest as **** for users who do not have privilege to see the clear text values*/\n",
    "CREATE OR REPLACE FUNCTION `${envlp_encryp_core_catalog_name}`.default.phone_mask(phone STRING)\n",
    "  RETURN CASE WHEN is_member('${envlp_encryp_group_name}') THEN phone\n",
    "    ELSE\n",
    "      CONCAT(REPEAT('*', LENGTH(phone) -4), RIGHT(phone, 4))\n",
    "    END;"
   ]
  },
  {
   "cell_type": "markdown",
   "metadata": {
    "application/vnd.databricks.v1+cell": {
     "cellMetadata": {
      "byteLimit": 2048000,
      "rowLimit": 10000
     },
     "inputWidgets": {},
     "nuid": "9f858eba-5c66-4548-8665-2d695b740625",
     "showTitle": false,
     "tableResultSettingsMap": {},
     "title": ""
    }
   },
   "source": [
    "Masking function for Data of Birth. Show only the year of the Data of Birth for users who do not have privilege to see the clear text values"
   ]
  },
  {
   "cell_type": "code",
   "execution_count": 0,
   "metadata": {
    "application/vnd.databricks.v1+cell": {
     "cellMetadata": {
      "byteLimit": 2048000,
      "implicitDf": true,
      "rowLimit": 10000
     },
     "inputWidgets": {},
     "nuid": "c23f0d0c-c6e3-4492-8ed8-39fdf19d7d1b",
     "showTitle": false,
     "tableResultSettingsMap": {},
     "title": ""
    }
   },
   "outputs": [],
   "source": [
    "/*Masking function for Data of Birth. Show only the year of the Data of Birth for users who do not have privilege to see the clear text values*/\n",
    "CREATE OR REPLACE FUNCTION `${envlp_encryp_core_catalog_name}`.default.dob_mask(dob STRING)\n",
    "  RETURN CASE WHEN is_member('${envlp_encryp_group_name}') THEN dob\n",
    "    ELSE\n",
    "      CAST(YEAR(dob) AS STRING)\n",
    "    END;"
   ]
  },
  {
   "cell_type": "markdown",
   "metadata": {
    "application/vnd.databricks.v1+cell": {
     "cellMetadata": {
      "byteLimit": 2048000,
      "rowLimit": 10000
     },
     "inputWidgets": {},
     "nuid": "28d68a29-994c-4e3f-940f-8d621b2c35a0",
     "showTitle": false,
     "tableResultSettingsMap": {},
     "title": ""
    }
   },
   "source": [
    "Masking function for SSN. Show only the last 4 digits of SSN for users who do not have privilege to see the clear text values"
   ]
  },
  {
   "cell_type": "code",
   "execution_count": 0,
   "metadata": {
    "application/vnd.databricks.v1+cell": {
     "cellMetadata": {
      "byteLimit": 2048000,
      "implicitDf": true,
      "rowLimit": 10000
     },
     "inputWidgets": {},
     "nuid": "653011cd-7a98-4353-84cf-541724fe53e6",
     "showTitle": false,
     "tableResultSettingsMap": {},
     "title": ""
    }
   },
   "outputs": [],
   "source": [
    "/*Masking function for SSN. Show only the last 4 digits of SSN for users who do not have privilege to see the clear text values*/\n",
    "CREATE OR REPLACE FUNCTION `${envlp_encryp_core_catalog_name}`.default.ssn_mask(ssn STRING)\n",
    "  RETURN CASE WHEN is_member('${envlp_encryp_group_name}') THEN ssn\n",
    "    ELSE\n",
    "      CONCAT('***-**-', RIGHT(ssn, 4))\n",
    "    END;"
   ]
  }
 ],
 "metadata": {
  "application/vnd.databricks.v1+notebook": {
   "computePreferences": null,
   "dashboards": [],
   "environmentMetadata": {
    "base_environment": "",
    "environment_version": "2"
   },
   "inputWidgetPreferences": null,
   "language": "sql",
   "notebookMetadata": {
    "mostRecentlyExecutedCommandWithImplicitDF": {
     "commandId": 1412556572014903,
     "dataframes": [
      "_sqldf"
     ]
    },
    "pythonIndentUnit": 2
   },
   "notebookName": "1_create_meta_data_tables_and_column_masking_functions",
   "widgets": {
    "envlp_encryp_core_catalog_name": {
     "currentValue": "envlp_encryp_core",
     "nuid": "89250cf7-8e56-4075-a4ec-966ac71d943c",
     "typedWidgetInfo": {
      "autoCreated": false,
      "defaultValue": "",
      "label": null,
      "name": "envlp_encryp_core_catalog_name",
      "options": {
       "widgetDisplayType": "Text",
       "validationRegex": null
      },
      "parameterDataType": "String"
     },
     "widgetInfo": {
      "widgetType": "text",
      "defaultValue": "",
      "label": null,
      "name": "envlp_encryp_core_catalog_name",
      "options": {
       "widgetType": "text",
       "autoCreated": null,
       "validationRegex": null
      }
     }
    },
    "envlp_encryp_group_name": {
     "currentValue": "envlp_encryp_prvlgd_usergrp",
     "nuid": "72258eee-5938-4dce-89c1-f424f0ff506d",
     "typedWidgetInfo": {
      "autoCreated": false,
      "defaultValue": "",
      "label": null,
      "name": "envlp_encryp_group_name",
      "options": {
       "widgetDisplayType": "Text",
       "validationRegex": null
      },
      "parameterDataType": "String"
     },
     "widgetInfo": {
      "widgetType": "text",
      "defaultValue": "",
      "label": null,
      "name": "envlp_encryp_group_name",
      "options": {
       "widgetType": "text",
       "autoCreated": null,
       "validationRegex": null
      }
     }
    },
    "envlp_encryp_pci_pii_attribute_table_name": {
     "currentValue": "pci_pii_attributes",
     "nuid": "70a7d155-720c-4db0-bc99-63b5e2cec64f",
     "typedWidgetInfo": {
      "autoCreated": false,
      "defaultValue": "",
      "label": null,
      "name": "envlp_encryp_pci_pii_attribute_table_name",
      "options": {
       "widgetDisplayType": "Text",
       "validationRegex": null
      },
      "parameterDataType": "String"
     },
     "widgetInfo": {
      "widgetType": "text",
      "defaultValue": "",
      "label": null,
      "name": "envlp_encryp_pci_pii_attribute_table_name",
      "options": {
       "widgetType": "text",
       "autoCreated": null,
       "validationRegex": null
      }
     }
    },
    "landing_to_vault_load_tracking_table": {
     "currentValue": "landing_to_vault_tables_last_loaded_version",
     "nuid": "220ba54f-b9d6-4a20-b34e-07cea6fbc5d1",
     "typedWidgetInfo": {
      "autoCreated": false,
      "defaultValue": "",
      "label": null,
      "name": "landing_to_vault_load_tracking_table",
      "options": {
       "widgetDisplayType": "Text",
       "validationRegex": null
      },
      "parameterDataType": "String"
     },
     "widgetInfo": {
      "widgetType": "text",
      "defaultValue": "",
      "label": null,
      "name": "landing_to_vault_load_tracking_table",
      "options": {
       "widgetType": "text",
       "autoCreated": null,
       "validationRegex": null
      }
     }
    }
   }
  },
  "language_info": {
   "name": "sql"
  }
 },
 "nbformat": 4,
 "nbformat_minor": 0
}