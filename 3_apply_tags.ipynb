{
 "cells": [
  {
   "cell_type": "markdown",
   "metadata": {
    "application/vnd.databricks.v1+cell": {
     "cellMetadata": {
      "byteLimit": 2048000,
      "rowLimit": 10000
     },
     "inputWidgets": {},
     "nuid": "89122645-736c-41f2-bcf5-1f2dd2627842",
     "showTitle": false,
     "tableResultSettingsMap": {},
     "title": ""
    }
   },
   "source": [
    "Run the register-widgets notebook to create all the widgets required for the notebook"
   ]
  },
  {
   "cell_type": "code",
   "execution_count": 0,
   "metadata": {
    "application/vnd.databricks.v1+cell": {
     "cellMetadata": {
      "byteLimit": 2048000,
      "rowLimit": 10000
     },
     "inputWidgets": {},
     "nuid": "d1d4825d-ce09-48bf-af0f-bcf3e53c6571",
     "showTitle": false,
     "tableResultSettingsMap": {},
     "title": ""
    }
   },
   "outputs": [
    {
     "output_type": "display_data",
     "data": {
      "text/markdown": [
       "Define the widgets for all the variables that can be parameterized"
      ]
     },
     "metadata": {},
     "output_type": "display_data"
    },
    {
     "output_type": "display_data",
     "data": {
      "text/markdown": [
       "To get the values for all the defined widgets and get it as a dictionary"
      ]
     },
     "metadata": {},
     "output_type": "display_data"
    }
   ],
   "source": [
    "%run ./register_widgets"
   ]
  },
  {
   "cell_type": "markdown",
   "metadata": {
    "application/vnd.databricks.v1+cell": {
     "cellMetadata": {
      "byteLimit": 2048000,
      "rowLimit": 10000
     },
     "inputWidgets": {},
     "nuid": "acd7984a-2863-45c3-9ddb-db23cfc55b7b",
     "showTitle": false,
     "tableResultSettingsMap": {},
     "title": ""
    }
   },
   "source": [
    "Calling register_widgets() will create all the widgets in the notebook. Subsequently get_parameters() is used for retrieving all the widget values as a dictionary"
   ]
  },
  {
   "cell_type": "code",
   "execution_count": 0,
   "metadata": {
    "application/vnd.databricks.v1+cell": {
     "cellMetadata": {
      "byteLimit": 2048000,
      "rowLimit": 10000
     },
     "inputWidgets": {},
     "nuid": "598ef4f4-daba-4d83-b2b1-ea3e504d882e",
     "showTitle": false,
     "tableResultSettingsMap": {},
     "title": ""
    }
   },
   "outputs": [],
   "source": [
    "register_widgets()\n",
    "params = get_parameters()"
   ]
  },
  {
   "cell_type": "code",
   "execution_count": 0,
   "metadata": {
    "application/vnd.databricks.v1+cell": {
     "cellMetadata": {
      "byteLimit": 2048000,
      "rowLimit": 10000
     },
     "inputWidgets": {},
     "nuid": "48cfd719-1eb5-449a-b1a8-50546ec797c6",
     "showTitle": false,
     "tableResultSettingsMap": {},
     "title": ""
    }
   },
   "outputs": [],
   "source": [
    "envlp_encryp_classifier_volume_location = params['envlp_encryp_classifier_volume_location']\n",
    "envlp_encryp_landing_catalog_name = params['envlp_encryp_landing_catalog_name']"
   ]
  },
  {
   "cell_type": "markdown",
   "metadata": {
    "application/vnd.databricks.v1+cell": {
     "cellMetadata": {
      "byteLimit": 2048000,
      "rowLimit": 10000
     },
     "inputWidgets": {},
     "nuid": "c02be629-712b-4e3c-bbea-5f9decdd1568",
     "showTitle": false,
     "tableResultSettingsMap": {},
     "title": ""
    }
   },
   "source": [
    "The below cell will read the manifest file (json file) that has the definition of the schemas, tables and columns defined in Unity Catalog. It will check if the definition of the manifest file matches with schema and table definition using system tables. If there is a mismatch, subsequent steps will not be excuted."
   ]
  },
  {
   "cell_type": "code",
   "execution_count": 0,
   "metadata": {
    "application/vnd.databricks.v1+cell": {
     "cellMetadata": {
      "byteLimit": 2048000,
      "rowLimit": 10000
     },
     "inputWidgets": {},
     "nuid": "cac0de13-d6bb-4d41-8baf-a54f9bbf6a72",
     "showTitle": false,
     "tableResultSettingsMap": {},
     "title": ""
    }
   },
   "outputs": [],
   "source": [
    "from pyspark.sql.functions import explode, col, create_map, struct, lit, concat\n",
    "from pyspark.sql.types import StructType\n",
    "\n",
    "# Step 1: Read attribute classification JSON files from the given path (multiline JSON enabled)\n",
    "#There can be either one file for all schemas and tables or multiple files for each schema\n",
    "#Filter attributes that do not have any tags\n",
    "df_attribute_classifications = spark.read\\\n",
    "                      .option(\"multiLine\", True)\\\n",
    "                      .json(f\"{envlp_encryp_classifier_volume_location}/*.json\")\\\n",
    "                      .select(explode(\"schemas\").alias(\"schemas\"))\\\n",
    "                      .select(col(\"schemas.schema_name\"),\n",
    "                              explode(\"schemas.tables\").alias(\"tables\")\n",
    "                              )\\\n",
    "                      .select(col(\"schema_name\"),\n",
    "                              col(\"tables.table_name\"),\n",
    "                              explode(\"tables.attributes\").alias(\"attributes\")\n",
    "                              )\\\n",
    "                      .select(col(\"schema_name\"),\n",
    "                              col(\"table_name\"),\n",
    "                              col(\"attributes.attribute_name\").alias(\"column_name\"),\n",
    "                              col(\"attributes.tags\").alias(\"tags\")\n",
    "                              )\\\n",
    "                      .filter(col(\"tags\").isNotNull())\n",
    "\n",
    "# Step 2: Convert 'tags' struct to a map (key-value pairs), if it's a StructType. \n",
    "# This will create seperate entry for each tag for the same attribute.\n",
    "tags = df_attribute_classifications.select(\"tags\").schema[0].dataType\n",
    "if isinstance(tags, StructType):\n",
    "  kv_pairs = []\n",
    "  for f in tags.fields:\n",
    "    kv_pairs.extend([lit(f.name), col(f\"tags.{f.name}\")])\n",
    "  df_attribute_classifications = df_attribute_classifications.withColumn(\"tags\", create_map(*kv_pairs))\n",
    "else:\n",
    "  df_attribute_classifications = df_attribute_classifications.withColumn(\"tags\", col(\"tags\"))\n",
    "\n",
    "#display(df_attribute_classifications)\n",
    "\n",
    "# Step 3: Explode the map of tags into individual rows (key = tag_name, value = tag_value)\n",
    "df_attribute_classifications = df_attribute_classifications\\\n",
    "                                .select(\n",
    "                                        \"schema_name\",\n",
    "                                        \"table_name\",\n",
    "                                        \"column_name\",\n",
    "                                        explode(\"tags\").alias(\"tag_name\", \"tag_value\")\n",
    "                                        )\\\n",
    "                                .filter(col(\"tag_value\").isNotNull())\n",
    "#display(df_attribute_classifications)\n",
    "\n",
    "#Alias the dataframe for join condition\n",
    "df_attribute_classifications = df_attribute_classifications.alias(\"attribute_classifications\")"
   ]
  },
  {
   "cell_type": "markdown",
   "metadata": {
    "application/vnd.databricks.v1+cell": {
     "cellMetadata": {
      "byteLimit": 2048000,
      "rowLimit": 10000
     },
     "inputWidgets": {},
     "nuid": "ef4255fa-3792-4dd2-9cbb-6d99c3912934",
     "showTitle": false,
     "tableResultSettingsMap": {},
     "title": ""
    }
   },
   "source": [
    "Get the list of schema, tables and column definition from system tables to evaluate if the definition in the manifest file matches with the definition in the system tables."
   ]
  },
  {
   "cell_type": "code",
   "execution_count": 0,
   "metadata": {
    "application/vnd.databricks.v1+cell": {
     "cellMetadata": {
      "byteLimit": 2048000,
      "rowLimit": 10000
     },
     "inputWidgets": {},
     "nuid": "7dd5799d-4a90-4705-be28-1abc9a4ec7a0",
     "showTitle": false,
     "tableResultSettingsMap": {},
     "title": ""
    }
   },
   "outputs": [
    {
     "output_type": "display_data",
     "data": {
      "text/html": [
       "<style scoped>\n",
       "  .table-result-container {\n",
       "    max-height: 300px;\n",
       "    overflow: auto;\n",
       "  }\n",
       "  table, th, td {\n",
       "    border: 1px solid black;\n",
       "    border-collapse: collapse;\n",
       "  }\n",
       "  th, td {\n",
       "    padding: 5px;\n",
       "  }\n",
       "  th {\n",
       "    text-align: left;\n",
       "  }\n",
       "</style><div class='table-result-container'><table class='table-result'><thead style='background-color: white'><tr><th>schema_name</th><th>table_name</th><th>column_name</th><th>reason</th></tr></thead><tbody></tbody></table></div>"
      ]
     },
     "metadata": {
      "application/vnd.databricks.v1+output": {
       "addedWidgets": {},
       "aggData": [],
       "aggError": "",
       "aggOverflow": false,
       "aggSchema": [],
       "aggSeriesLimitReached": false,
       "aggType": "",
       "arguments": {},
       "columnCustomDisplayInfos": {},
       "data": [],
       "datasetInfos": [],
       "dbfsResultPath": null,
       "isJsonSchema": true,
       "metadata": {},
       "overflow": false,
       "plotOptions": {
        "customPlotOptions": {},
        "displayType": "table",
        "pivotAggregation": null,
        "pivotColumns": null,
        "xColumns": null,
        "yColumns": null
       },
       "removedWidgets": [],
       "schema": [
        {
         "metadata": "{}",
         "name": "schema_name",
         "type": "\"string\""
        },
        {
         "metadata": "{}",
         "name": "table_name",
         "type": "\"string\""
        },
        {
         "metadata": "{}",
         "name": "column_name",
         "type": "\"string\""
        },
        {
         "metadata": "{}",
         "name": "reason",
         "type": "\"string\""
        }
       ],
       "type": "table"
      }
     },
     "output_type": "display_data"
    }
   ],
   "source": [
    "# Step 3: Get the list of all columns for each schema and table from the landing catalog to compare with the manifest file\n",
    "df_landing_catalog_table_columns = spark.sql(f\"select table_schema as schema_name, table_name, column_name from system.information_schema.columns where table_catalog = '{envlp_encryp_landing_catalog_name}'\")\n",
    "#display(df_landing_catalog_table_columns)\n",
    "\n",
    "df_landing_catalog_table_columns = df_landing_catalog_table_columns.alias(\"landing_catalog_table_columns\")\n",
    "\n",
    "join_keys = [\"schema_name\", \"table_name\", \"column_name\"]\n",
    "\n",
    "#Left join all the attributes from the manifest files with the table columns from the landing catalog \n",
    "df_tags = df_attribute_classifications.join(\n",
    "              df_landing_catalog_table_columns\n",
    "              , on=[col(f\"attribute_classifications.{k}\") == col(f\"landing_catalog_table_columns.{k}\") for k in join_keys], how=\"left\")\n",
    "#display(df_tags)\n",
    "\n",
    "#Check for any mismatch between the schema, table and column definition in the manifest file and landing catalog\n",
    "df_mismatch_classification = df_tags.select(\"attribute_classifications.schema_name\",\n",
    "                                            \"attribute_classifications.table_name\",\n",
    "                                            \"attribute_classifications.column_name\").distinct()\\\n",
    "                                            .filter(col(\"landing_catalog_table_columns.schema_name\").isNull())\n",
    "df_mismatch_classification = df_mismatch_classification\\\n",
    "                              .withColumn(\"reason\", lit(\"The combination of schema_name, table_name, column_name does not exist in landing catalog\"))\n",
    "display(df_mismatch_classification)"
   ]
  },
  {
   "cell_type": "markdown",
   "metadata": {
    "application/vnd.databricks.v1+cell": {
     "cellMetadata": {
      "byteLimit": 2048000,
      "rowLimit": 10000
     },
     "inputWidgets": {},
     "nuid": "b91e16c1-ef87-4997-829c-e241aaca90bd",
     "showTitle": false,
     "tableResultSettingsMap": {},
     "title": ""
    }
   },
   "source": [
    "If there is no mismatch identified, then retrieve the existing column tags of all the tables in the landing catalog and compare with the column tags defined in the manifest file. If there are new tag definition identified in the manifest file, create and execute ALTER statement to those table column attributes in Unity Catalog."
   ]
  },
  {
   "cell_type": "code",
   "execution_count": 0,
   "metadata": {
    "application/vnd.databricks.v1+cell": {
     "cellMetadata": {
      "byteLimit": 2048000,
      "implicitDf": true,
      "rowLimit": 10000
     },
     "inputWidgets": {},
     "nuid": "18ad68f4-987e-459e-a3bc-0e1012665633",
     "showTitle": false,
     "tableResultSettingsMap": {},
     "title": ""
    }
   },
   "outputs": [],
   "source": [
    "#Step 4: If there is no mismatch identified, then compare the tags in the manifest file with the landing catalog. Fetch the tags in the landing catalog using system tables.\n",
    "if(df_mismatch_classification.count() == 0):\n",
    "  \n",
    "  df_landing_catalog_tags = spark.sql(f\"select schema_name, table_name, column_name, tag_name, tag_value from system.information_schema.column_tags where catalog_name = '{envlp_encryp_landing_catalog_name}'\")\n",
    "  #display(df_landing_catalog_tags)\n",
    "\n",
    "  df_landing_catalog_tags = df_landing_catalog_tags.alias(\"landing_catalog_tags\")\n",
    "\n",
    "  join_keys = [\"schema_name\", \"table_name\", \"column_name\", \"tag_name\", \"tag_value\"]\n",
    "  \n",
    "  #Left join all the table column tags from the manifest file with the table column tags from the landing catalog. If there are any new tags defined in the manifest file, create an ALTER statement to add the tags to the table columns in landing catalog.\n",
    "  df_tags = df_attribute_classifications.join(\n",
    "              df_landing_catalog_tags\n",
    "              , on=[col(f\"attribute_classifications.{k}\") == col(f\"landing_catalog_tags.{k}\") for k in join_keys], how=\"left\")\n",
    "  #display(df_tags)\n",
    "  df_missing_tags_in_landing_catalog = df_tags.select(\"attribute_classifications.*\")\\\n",
    "                                            .filter(col(\"landing_catalog_tags.tag_value\").isNull())\n",
    "  #display(df_missing_tags_in_landing_catalog)\n",
    "\n",
    "  #For new tags identified in the manifest file, create and execute ALTER statements to add the tags to the table columns in landing catalog.\n",
    "  rows = df_missing_tags_in_landing_catalog.select(\"schema_name\", \"table_name\", \"column_name\", \"tag_name\", \"tag_value\").collect()\n",
    "\n",
    "  alter_statements = [\n",
    "    f\"ALTER TABLE `{envlp_encryp_landing_catalog_name}`.`{row['schema_name']}`.`{row['table_name']}` \"\n",
    "    f\"ALTER COLUMN {row['column_name']} \"\n",
    "    f\"SET TAGS ('{row['tag_name']}' = '{row['tag_value']}')\"\n",
    "    for row in rows\n",
    "  ]\n",
    "\n",
    "  for stmt in alter_statements:\n",
    "    try:\n",
    "      #print(stmt)\n",
    "      spark.sql(stmt)\n",
    "    except Exception as e:\n",
    "      print(f\"Failed Executing Statement: {stmt}\\n Error: {e}\")\n",
    "else:\n",
    "  print(\"There are configuration mismatch between attributes in manifest file and landing catalog \")"
   ]
  }
 ],
 "metadata": {
  "application/vnd.databricks.v1+notebook": {
   "computePreferences": null,
   "dashboards": [],
   "environmentMetadata": {
    "base_environment": "",
    "environment_version": "2"
   },
   "inputWidgetPreferences": null,
   "language": "python",
   "notebookMetadata": {
    "mostRecentlyExecutedCommandWithImplicitDF": {
     "commandId": 2275659825134295,
     "dataframes": [
      "_sqldf"
     ]
    },
    "pythonIndentUnit": 2
   },
   "notebookName": "3_apply_tags",
   "widgets": {
    "dataframe_results_volume_location": {
     "currentValue": "",
     "nuid": "10bf4f5f-a23c-46aa-8f97-1da0c90fb369",
     "typedWidgetInfo": {
      "autoCreated": false,
      "defaultValue": "",
      "label": "",
      "name": "dataframe_results_volume_location",
      "options": {
       "widgetDisplayType": "Text",
       "validationRegex": null
      },
      "parameterDataType": "String"
     },
     "widgetInfo": {
      "widgetType": "text",
      "defaultValue": "",
      "label": "",
      "name": "dataframe_results_volume_location",
      "options": {
       "widgetType": "text",
       "autoCreated": false,
       "validationRegex": null
      }
     }
    },
    "envlp_encryp_aes_decrypt_key": {
     "currentValue": "",
     "nuid": "b9b56394-b13b-4fbe-8192-0d16bd1abf74",
     "typedWidgetInfo": {
      "autoCreated": false,
      "defaultValue": "",
      "label": "",
      "name": "envlp_encryp_aes_decrypt_key",
      "options": {
       "widgetDisplayType": "Text",
       "validationRegex": null
      },
      "parameterDataType": "String"
     },
     "widgetInfo": {
      "widgetType": "text",
      "defaultValue": "",
      "label": "",
      "name": "envlp_encryp_aes_decrypt_key",
      "options": {
       "widgetType": "text",
       "autoCreated": false,
       "validationRegex": null
      }
     }
    },
    "envlp_encryp_anonymized_catalog_name": {
     "currentValue": "",
     "nuid": "41116b11-b338-4e5e-a04c-6472e72a01b6",
     "typedWidgetInfo": {
      "autoCreated": false,
      "defaultValue": "",
      "label": "",
      "name": "envlp_encryp_anonymized_catalog_name",
      "options": {
       "widgetDisplayType": "Text",
       "validationRegex": null
      },
      "parameterDataType": "String"
     },
     "widgetInfo": {
      "widgetType": "text",
      "defaultValue": "",
      "label": "",
      "name": "envlp_encryp_anonymized_catalog_name",
      "options": {
       "widgetType": "text",
       "autoCreated": false,
       "validationRegex": null
      }
     }
    },
    "envlp_encryp_classifier_volume_location": {
     "currentValue": "/Volumes/envlp_encryp_core/default/classifier",
     "nuid": "2e5aea1d-0506-4e52-9e7d-72d99d6b5445",
     "typedWidgetInfo": {
      "autoCreated": false,
      "defaultValue": "",
      "label": "",
      "name": "envlp_encryp_classifier_volume_location",
      "options": {
       "widgetDisplayType": "Text",
       "validationRegex": null
      },
      "parameterDataType": "String"
     },
     "widgetInfo": {
      "widgetType": "text",
      "defaultValue": "",
      "label": "",
      "name": "envlp_encryp_classifier_volume_location",
      "options": {
       "widgetType": "text",
       "autoCreated": null,
       "validationRegex": null
      }
     }
    },
    "envlp_encryp_core_catalog_name": {
     "currentValue": "",
     "nuid": "2863401e-5702-47c2-802b-0a2e2cc39d96",
     "typedWidgetInfo": {
      "autoCreated": false,
      "defaultValue": "",
      "label": "",
      "name": "envlp_encryp_core_catalog_name",
      "options": {
       "widgetDisplayType": "Text",
       "validationRegex": null
      },
      "parameterDataType": "String"
     },
     "widgetInfo": {
      "widgetType": "text",
      "defaultValue": "",
      "label": "",
      "name": "envlp_encryp_core_catalog_name",
      "options": {
       "widgetType": "text",
       "autoCreated": null,
       "validationRegex": null
      }
     }
    },
    "envlp_encryp_decrypt_dsk_function_name": {
     "currentValue": "",
     "nuid": "27445dbc-9d88-45e5-a3bb-9499cb218ba5",
     "typedWidgetInfo": {
      "autoCreated": false,
      "defaultValue": "",
      "label": "",
      "name": "envlp_encryp_decrypt_dsk_function_name",
      "options": {
       "widgetDisplayType": "Text",
       "validationRegex": null
      },
      "parameterDataType": "String"
     },
     "widgetInfo": {
      "widgetType": "text",
      "defaultValue": "",
      "label": "",
      "name": "envlp_encryp_decrypt_dsk_function_name",
      "options": {
       "widgetType": "text",
       "autoCreated": null,
       "validationRegex": null
      }
     }
    },
    "envlp_encryp_generate_kek_dsk_function_name": {
     "currentValue": "",
     "nuid": "fc40d6ab-a2f6-413a-a36b-d669486f17da",
     "typedWidgetInfo": {
      "autoCreated": false,
      "defaultValue": "",
      "label": "",
      "name": "envlp_encryp_generate_kek_dsk_function_name",
      "options": {
       "widgetDisplayType": "Text",
       "validationRegex": null
      },
      "parameterDataType": "String"
     },
     "widgetInfo": {
      "widgetType": "text",
      "defaultValue": "",
      "label": "",
      "name": "envlp_encryp_generate_kek_dsk_function_name",
      "options": {
       "widgetType": "text",
       "autoCreated": null,
       "validationRegex": null
      }
     }
    },
    "envlp_encryp_key_vault_name": {
     "currentValue": "",
     "nuid": "b791bec6-c88a-45e6-a05d-74ea06e54aa1",
     "typedWidgetInfo": {
      "autoCreated": false,
      "defaultValue": "",
      "label": "",
      "name": "envlp_encryp_key_vault_name",
      "options": {
       "widgetDisplayType": "Text",
       "validationRegex": null
      },
      "parameterDataType": "String"
     },
     "widgetInfo": {
      "widgetType": "text",
      "defaultValue": "",
      "label": "",
      "name": "envlp_encryp_key_vault_name",
      "options": {
       "widgetType": "text",
       "autoCreated": null,
       "validationRegex": null
      }
     }
    },
    "envlp_encryp_landing_catalog_name": {
     "currentValue": "envlp_encryp_landing",
     "nuid": "e3a2465f-18ec-43f8-9308-cfa51a339932",
     "typedWidgetInfo": {
      "autoCreated": false,
      "defaultValue": "",
      "label": "",
      "name": "envlp_encryp_landing_catalog_name",
      "options": {
       "widgetDisplayType": "Text",
       "validationRegex": null
      },
      "parameterDataType": "String"
     },
     "widgetInfo": {
      "widgetType": "text",
      "defaultValue": "",
      "label": "",
      "name": "envlp_encryp_landing_catalog_name",
      "options": {
       "widgetType": "text",
       "autoCreated": null,
       "validationRegex": null
      }
     }
    },
    "envlp_encryp_non_pci_pii_catalog_name": {
     "currentValue": "",
     "nuid": "4c13f6d4-d2bd-4947-9716-7cd7339727a0",
     "typedWidgetInfo": {
      "autoCreated": false,
      "defaultValue": "",
      "label": "",
      "name": "envlp_encryp_non_pci_pii_catalog_name",
      "options": {
       "widgetDisplayType": "Text",
       "validationRegex": null
      },
      "parameterDataType": "String"
     },
     "widgetInfo": {
      "widgetType": "text",
      "defaultValue": "",
      "label": "",
      "name": "envlp_encryp_non_pci_pii_catalog_name",
      "options": {
       "widgetType": "text",
       "autoCreated": null,
       "validationRegex": null
      }
     }
    },
    "envlp_encryp_pci_pii_attribute_table_name": {
     "currentValue": "",
     "nuid": "b9c37920-b778-4dca-b16a-ea8f79e72712",
     "typedWidgetInfo": {
      "autoCreated": false,
      "defaultValue": "",
      "label": "",
      "name": "envlp_encryp_pci_pii_attribute_table_name",
      "options": {
       "widgetDisplayType": "Text",
       "validationRegex": null
      },
      "parameterDataType": "String"
     },
     "widgetInfo": {
      "widgetType": "text",
      "defaultValue": "",
      "label": "",
      "name": "envlp_encryp_pci_pii_attribute_table_name",
      "options": {
       "widgetType": "text",
       "autoCreated": null,
       "validationRegex": null
      }
     }
    },
    "envlp_encryp_secret_scope_name": {
     "currentValue": "",
     "nuid": "e19303ff-63a6-4ea6-8d3c-297f7f29b72d",
     "typedWidgetInfo": {
      "autoCreated": false,
      "defaultValue": "",
      "label": "",
      "name": "envlp_encryp_secret_scope_name",
      "options": {
       "widgetDisplayType": "Text",
       "validationRegex": null
      },
      "parameterDataType": "String"
     },
     "widgetInfo": {
      "widgetType": "text",
      "defaultValue": "",
      "label": "",
      "name": "envlp_encryp_secret_scope_name",
      "options": {
       "widgetType": "text",
       "autoCreated": null,
       "validationRegex": null
      }
     }
    },
    "envlp_encryp_sp_client_id_key": {
     "currentValue": "",
     "nuid": "6b9816f6-8382-45fe-9e94-f5d0a4319f98",
     "typedWidgetInfo": {
      "autoCreated": false,
      "defaultValue": "",
      "label": "",
      "name": "envlp_encryp_sp_client_id_key",
      "options": {
       "widgetDisplayType": "Text",
       "validationRegex": null
      },
      "parameterDataType": "String"
     },
     "widgetInfo": {
      "widgetType": "text",
      "defaultValue": "",
      "label": "",
      "name": "envlp_encryp_sp_client_id_key",
      "options": {
       "widgetType": "text",
       "autoCreated": null,
       "validationRegex": null
      }
     }
    },
    "envlp_encryp_sp_client_secret_key": {
     "currentValue": "",
     "nuid": "37d7d6bc-b43c-4169-b5a2-24d5483104e5",
     "typedWidgetInfo": {
      "autoCreated": false,
      "defaultValue": "",
      "label": "",
      "name": "envlp_encryp_sp_client_secret_key",
      "options": {
       "widgetDisplayType": "Text",
       "validationRegex": null
      },
      "parameterDataType": "String"
     },
     "widgetInfo": {
      "widgetType": "text",
      "defaultValue": "",
      "label": "",
      "name": "envlp_encryp_sp_client_secret_key",
      "options": {
       "widgetType": "text",
       "autoCreated": null,
       "validationRegex": null
      }
     }
    },
    "envlp_encryp_sp_tenant_id_key": {
     "currentValue": "",
     "nuid": "1801301d-cd4d-47ce-bd78-e9d64bc2b489",
     "typedWidgetInfo": {
      "autoCreated": false,
      "defaultValue": "",
      "label": "",
      "name": "envlp_encryp_sp_tenant_id_key",
      "options": {
       "widgetDisplayType": "Text",
       "validationRegex": null
      },
      "parameterDataType": "String"
     },
     "widgetInfo": {
      "widgetType": "text",
      "defaultValue": "",
      "label": "",
      "name": "envlp_encryp_sp_tenant_id_key",
      "options": {
       "widgetType": "text",
       "autoCreated": null,
       "validationRegex": null
      }
     }
    },
    "envlp_encryp_vault_catalog_name": {
     "currentValue": "",
     "nuid": "ef3cf51a-8356-4dae-be6d-e285e78b5379",
     "typedWidgetInfo": {
      "autoCreated": false,
      "defaultValue": "",
      "label": "",
      "name": "envlp_encryp_vault_catalog_name",
      "options": {
       "widgetDisplayType": "Text",
       "validationRegex": null
      },
      "parameterDataType": "String"
     },
     "widgetInfo": {
      "widgetType": "text",
      "defaultValue": "",
      "label": "",
      "name": "envlp_encryp_vault_catalog_name",
      "options": {
       "widgetType": "text",
       "autoCreated": null,
       "validationRegex": null
      }
     }
    },
    "landing_to_vault_load_tracking_table": {
     "currentValue": "",
     "nuid": "c8e6ef7f-4837-4fed-9a5e-060b79c89857",
     "typedWidgetInfo": {
      "autoCreated": false,
      "defaultValue": "",
      "label": "",
      "name": "landing_to_vault_load_tracking_table",
      "options": {
       "widgetDisplayType": "Text",
       "validationRegex": null
      },
      "parameterDataType": "String"
     },
     "widgetInfo": {
      "widgetType": "text",
      "defaultValue": "",
      "label": "",
      "name": "landing_to_vault_load_tracking_table",
      "options": {
       "widgetType": "text",
       "autoCreated": null,
       "validationRegex": null
      }
     }
    },
    "vault_to_anonymized_load_tracking_table": {
     "currentValue": "",
     "nuid": "178a512d-7d5a-468a-b01c-1aeb7e4f1460",
     "typedWidgetInfo": {
      "autoCreated": false,
      "defaultValue": "",
      "label": "",
      "name": "vault_to_anonymized_load_tracking_table",
      "options": {
       "widgetDisplayType": "Text",
       "validationRegex": null
      },
      "parameterDataType": "String"
     },
     "widgetInfo": {
      "widgetType": "text",
      "defaultValue": "",
      "label": "",
      "name": "vault_to_anonymized_load_tracking_table",
      "options": {
       "widgetType": "text",
       "autoCreated": null,
       "validationRegex": null
      }
     }
    }
   }
  },
  "language_info": {
   "name": "python"
  }
 },
 "nbformat": 4,
 "nbformat_minor": 0
}