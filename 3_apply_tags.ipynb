{
 "cells": [
  {
   "cell_type": "markdown",
   "metadata": {
    "application/vnd.databricks.v1+cell": {
     "cellMetadata": {
      "byteLimit": 2048000,
      "rowLimit": 10000
     },
     "inputWidgets": {},
     "nuid": "89122645-736c-41f2-bcf5-1f2dd2627842",
     "showTitle": false,
     "tableResultSettingsMap": {},
     "title": ""
    }
   },
   "source": [
    "Run the register-widgets notebook to create all the widgets required for the notebook"
   ]
  },
  {
   "cell_type": "code",
   "execution_count": 0,
   "metadata": {
    "application/vnd.databricks.v1+cell": {
     "cellMetadata": {
      "byteLimit": 2048000,
      "rowLimit": 10000
     },
     "inputWidgets": {},
     "nuid": "d1d4825d-ce09-48bf-af0f-bcf3e53c6571",
     "showTitle": false,
     "tableResultSettingsMap": {},
     "title": ""
    }
   },
   "outputs": [],
   "source": [
    "%run ./register_widgets"
   ]
  },
  {
   "cell_type": "markdown",
   "metadata": {
    "application/vnd.databricks.v1+cell": {
     "cellMetadata": {
      "byteLimit": 2048000,
      "rowLimit": 10000
     },
     "inputWidgets": {},
     "nuid": "acd7984a-2863-45c3-9ddb-db23cfc55b7b",
     "showTitle": false,
     "tableResultSettingsMap": {},
     "title": ""
    }
   },
   "source": [
    "Calling register_widgets() will create all the widgets in the notebook. Subsequently get_parameters() is used for retrieving all the widget values as a dictionary"
   ]
  },
  {
   "cell_type": "code",
   "execution_count": 0,
   "metadata": {
    "application/vnd.databricks.v1+cell": {
     "cellMetadata": {
      "byteLimit": 2048000,
      "rowLimit": 10000
     },
     "inputWidgets": {},
     "nuid": "598ef4f4-daba-4d83-b2b1-ea3e504d882e",
     "showTitle": false,
     "tableResultSettingsMap": {},
     "title": ""
    }
   },
   "outputs": [],
   "source": [
    "register_widgets()\n",
    "params = get_parameters()"
   ]
  },
  {
   "cell_type": "code",
   "execution_count": 0,
   "metadata": {
    "application/vnd.databricks.v1+cell": {
     "cellMetadata": {
      "byteLimit": 2048000,
      "rowLimit": 10000
     },
     "inputWidgets": {},
     "nuid": "48cfd719-1eb5-449a-b1a8-50546ec797c6",
     "showTitle": false,
     "tableResultSettingsMap": {},
     "title": ""
    }
   },
   "outputs": [],
   "source": [
    "secure_core_clasifier_volume_location = params['secure_core_clasifier_volume_location']\n",
    "secure_core_landing_catalog_name = params['secure_core_landing_catalog_name']"
   ]
  },
  {
   "cell_type": "markdown",
   "metadata": {
    "application/vnd.databricks.v1+cell": {
     "cellMetadata": {
      "byteLimit": 2048000,
      "rowLimit": 10000
     },
     "inputWidgets": {},
     "nuid": "c02be629-712b-4e3c-bbea-5f9decdd1568",
     "showTitle": false,
     "tableResultSettingsMap": {},
     "title": ""
    }
   },
   "source": [
    "The below cell will read the manifest file (json file) that has the definition of the schemas, tables and columns defined in Unity Catalog. It will check if the definition of the manifest file matches with schema and table definition using system tables. If there is a mismatch, subsequent steps will not be excuted."
   ]
  },
  {
   "cell_type": "code",
   "execution_count": 0,
   "metadata": {
    "application/vnd.databricks.v1+cell": {
     "cellMetadata": {
      "byteLimit": 2048000,
      "rowLimit": 10000
     },
     "inputWidgets": {},
     "nuid": "cac0de13-d6bb-4d41-8baf-a54f9bbf6a72",
     "showTitle": false,
     "tableResultSettingsMap": {},
     "title": ""
    }
   },
   "outputs": [],
   "source": [
    "from pyspark.sql.functions import explode, col, create_map, struct, lit, concat\n",
    "from pyspark.sql.types import StructType\n",
    "\n",
    "# Step 1: Read attribute classification JSON files from the given path (multiline JSON enabled)\n",
    "#There can be either one file for all schemas and tables or multiple files for each schema\n",
    "#Filter attributes that do not have any tags\n",
    "df_attribute_classifications = spark.read\\\n",
    "                      .option(\"multiLine\", True)\\\n",
    "                      .json(f\"{secure_core_clasifier_volume_location}/*.json\")\\\n",
    "                      .select(explode(\"schemas\").alias(\"schemas\"))\\\n",
    "                      .select(col(\"schemas.schema_name\"),\n",
    "                              explode(\"schemas.tables\").alias(\"tables\")\n",
    "                              )\\\n",
    "                      .select(col(\"schema_name\"),\n",
    "                              col(\"tables.table_name\"),\n",
    "                              explode(\"tables.attributes\").alias(\"attributes\")\n",
    "                              )\\\n",
    "                      .select(col(\"schema_name\"),\n",
    "                              col(\"table_name\"),\n",
    "                              col(\"attributes.attribute_name\").alias(\"column_name\"),\n",
    "                              col(\"attributes.tags\").alias(\"tags\")\n",
    "                              )\\\n",
    "                      .filter(col(\"tags\").isNotNull())\n",
    "\n",
    "# Step 2: Convert 'tags' struct to a map (key-value pairs), if it's a StructType. \n",
    "# This will create seperate entry for each tag for the same attribute.\n",
    "tags = df_attribute_classifications.select(\"tags\").schema[0].dataType\n",
    "if isinstance(tags, StructType):\n",
    "  kv_pairs = []\n",
    "  for f in tags.fields:\n",
    "    kv_pairs.extend([lit(f.name), col(f\"tags.{f.name}\")])\n",
    "  df_attribute_classifications = df_attribute_classifications.withColumn(\"tags\", create_map(*kv_pairs))\n",
    "else:\n",
    "  df_attribute_classifications = df_attribute_classifications.withColumn(\"tags\", col(\"tags\"))\n",
    "\n",
    "#display(df_attribute_classifications)\n",
    "\n",
    "# Step 3: Explode the map of tags into individual rows (key = tag_name, value = tag_value)\n",
    "df_attribute_classifications = df_attribute_classifications\\\n",
    "                                .select(\n",
    "                                        \"schema_name\",\n",
    "                                        \"table_name\",\n",
    "                                        \"column_name\",\n",
    "                                        explode(\"tags\").alias(\"tag_name\", \"tag_value\")\n",
    "                                        )\\\n",
    "                                .filter(col(\"tag_value\").isNotNull())\n",
    "#display(df_attribute_classifications)\n",
    "\n",
    "#Alias the dataframe for join condition\n",
    "df_attribute_classifications = df_attribute_classifications.alias(\"attribute_classifications\")"
   ]
  },
  {
   "cell_type": "markdown",
   "metadata": {
    "application/vnd.databricks.v1+cell": {
     "cellMetadata": {
      "byteLimit": 2048000,
      "rowLimit": 10000
     },
     "inputWidgets": {},
     "nuid": "ef4255fa-3792-4dd2-9cbb-6d99c3912934",
     "showTitle": false,
     "tableResultSettingsMap": {},
     "title": ""
    }
   },
   "source": [
    "Get the list of schema, tables and column definition from system tables to evaluate if the definition in the manifest file matches with the definition in the system tables."
   ]
  },
  {
   "cell_type": "code",
   "execution_count": 0,
   "metadata": {
    "application/vnd.databricks.v1+cell": {
     "cellMetadata": {
      "byteLimit": 2048000,
      "rowLimit": 10000
     },
     "inputWidgets": {},
     "nuid": "7dd5799d-4a90-4705-be28-1abc9a4ec7a0",
     "showTitle": false,
     "tableResultSettingsMap": {},
     "title": ""
    }
   },
   "outputs": [],
   "source": [
    "# Step 3: Get the list of all columns for each schema and table from the landing catalog to compare with the manifest file\n",
    "df_landing_catalog_table_columns = spark.sql(f\"select table_schema as schema_name, table_name, column_name from system.information_schema.columns where table_catalog = '{secure_core_landing_catalog_name}'\")\n",
    "#display(df_landing_catalog_table_columns)\n",
    "\n",
    "df_landing_catalog_table_columns = df_landing_catalog_table_columns.alias(\"landing_catalog_table_columns\")\n",
    "\n",
    "join_keys = [\"schema_name\", \"table_name\", \"column_name\"]\n",
    "\n",
    "#Left join all the attributes from the manifest files with the table columns from the landing catalog \n",
    "df_tags = df_attribute_classifications.join(\n",
    "              df_landing_catalog_table_columns\n",
    "              , on=[col(f\"attribute_classifications.{k}\") == col(f\"landing_catalog_table_columns.{k}\") for k in join_keys], how=\"left\")\n",
    "#display(df_tags)\n",
    "\n",
    "#Check for any mismatch between the schema, table and column definition in the manifest file and landing catalog\n",
    "df_mismatch_classification = df_tags.select(\"attribute_classifications.schema_name\",\n",
    "                                            \"attribute_classifications.table_name\",\n",
    "                                            \"attribute_classifications.column_name\").distinct()\\\n",
    "                                            .filter(col(\"landing_catalog_table_columns.schema_name\").isNull())\n",
    "df_mismatch_classification = df_mismatch_classification\\\n",
    "                              .withColumn(\"reason\", lit(\"The combination of schema_name, table_name, column_name does not exist in landing catalog\"))\n",
    "display(df_mismatch_classification)"
   ]
  },
  {
   "cell_type": "markdown",
   "metadata": {
    "application/vnd.databricks.v1+cell": {
     "cellMetadata": {
      "byteLimit": 2048000,
      "rowLimit": 10000
     },
     "inputWidgets": {},
     "nuid": "b91e16c1-ef87-4997-829c-e241aaca90bd",
     "showTitle": false,
     "tableResultSettingsMap": {},
     "title": ""
    }
   },
   "source": [
    "If there is no mismatch identified, then retrieve the existing column tags of all the tables in the landing catalog and compare with the column tags defined in the manifest file. If there are new tag definition identified in the manifest file, create and execute ALTER statement to those table column attributes in Unity Catalog."
   ]
  },
  {
   "cell_type": "code",
   "execution_count": 0,
   "metadata": {
    "application/vnd.databricks.v1+cell": {
     "cellMetadata": {
      "byteLimit": 2048000,
      "implicitDf": true,
      "rowLimit": 10000
     },
     "inputWidgets": {},
     "nuid": "18ad68f4-987e-459e-a3bc-0e1012665633",
     "showTitle": false,
     "tableResultSettingsMap": {},
     "title": ""
    }
   },
   "outputs": [],
   "source": [
    "#Step 4: If there is no mismatch identified, then compare the tags in the manifest file with the landing catalog. Fetch the tags in the landing catalog using system tables.\n",
    "if(df_mismatch_classification.count() == 0):\n",
    "  \n",
    "  df_landing_catalog_tags = spark.sql(f\"select schema_name, table_name, column_name, tag_name, tag_value from system.information_schema.column_tags where catalog_name = '{secure_core_landing_catalog_name}'\")\n",
    "  #display(df_landing_catalog_tags)\n",
    "\n",
    "  df_landing_catalog_tags = df_landing_catalog_tags.alias(\"landing_catalog_tags\")\n",
    "\n",
    "  join_keys = [\"schema_name\", \"table_name\", \"column_name\", \"tag_name\", \"tag_value\"]\n",
    "  \n",
    "  #Left join all the table column tags from the manifest file with the table column tags from the landing catalog. If there are any new tags defined in the manifest file, create an ALTER statement to add the tags to the table columns in landing catalog.\n",
    "  df_tags = df_attribute_classifications.join(\n",
    "              df_landing_catalog_tags\n",
    "              , on=[col(f\"attribute_classifications.{k}\") == col(f\"landing_catalog_tags.{k}\") for k in join_keys], how=\"left\")\n",
    "  #display(df_tags)\n",
    "  df_missing_tags_in_landing_catalog = df_tags.select(\"attribute_classifications.*\")\\\n",
    "                                            .filter(col(\"landing_catalog_tags.tag_value\").isNull())\n",
    "  #display(df_missing_tags_in_landing_catalog)\n",
    "\n",
    "  #For new tags identified in the manifest file, create and execute ALTER statements to add the tags to the table columns in landing catalog.\n",
    "  rows = df_missing_tags_in_landing_catalog.select(\"schema_name\", \"table_name\", \"column_name\", \"tag_name\", \"tag_value\").collect()\n",
    "\n",
    "  alter_statements = [\n",
    "    f\"ALTER TABLE `{secure_core_landing_catalog_name}`.`{row['schema_name']}`.`{row['table_name']}` \"\n",
    "    f\"ALTER COLUMN {row['column_name']} \"\n",
    "    f\"SET TAGS ('{row['tag_name']}' = '{row['tag_value']}')\"\n",
    "    for row in rows\n",
    "  ]\n",
    "\n",
    "  for stmt in alter_statements:\n",
    "    try:\n",
    "      #print(stmt)\n",
    "      spark.sql(stmt)\n",
    "    except Exception as e:\n",
    "      print(f\"Failed Executing Statement: {stmt}\\n Error: {e}\")\n",
    "else:\n",
    "  print(\"There are configuration mismatch between attributes in manifest file and landing catalog \")"
   ]
  }
 ],
 "metadata": {
  "application/vnd.databricks.v1+notebook": {
   "computePreferences": null,
   "dashboards": [],
   "environmentMetadata": {
    "base_environment": "",
    "environment_version": "2"
   },
   "inputWidgetPreferences": null,
   "language": "python",
   "notebookMetadata": {
    "mostRecentlyExecutedCommandWithImplicitDF": {
     "commandId": 2275659825134295,
     "dataframes": [
      "_sqldf"
     ]
    },
    "pythonIndentUnit": 2
   },
   "notebookName": "3_apply_tags",
   "widgets": {
    "individual_attributes_schema_name": {
     "currentValue": "",
     "nuid": "4c3c3579-65d1-4d3b-afa3-404deedc3749",
     "typedWidgetInfo": {
      "autoCreated": false,
      "defaultValue": "",
      "label": "",
      "name": "individual_attributes_schema_name",
      "options": {
       "widgetDisplayType": "Text",
       "validationRegex": null
      },
      "parameterDataType": "String"
     },
     "widgetInfo": {
      "widgetType": "text",
      "defaultValue": "",
      "label": "",
      "name": "individual_attributes_schema_name",
      "options": {
       "widgetType": "text",
       "autoCreated": null,
       "validationRegex": null
      }
     }
    },
    "landing_tables_version_tracking_table_name": {
     "currentValue": "",
     "nuid": "01eef7ae-99ec-4c2b-adaa-9633eb027d9f",
     "typedWidgetInfo": {
      "autoCreated": false,
      "defaultValue": "",
      "label": "",
      "name": "landing_tables_version_tracking_table_name",
      "options": {
       "widgetDisplayType": "Text",
       "validationRegex": null
      },
      "parameterDataType": "String"
     },
     "widgetInfo": {
      "widgetType": "text",
      "defaultValue": "",
      "label": "",
      "name": "landing_tables_version_tracking_table_name",
      "options": {
       "widgetType": "text",
       "autoCreated": null,
       "validationRegex": null
      }
     }
    },
    "landing_to_vault_load_tracking_table": {
     "currentValue": "",
     "nuid": "2443000e-faf8-42fe-8de3-96670f683fec",
     "typedWidgetInfo": {
      "autoCreated": false,
      "defaultValue": "",
      "label": "",
      "name": "landing_to_vault_load_tracking_table",
      "options": {
       "widgetDisplayType": "Text",
       "validationRegex": null
      },
      "parameterDataType": "String"
     },
     "widgetInfo": {
      "widgetType": "text",
      "defaultValue": "",
      "label": "",
      "name": "landing_to_vault_load_tracking_table",
      "options": {
       "widgetType": "text",
       "autoCreated": null,
       "validationRegex": null
      }
     }
    },
    "secure_core_catalog_name": {
     "currentValue": "",
     "nuid": "99493b4a-9450-4433-8c1a-c44a16d71c76",
     "typedWidgetInfo": {
      "autoCreated": false,
      "defaultValue": "",
      "label": "",
      "name": "secure_core_catalog_name",
      "options": {
       "widgetDisplayType": "Text",
       "validationRegex": null
      },
      "parameterDataType": "String"
     },
     "widgetInfo": {
      "widgetType": "text",
      "defaultValue": "",
      "label": "",
      "name": "secure_core_catalog_name",
      "options": {
       "widgetType": "text",
       "autoCreated": null,
       "validationRegex": null
      }
     }
    },
    "secure_core_clasifier_volume_location": {
     "currentValue": "/Volumes/edai-00001-dev-a01-masking/default/classifier",
     "nuid": "f0401d24-f18d-4a1d-898f-364edecffeeb",
     "typedWidgetInfo": {
      "autoCreated": false,
      "defaultValue": "",
      "label": "",
      "name": "secure_core_clasifier_volume_location",
      "options": {
       "widgetDisplayType": "Text",
       "validationRegex": null
      },
      "parameterDataType": "String"
     },
     "widgetInfo": {
      "widgetType": "text",
      "defaultValue": "",
      "label": "",
      "name": "secure_core_clasifier_volume_location",
      "options": {
       "widgetType": "text",
       "autoCreated": null,
       "validationRegex": null
      }
     }
    },
    "secure_core_decrypt_dsk_function_name": {
     "currentValue": "",
     "nuid": "70410578-bfb9-4716-a809-c37dad74c54c",
     "typedWidgetInfo": {
      "autoCreated": false,
      "defaultValue": "",
      "label": "",
      "name": "secure_core_decrypt_dsk_function_name",
      "options": {
       "widgetDisplayType": "Text",
       "validationRegex": null
      },
      "parameterDataType": "String"
     },
     "widgetInfo": {
      "widgetType": "text",
      "defaultValue": "",
      "label": "",
      "name": "secure_core_decrypt_dsk_function_name",
      "options": {
       "widgetType": "text",
       "autoCreated": null,
       "validationRegex": null
      }
     }
    },
    "secure_core_generate_kek_dsk_function_name": {
     "currentValue": "",
     "nuid": "3424f33f-7c0d-4125-a99f-d59c3c4f5270",
     "typedWidgetInfo": {
      "autoCreated": false,
      "defaultValue": "",
      "label": "",
      "name": "secure_core_generate_kek_dsk_function_name",
      "options": {
       "widgetDisplayType": "Text",
       "validationRegex": null
      },
      "parameterDataType": "String"
     },
     "widgetInfo": {
      "widgetType": "text",
      "defaultValue": "",
      "label": "",
      "name": "secure_core_generate_kek_dsk_function_name",
      "options": {
       "widgetType": "text",
       "autoCreated": null,
       "validationRegex": null
      }
     }
    },
    "secure_core_get_decrypted_dsk_function_name": {
     "currentValue": "",
     "nuid": "53ae0742-00f6-427c-a75e-08a26d461b03",
     "typedWidgetInfo": {
      "autoCreated": false,
      "defaultValue": "",
      "label": null,
      "name": "secure_core_get_decrypted_dsk_function_name",
      "options": {
       "widgetDisplayType": "Text",
       "validationRegex": null
      },
      "parameterDataType": "String"
     },
     "widgetInfo": {
      "widgetType": "text",
      "defaultValue": "",
      "label": null,
      "name": "secure_core_get_decrypted_dsk_function_name",
      "options": {
       "widgetType": "text",
       "autoCreated": false,
       "validationRegex": null
      }
     }
    },
    "secure_core_key_vault_name": {
     "currentValue": "",
     "nuid": "3f2798cc-4f5b-47ee-a41c-f8d9248ec6d9",
     "typedWidgetInfo": {
      "autoCreated": false,
      "defaultValue": "",
      "label": "",
      "name": "secure_core_key_vault_name",
      "options": {
       "widgetDisplayType": "Text",
       "validationRegex": null
      },
      "parameterDataType": "String"
     },
     "widgetInfo": {
      "widgetType": "text",
      "defaultValue": "",
      "label": "",
      "name": "secure_core_key_vault_name",
      "options": {
       "widgetType": "text",
       "autoCreated": null,
       "validationRegex": null
      }
     }
    },
    "secure_core_landing_catalog_name": {
     "currentValue": "edai-00001-dev-a01-landing",
     "nuid": "d3bdb4a5-e3cb-40be-9028-01db7614287a",
     "typedWidgetInfo": {
      "autoCreated": false,
      "defaultValue": "",
      "label": "",
      "name": "secure_core_landing_catalog_name",
      "options": {
       "widgetDisplayType": "Text",
       "validationRegex": null
      },
      "parameterDataType": "String"
     },
     "widgetInfo": {
      "widgetType": "text",
      "defaultValue": "",
      "label": "",
      "name": "secure_core_landing_catalog_name",
      "options": {
       "widgetType": "text",
       "autoCreated": null,
       "validationRegex": null
      }
     }
    },
    "secure_core_non_pci_pii_catalog_name": {
     "currentValue": "",
     "nuid": "000b7f57-f445-4749-9b74-56eebd6920cf",
     "typedWidgetInfo": {
      "autoCreated": false,
      "defaultValue": "",
      "label": "",
      "name": "secure_core_non_pci_pii_catalog_name",
      "options": {
       "widgetDisplayType": "Text",
       "validationRegex": null
      },
      "parameterDataType": "String"
     },
     "widgetInfo": {
      "widgetType": "text",
      "defaultValue": "",
      "label": "",
      "name": "secure_core_non_pci_pii_catalog_name",
      "options": {
       "widgetType": "text",
       "autoCreated": null,
       "validationRegex": null
      }
     }
    },
    "secure_core_pci_pii_attribute_table_name": {
     "currentValue": "pci_pii_attributes",
     "nuid": "88d0031d-eea1-4a6d-8296-552b81a9d605",
     "typedWidgetInfo": {
      "autoCreated": false,
      "defaultValue": "",
      "label": "",
      "name": "secure_core_pci_pii_attribute_table_name",
      "options": {
       "widgetDisplayType": "Text",
       "validationRegex": null
      },
      "parameterDataType": "String"
     },
     "widgetInfo": {
      "widgetType": "text",
      "defaultValue": "",
      "label": "",
      "name": "secure_core_pci_pii_attribute_table_name",
      "options": {
       "widgetType": "text",
       "autoCreated": null,
       "validationRegex": null
      }
     }
    },
    "secure_core_pci_tag_name": {
     "currentValue": "",
     "nuid": "171e9abb-f3b3-4617-8bc7-b22cecf5c4c3",
     "typedWidgetInfo": {
      "autoCreated": false,
      "defaultValue": "",
      "label": "",
      "name": "secure_core_pci_tag_name",
      "options": {
       "widgetDisplayType": "Text",
       "validationRegex": null
      },
      "parameterDataType": "String"
     },
     "widgetInfo": {
      "widgetType": "text",
      "defaultValue": "",
      "label": "",
      "name": "secure_core_pci_tag_name",
      "options": {
       "widgetType": "text",
       "autoCreated": null,
       "validationRegex": null
      }
     }
    },
    "secure_core_pii_tag_name": {
     "currentValue": "",
     "nuid": "3a88e41f-08cf-4d29-acb4-864210be3297",
     "typedWidgetInfo": {
      "autoCreated": false,
      "defaultValue": "",
      "label": "",
      "name": "secure_core_pii_tag_name",
      "options": {
       "widgetDisplayType": "Text",
       "validationRegex": null
      },
      "parameterDataType": "String"
     },
     "widgetInfo": {
      "widgetType": "text",
      "defaultValue": "",
      "label": "",
      "name": "secure_core_pii_tag_name",
      "options": {
       "widgetType": "text",
       "autoCreated": null,
       "validationRegex": null
      }
     }
    },
    "secure_core_secret_scope_name": {
     "currentValue": "smuralik-fis-secret-scope-kv",
     "nuid": "76301614-d75a-4642-a00c-f34bf3cb1362",
     "typedWidgetInfo": {
      "autoCreated": false,
      "defaultValue": "",
      "label": "",
      "name": "secure_core_secret_scope_name",
      "options": {
       "widgetDisplayType": "Text",
       "validationRegex": null
      },
      "parameterDataType": "String"
     },
     "widgetInfo": {
      "widgetType": "text",
      "defaultValue": "",
      "label": "",
      "name": "secure_core_secret_scope_name",
      "options": {
       "widgetType": "text",
       "autoCreated": null,
       "validationRegex": null
      }
     }
    },
    "secure_core_sp_client_id_key": {
     "currentValue": "fis-kv-client-id",
     "nuid": "7bda6d40-461f-43ce-882b-6c0c4bf4d7b9",
     "typedWidgetInfo": {
      "autoCreated": false,
      "defaultValue": "",
      "label": "",
      "name": "secure_core_sp_client_id_key",
      "options": {
       "widgetDisplayType": "Text",
       "validationRegex": null
      },
      "parameterDataType": "String"
     },
     "widgetInfo": {
      "widgetType": "text",
      "defaultValue": "",
      "label": "",
      "name": "secure_core_sp_client_id_key",
      "options": {
       "widgetType": "text",
       "autoCreated": null,
       "validationRegex": null
      }
     }
    },
    "secure_core_sp_client_secret_key": {
     "currentValue": "fis-kv-secret-id",
     "nuid": "63331a6a-8fbf-4986-a8ab-0db8cacdc228",
     "typedWidgetInfo": {
      "autoCreated": false,
      "defaultValue": "",
      "label": "",
      "name": "secure_core_sp_client_secret_key",
      "options": {
       "widgetDisplayType": "Text",
       "validationRegex": null
      },
      "parameterDataType": "String"
     },
     "widgetInfo": {
      "widgetType": "text",
      "defaultValue": "",
      "label": "",
      "name": "secure_core_sp_client_secret_key",
      "options": {
       "widgetType": "text",
       "autoCreated": null,
       "validationRegex": null
      }
     }
    },
    "secure_core_sp_tenant_id_key": {
     "currentValue": "fis-kv-tenant-id",
     "nuid": "de8c3d6d-0684-495e-a8a5-3129d34a5abd",
     "typedWidgetInfo": {
      "autoCreated": false,
      "defaultValue": "",
      "label": "",
      "name": "secure_core_sp_tenant_id_key",
      "options": {
       "widgetDisplayType": "Text",
       "validationRegex": null
      },
      "parameterDataType": "String"
     },
     "widgetInfo": {
      "widgetType": "text",
      "defaultValue": "",
      "label": "",
      "name": "secure_core_sp_tenant_id_key",
      "options": {
       "widgetType": "text",
       "autoCreated": null,
       "validationRegex": null
      }
     }
    },
    "secure_core_vault_catalog_name": {
     "currentValue": "",
     "nuid": "2d41c0ad-ab63-4ca5-843b-078c09c9e52e",
     "typedWidgetInfo": {
      "autoCreated": false,
      "defaultValue": "",
      "label": "",
      "name": "secure_core_vault_catalog_name",
      "options": {
       "widgetDisplayType": "Text",
       "validationRegex": null
      },
      "parameterDataType": "String"
     },
     "widgetInfo": {
      "widgetType": "text",
      "defaultValue": "",
      "label": "",
      "name": "secure_core_vault_catalog_name",
      "options": {
       "widgetType": "text",
       "autoCreated": null,
       "validationRegex": null
      }
     }
    },
    "vault_tables_version_tracking_table_name": {
     "currentValue": "",
     "nuid": "124e7cdb-6434-4ee2-b41e-ffe3744b2add",
     "typedWidgetInfo": {
      "autoCreated": false,
      "defaultValue": "",
      "label": "",
      "name": "vault_tables_version_tracking_table_name",
      "options": {
       "widgetDisplayType": "Text",
       "validationRegex": null
      },
      "parameterDataType": "String"
     },
     "widgetInfo": {
      "widgetType": "text",
      "defaultValue": "",
      "label": "",
      "name": "vault_tables_version_tracking_table_name",
      "options": {
       "widgetType": "text",
       "autoCreated": null,
       "validationRegex": null
      }
     }
    },
    "vault_to_anonymized_load_tracking_table": {
     "currentValue": "",
     "nuid": "f56d8ac1-c7a2-4746-af9f-3802ffa2142c",
     "typedWidgetInfo": {
      "autoCreated": false,
      "defaultValue": "",
      "label": "",
      "name": "vault_to_anonymized_load_tracking_table",
      "options": {
       "widgetDisplayType": "Text",
       "validationRegex": null
      },
      "parameterDataType": "String"
     },
     "widgetInfo": {
      "widgetType": "text",
      "defaultValue": "",
      "label": "",
      "name": "vault_to_anonymized_load_tracking_table",
      "options": {
       "widgetType": "text",
       "autoCreated": null,
       "validationRegex": null
      }
     }
    },
    "vault_to_individual_attributes_load_tracking_table": {
     "currentValue": "",
     "nuid": "9dbe2204-04d1-4e89-954e-3f04517398d5",
     "typedWidgetInfo": {
      "autoCreated": false,
      "defaultValue": "",
      "label": "",
      "name": "vault_to_individual_attributes_load_tracking_table",
      "options": {
       "widgetDisplayType": "Text",
       "validationRegex": null
      },
      "parameterDataType": "String"
     },
     "widgetInfo": {
      "widgetType": "text",
      "defaultValue": "",
      "label": "",
      "name": "vault_to_individual_attributes_load_tracking_table",
      "options": {
       "widgetType": "text",
       "autoCreated": null,
       "validationRegex": null
      }
     }
    },
    "version_tracking_table_name": {
     "currentValue": "",
     "nuid": "7d308b64-dd61-478a-9889-c8a96bb85bf5",
     "typedWidgetInfo": {
      "autoCreated": false,
      "defaultValue": "",
      "label": "",
      "name": "version_tracking_table_name",
      "options": {
       "widgetDisplayType": "Text",
       "validationRegex": null
      },
      "parameterDataType": "String"
     },
     "widgetInfo": {
      "widgetType": "text",
      "defaultValue": "",
      "label": "",
      "name": "version_tracking_table_name",
      "options": {
       "widgetType": "text",
       "autoCreated": null,
       "validationRegex": null
      }
     }
    }
   }
  },
  "language_info": {
   "name": "python"
  }
 },
 "nbformat": 4,
 "nbformat_minor": 0
}
